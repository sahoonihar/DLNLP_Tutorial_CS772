{
 "cells": [
  {
   "cell_type": "markdown",
   "metadata": {
    "id": "LY2qU-O5NmcZ"
   },
   "source": [
    "## 1. Set up"
   ]
  },
  {
   "cell_type": "markdown",
   "metadata": {
    "id": "pZ8Gv3FpmPf-"
   },
   "source": [
    "### 1.1. Import Libraries"
   ]
  },
  {
   "cell_type": "code",
   "execution_count": 1,
   "metadata": {
    "colab": {
     "base_uri": "https://localhost:8080/",
     "height": 1000
    },
    "id": "cVWONqDLmhOw",
    "outputId": "6813c6ea-770a-49c0-b40d-33e6fcc0f0e4"
   },
   "outputs": [],
   "source": [
    "import os\n",
    "import re\n",
    "from tqdm import tqdm\n",
    "import numpy as np\n",
    "import pandas as pd\n",
    "import nltk\n",
    "# nltk.download(\"all\")\n",
    "import matplotlib.pyplot as plt\n",
    "import torch\n",
    "\n",
    "%matplotlib inline"
   ]
  },
  {
   "cell_type": "markdown",
   "metadata": {
    "id": "rqGw820-mqE7"
   },
   "source": [
    "### 1.2. Download Datasets"
   ]
  },
  {
   "cell_type": "markdown",
   "metadata": {
    "id": "x4iNtHw8NG6Q"
   },
   "source": [
    "The dataset we will use is Movie Review (MR), a sentence polarity dataset from (Pang and Lee, 2005). The dataset has 5331 positive and 5331 negative processed sentences/snippets."
   ]
  },
  {
   "cell_type": "code",
   "execution_count": 3,
   "metadata": {
    "colab": {
     "base_uri": "https://localhost:8080/",
     "height": 255
    },
    "id": "9wLTmcbImt6b",
    "outputId": "e4d8aa72-fa3a-4d5f-b8d6-9e5915bc70a6"
   },
   "outputs": [],
   "source": [
    "URL = 'https://www.cs.cornell.edu/people/pabo/movie-review-data/rt-polaritydata.tar.gz'\n",
    "# Download Datasets\n",
    "!wget -P 'Data/' $URL\n",
    "# Unzip\n",
    "!tar xvzf 'Data/rt-polaritydata.tar.gz' -C 'Data/'"
   ]
  },
  {
   "cell_type": "code",
   "execution_count": 4,
   "metadata": {
    "id": "y0jDxQUCtxwz"
   },
   "outputs": [],
   "source": [
    "def load_text(path):\n",
    "    \"\"\"Load text data, lowercase text and save to a list.\"\"\"\n",
    "\n",
    "    with open(path, 'rb') as f:\n",
    "        texts = []\n",
    "        for line in f:\n",
    "            texts.append(line.decode(errors='ignore').lower().strip())\n",
    "\n",
    "    return texts\n",
    "\n",
    "# Load files\n",
    "neg_text = load_text('Data/rt-polaritydata/rt-polarity.neg')\n",
    "pos_text = load_text('Data/rt-polaritydata/rt-polarity.pos')\n",
    "\n",
    "# Concatenate and label data\n",
    "texts = np.array(neg_text + pos_text)\n",
    "labels = np.array([0]*len(neg_text) + [1]*len(pos_text))"
   ]
  },
  {
   "cell_type": "markdown",
   "metadata": {
    "id": "3_zdk5uPVW-c"
   },
   "source": [
    "### 1.3. Download fastText Word Vectors"
   ]
  },
  {
   "cell_type": "code",
   "execution_count": 8,
   "metadata": {
    "colab": {
     "base_uri": "https://localhost:8080/",
     "height": 238
    },
    "id": "INcMZsYe7HQ1",
    "outputId": "70f99328-37b9-406e-c175-603a91acc29d"
   },
   "outputs": [],
   "source": [
    "%%time\n",
    "URL = \"https://dl.fbaipublicfiles.com/fasttext/vectors-english/crawl-300d-2M.vec.zip\"\n",
    "FILE = \"fastText\"\n",
    "\n",
    "if os.path.isdir(FILE):\n",
    "    print(\"fastText exists.\")\n",
    "else:\n",
    "    !wget -P $FILE $URL\n",
    "    !unzip $FILE/crawl-300d-2M.vec.zip -d $FILE"
   ]
  },
  {
   "cell_type": "markdown",
   "metadata": {
    "id": "5KXpMukJ2jzl"
   },
   "source": [
    "### 1.4. Set up GPU for Training"
   ]
  },
  {
   "cell_type": "code",
   "execution_count": 9,
   "metadata": {
    "colab": {
     "base_uri": "https://localhost:8080/",
     "height": 51
    },
    "id": "T73lLtFe2sYl",
    "outputId": "b80952f5-b6c8-4fab-f91a-4413e2b13c60"
   },
   "outputs": [
    {
     "name": "stdout",
     "output_type": "stream",
     "text": [
      "There are 4 GPU(s) available.\n",
      "Device name: GeForce RTX 2080 Ti\n"
     ]
    }
   ],
   "source": [
    "if torch.cuda.is_available():       \n",
    "    device = torch.device(\"cuda\")\n",
    "    print(f'There are {torch.cuda.device_count()} GPU(s) available.')\n",
    "    print('Device name:', torch.cuda.get_device_name(0))\n",
    "\n",
    "else:\n",
    "    print('No GPU available, using the CPU instead.')\n",
    "    device = torch.device(\"cpu\")"
   ]
  },
  {
   "cell_type": "markdown",
   "metadata": {
    "id": "hfF1N73tzOlM"
   },
   "source": [
    "## 2. Data Preparation"
   ]
  },
  {
   "cell_type": "markdown",
   "metadata": {
    "id": "_wupNcAVzzVs"
   },
   "source": [
    "### 2.1. Tokenize"
   ]
  },
  {
   "cell_type": "markdown",
   "metadata": {
    "id": "mjQVL8dIjEtk"
   },
   "source": [
    "The function `tokenize` will tokenize our sentences, build a vocabulary and fine the maximum sentence length. The function `encode` will take in the outputs of `tokenize`, perform sentence padding and return `input_ids` as a numpy array."
   ]
  },
  {
   "cell_type": "code",
   "execution_count": 10,
   "metadata": {
    "id": "4Y1QdMuWMSr5"
   },
   "outputs": [],
   "source": [
    "from nltk.tokenize import word_tokenize\n",
    "from collections import defaultdict\n",
    "\n",
    "def tokenize(texts):\n",
    "    \"\"\"Tokenize texts, build vocabulary and find maximum sentence length.\n",
    "    \n",
    "    Args:\n",
    "        texts (List[str]): List of text data\n",
    "    \n",
    "    Returns:\n",
    "        tokenized_texts (List[List[str]]): List of list of tokens\n",
    "        word2idx (Dict): Vocabulary built from the corpus\n",
    "        max_len (int): Maximum sentence length\n",
    "    \"\"\"\n",
    "\n",
    "    max_len = 0\n",
    "    tokenized_texts = []\n",
    "    word2idx = {}\n",
    "\n",
    "    # Add <pad> and <unk> tokens to the vocabulary\n",
    "    word2idx['<pad>'] = 0\n",
    "    word2idx['<unk>'] = 1\n",
    "\n",
    "    # Building our vocab from the corpus starting from index 2\n",
    "    idx = 2\n",
    "    for sent in texts:\n",
    "        tokenized_sent = word_tokenize(sent)\n",
    "\n",
    "        # Add `tokenized_sent` to `tokenized_texts`\n",
    "        tokenized_texts.append(tokenized_sent)\n",
    "\n",
    "        # Add new token to `word2idx`\n",
    "        for token in tokenized_sent:\n",
    "            if token not in word2idx:\n",
    "                word2idx[token] = idx\n",
    "                idx += 1\n",
    "\n",
    "        # Update `max_len`\n",
    "        max_len = max(max_len, len(tokenized_sent))\n",
    "\n",
    "    return tokenized_texts, word2idx, max_len\n",
    "\n",
    "def encode(tokenized_texts, word2idx, max_len):\n",
    "    \"\"\"Pad each sentence to the maximum sentence length and encode tokens to\n",
    "    their index in the vocabulary.\n",
    "\n",
    "    Returns:\n",
    "        input_ids (np.array): Array of token indexes in the vocabulary with\n",
    "            shape (N, max_len). It will the input of our CNN model.\n",
    "    \"\"\"\n",
    "\n",
    "    input_ids = []\n",
    "    for tokenized_sent in tokenized_texts:\n",
    "        # Pad sentences to max_len\n",
    "        tokenized_sent += ['<pad>'] * (max_len - len(tokenized_sent))\n",
    "\n",
    "        # Encode tokens to input_ids\n",
    "        input_id = [word2idx.get(token) for token in tokenized_sent]\n",
    "        input_ids.append(input_id)\n",
    "    \n",
    "    return np.array(input_ids)"
   ]
  },
  {
   "cell_type": "markdown",
   "metadata": {
    "id": "Zut46F0NK2b_"
   },
   "source": [
    "### 2.2. Load Pretrained Vectors"
   ]
  },
  {
   "cell_type": "markdown",
   "metadata": {
    "id": "1htIbprNlxtY"
   },
   "source": [
    "We will load the pretrain vectors for each tokens in our vocabulary. For tokens with no pretraiend vectors, we will initialize random word vectors with the same length and variance."
   ]
  },
  {
   "cell_type": "code",
   "execution_count": 11,
   "metadata": {
    "id": "uBX8y7wgNiQh"
   },
   "outputs": [],
   "source": [
    "from tqdm import tqdm_notebook\n",
    "\n",
    "def load_pretrained_vectors(word2idx, fname):\n",
    "    \"\"\"Load pretrained vectors and create embedding layers.\n",
    "    \n",
    "    Args:\n",
    "        word2idx (Dict): Vocabulary built from the corpus\n",
    "        fname (str): Path to pretrained vector file\n",
    "\n",
    "    Returns:\n",
    "        embeddings (np.array): Embedding matrix with shape (N, d) where N is\n",
    "            the size of word2idx and d is embedding dimension\n",
    "    \"\"\"\n",
    "\n",
    "    print(\"Loading pretrained vectors...\")\n",
    "    fin = open(fname, 'r', encoding='utf-8', newline='\\n', errors='ignore')\n",
    "    n, d = map(int, fin.readline().split())\n",
    "\n",
    "    # Initilize random embeddings\n",
    "    embeddings = np.random.uniform(-0.25, 0.25, (len(word2idx), d))\n",
    "    embeddings[word2idx['<pad>']] = np.zeros((d,))\n",
    "\n",
    "    # Load pretrained vectors\n",
    "    count = 0\n",
    "    for line in tqdm_notebook(fin):\n",
    "        tokens = line.rstrip().split(' ')\n",
    "        word = tokens[0]\n",
    "        if word in word2idx:\n",
    "            count += 1\n",
    "            embeddings[word2idx[word]] = np.array(tokens[1:], dtype=np.float32)\n",
    "\n",
    "    print(f\"There are {count} / {len(word2idx)} pretrained vectors found.\")\n",
    "\n",
    "    return embeddings"
   ]
  },
  {
   "cell_type": "markdown",
   "metadata": {
    "id": "Uc0J6ZXGloN7"
   },
   "source": [
    "Now let's put above steps together."
   ]
  },
  {
   "cell_type": "code",
   "execution_count": 12,
   "metadata": {
    "colab": {
     "base_uri": "https://localhost:8080/",
     "height": 134,
     "referenced_widgets": [
      "e86e2020f21648f28e2624997d91079e",
      "806b04b34b8d440b89368fd9db163f89",
      "cd215d3def9d4b559b318e2d553ed665",
      "fd7f316904434626be66df7923776b3a",
      "7387d9ffb5d74f38aa818ddb93533cab",
      "d4324168085548b48dba40e0700b28bd",
      "176caa5659c34023bcc053110bb592fe",
      "909838bbde85480fb077abf1faa9c497"
     ]
    },
    "id": "DctpztMIlgtt",
    "outputId": "f7cfeb9d-241f-4491-cab5-9b7a555bfcbd"
   },
   "outputs": [
    {
     "name": "stdout",
     "output_type": "stream",
     "text": [
      "Tokenizing...\n",
      "\n",
      "Loading pretrained vectors...\n"
     ]
    },
    {
     "name": "stderr",
     "output_type": "stream",
     "text": [
      "/opt/anaconda/envs/env_pytorch/lib/python3.7/site-packages/ipykernel_launcher.py:25: TqdmDeprecationWarning: This function will be removed in tqdm==5.0.0\n",
      "Please use `tqdm.notebook.tqdm` instead of `tqdm.tqdm_notebook`\n"
     ]
    },
    {
     "data": {
      "application/vnd.jupyter.widget-view+json": {
       "model_id": "1dac9799df114312977660f088f9ae2b",
       "version_major": 2,
       "version_minor": 0
      },
      "text/plain": [
       "0it [00:00, ?it/s]"
      ]
     },
     "metadata": {},
     "output_type": "display_data"
    },
    {
     "name": "stdout",
     "output_type": "stream",
     "text": [
      "There are 18522 / 20280 pretrained vectors found.\n"
     ]
    }
   ],
   "source": [
    "# Tokenize, build vocabulary, encode tokens\n",
    "print(\"Tokenizing...\\n\")\n",
    "tokenized_texts, word2idx, max_len = tokenize(texts)\n",
    "input_ids = encode(tokenized_texts, word2idx, max_len)\n",
    "\n",
    "# Load pretrained vectors\n",
    "embeddings = load_pretrained_vectors(word2idx, \"fastText/crawl-300d-2M.vec\")\n",
    "embeddings = torch.tensor(embeddings)"
   ]
  },
  {
   "cell_type": "code",
   "execution_count": 26,
   "metadata": {},
   "outputs": [
    {
     "data": {
      "text/plain": [
       "torch.Size([20280, 300])"
      ]
     },
     "execution_count": 26,
     "metadata": {},
     "output_type": "execute_result"
    }
   ],
   "source": [
    "embeddings.shape"
   ]
  },
  {
   "cell_type": "markdown",
   "metadata": {
    "id": "K87hskJtyeA_"
   },
   "source": [
    "### 2.3. Create PyTorch DataLoader"
   ]
  },
  {
   "cell_type": "markdown",
   "metadata": {
    "id": "VleMUhr4mlo9"
   },
   "source": [
    "We will create an iterator for our dataset using the torch DataLoader class. This will help save on memory during training and boost the training speed. The batch_size used in the paper is 50."
   ]
  },
  {
   "cell_type": "code",
   "execution_count": 13,
   "metadata": {
    "id": "k4WinIkRyive"
   },
   "outputs": [],
   "source": [
    "from torch.utils.data import (TensorDataset, DataLoader, RandomSampler,\n",
    "                              SequentialSampler)\n",
    "\n",
    "def data_loader(train_inputs, val_inputs, train_labels, val_labels,\n",
    "                batch_size=50):\n",
    "    \"\"\"Convert train and validation sets to torch.Tensors and load them to\n",
    "    DataLoader.\n",
    "    \"\"\"\n",
    "\n",
    "    # Convert data type to torch.Tensor\n",
    "    train_inputs, val_inputs, train_labels, val_labels =\\\n",
    "    tuple(torch.tensor(data) for data in\n",
    "          [train_inputs, val_inputs, train_labels, val_labels])\n",
    "\n",
    "    # Specify batch_size\n",
    "    batch_size = 50\n",
    "\n",
    "    # Create DataLoader for training data\n",
    "    train_data = TensorDataset(train_inputs, train_labels)\n",
    "    train_sampler = RandomSampler(train_data)\n",
    "    train_dataloader = DataLoader(train_data, sampler=train_sampler, batch_size=batch_size)\n",
    "\n",
    "    # Create DataLoader for validation data\n",
    "    val_data = TensorDataset(val_inputs, val_labels)\n",
    "    val_sampler = SequentialSampler(val_data)\n",
    "    val_dataloader = DataLoader(val_data, sampler=val_sampler, batch_size=batch_size)\n",
    "\n",
    "    return train_dataloader, val_dataloader"
   ]
  },
  {
   "cell_type": "markdown",
   "metadata": {
    "id": "6xiAeikanZvE"
   },
   "source": [
    "We will use 90% of the dataset for training and 10% for validation."
   ]
  },
  {
   "cell_type": "code",
   "execution_count": 15,
   "metadata": {
    "id": "7eCQRLKNZ-t7"
   },
   "outputs": [],
   "source": [
    "from sklearn.model_selection import train_test_split\n",
    "\n",
    "# Train Test Split\n",
    "train_inputs, val_inputs, train_labels, val_labels = train_test_split(\n",
    "    input_ids, labels, test_size=0.1, random_state=42)\n",
    "\n",
    "# Load data to PyTorch DataLoader\n",
    "train_dataloader, val_dataloader = \\\n",
    "data_loader(train_inputs, val_inputs, train_labels, val_labels, batch_size=50)"
   ]
  },
  {
   "cell_type": "markdown",
   "metadata": {
    "id": "2ImIIvoOSWCT"
   },
   "source": [
    "## 3. Model"
   ]
  },
  {
   "cell_type": "markdown",
   "metadata": {
    "id": "FqsrL0XToAPm"
   },
   "source": [
    "**CNN Architecture**\n",
    "\n",
    "The picture below is the illustration of the CNN architecture that we are going to build with three filter sizes: 2, 3, and 4, each of which has 2 filters."
   ]
  },
  {
   "cell_type": "markdown",
   "metadata": {
    "id": "rV15G29uqLVX"
   },
   "source": [
    "![](https://github.com/chriskhanhtran/CNN-Sentence-Classification-PyTorch/blob/master/cnn-architecture.JPG?raw=true)\n",
    "\n",
    "*CNN Architecture (Source: Zhang, 2015)*\n",
    "\n",
    "```python\n",
    "# Sample configuration:\n",
    "filter_sizes = [2, 3, 4]\n",
    "num_filters = [2, 2, 2]\n",
    "```\n",
    "\n",
    "Suppose that we are classifying the sentence \"***I like this movie very much!***\" ($N = 7$ tokens) and the dimensionality of word vectors is $d=5$. After applying the embedding layer on the input token ids, the sample sentence is presented as a 2D tensor with shape (7, 5) like an image.\n",
    "\n",
    "$$\\mathrm{x_{emb}} \\quad \\in \\mathbb{R}^{7 \\times 5}$$\n",
    "\n",
    "We then use 1-dimesional convolution to extract features from the sentence. In this example, we have 6 filters in total, and each filter has shape $(f_i, d)$ where $f_i$ is the filter size for $i \\in \\{1,...,6\\}$. Each filter will then scan over $\\mathrm{x_{emb}}$ and returns a feature map:\n",
    "\n",
    "$$\\mathrm{x_{conv_ i} = Conv1D(x_{emb})} \\quad \\in \\mathbb{R}^{N-f_i+1}$$\n",
    "\n",
    "Next, we apply the ReLU activation to $\\mathrm{x_{conv_{i}}}$ and use max-over-time-pooling to reduce each feature map to a single scalar. Then we concatenate these scalars into the final feature vector which will be fed to a fully connected layer to compute the final scores for our classes (logits).\n",
    "\n",
    "$$\\mathrm{x_{pool_i} = MaxPool(ReLU(x_{conv_i}))} \\quad \\in \\mathbb{R}$$\n",
    "\n",
    "$$\\mathrm{x_{fc} = \\texttt{concat}(x_{pool_i})} \\quad \\in \\mathbb{R}^6$$\n",
    "\n",
    "The idea here is that each filter will capture different semantic signals in the sentence (ie. happiness, humor, politic, anger...) and max-pooling will record only the strongest signal over the sentence. This logic makes sense because humans also perceive the sentiment of a sentence based on its strongest word/signal.\n",
    "\n",
    "Finally, we use a fully connected layer with the weight matrix $\\mathbf{W_{fc}} \\in \\mathbb{R}^{2 \\times 6} $ and dropout to compute $\\mathrm{logits}$, which is a vector of length 2 that keeps the scores for 2 classes.\n",
    "\n",
    "$$\\mathrm{logits = Dropout(\\mathbf{W_{fc}}x_{fc})}  \\in \\mathbb{R}^2$$\n",
    "\n",
    "An in-depth explanation of CNN can be found in this [article](https://cs231n.github.io/convolutional-networks/) and this [video](https://www.youtube.com/watch?v=YRhxdVk_sIs).\n",
    "\n",
    "\n",
    "\n",
    "\n",
    "\n",
    "\n",
    "\n",
    "\n",
    "\n"
   ]
  },
  {
   "cell_type": "markdown",
   "metadata": {},
   "source": [
    "### Max-Over-Time Pooling\n",
    "\n",
    "Similarly, we can use pooling to extract the highest value\n",
    "from sequence representations as the most important feature\n",
    "across time steps.\n",
    "The *max-over-time pooling* used in textCNN \n",
    "works like\n",
    "the one-dimensional global maximum pooling\n",
    ":cite:`Collobert.Weston.Bottou.ea.2011`. \n",
    "For a multi-channel input\n",
    "where each channel stores values\n",
    "at different time steps,\n",
    "the output at each channel\n",
    "is the maximum value \n",
    "for that channel.\n",
    "Note that\n",
    "the max-over-time pooling\n",
    "allows different numbers of time steps\n",
    "at different channels."
   ]
  },
  {
   "cell_type": "markdown",
   "metadata": {
    "id": "MgLt4c-0iWKL"
   },
   "source": [
    "### 3.1. Create CNN Model"
   ]
  },
  {
   "cell_type": "markdown",
   "metadata": {
    "id": "bmMXZ6UG9to8"
   },
   "source": [
    "For simplicity, the model above has very small configurations. The final model we'll use is much bigger but has the same architecture:\n",
    "\n",
    "|Description         |Values           |\n",
    "|:------------------:|:---------------:|\n",
    "|input word vectors  |fastText         |\n",
    "|embedding size      |300              |\n",
    "|filter sizes        |(3, 4, 5)        |\n",
    "|num filters         |(100, 100, 100)  |\n",
    "|activation          |ReLU             |\n",
    "|pooling             |1-max pooling    |\n",
    "|dropout rate        |0.5              |\n",
    "\n"
   ]
  },
  {
   "cell_type": "code",
   "execution_count": 25,
   "metadata": {
    "id": "ejGLw8TKViBY"
   },
   "outputs": [],
   "source": [
    "import torch\n",
    "import torch.nn as nn\n",
    "import torch.nn.functional as F\n",
    "\n",
    "class CNN_NLP(nn.Module):\n",
    "    \"\"\"An 1D Convulational Neural Network for Sentence Classification.\"\"\"\n",
    "    def __init__(self,\n",
    "                 pretrained_embedding=None,\n",
    "                 freeze_embedding=False,\n",
    "                 vocab_size=None,\n",
    "                 embed_dim=300,\n",
    "                 filter_sizes=[3, 4, 5],\n",
    "                 num_filters=[25, 25, 25],\n",
    "                 num_classes=2,\n",
    "                 dropout=0.5):\n",
    "        \"\"\"\n",
    "        The constructor for CNN_NLP class.\n",
    "\n",
    "        Args:\n",
    "            pretrained_embedding (torch.Tensor): Pretrained embeddings with\n",
    "                shape (vocab_size, embed_dim)\n",
    "            freeze_embedding (bool): Set to False to fine-tune pretraiend\n",
    "                vectors. Default: False\n",
    "            vocab_size (int): Need to be specified when not pretrained word\n",
    "                embeddings are not used.\n",
    "            embed_dim (int): Dimension of word vectors. Need to be specified\n",
    "                when pretrained word embeddings are not used. Default: 300\n",
    "            filter_sizes (List[int]): List of filter sizes. Default: [3, 4, 5]\n",
    "            num_filters (List[int]): List of number of filters, has the same\n",
    "                length as `filter_sizes`. Default: [100, 100, 100]\n",
    "            n_classes (int): Number of classes. Default: 2\n",
    "            dropout (float): Dropout rate. Default: 0.5\n",
    "        \"\"\"\n",
    "\n",
    "        super(CNN_NLP, self).__init__()\n",
    "        # Embedding layer\n",
    "        if pretrained_embedding is not None:\n",
    "            self.vocab_size, self.embed_dim = pretrained_embedding.shape\n",
    "            self.embedding = nn.Embedding.from_pretrained(pretrained_embedding,\n",
    "                                                          freeze=freeze_embedding)\n",
    "        else:\n",
    "            self.embed_dim = embed_dim\n",
    "            self.embedding = nn.Embedding(num_embeddings=vocab_size,\n",
    "                                          embedding_dim=self.embed_dim,\n",
    "                                          padding_idx=0,\n",
    "                                          max_norm=5.0)\n",
    "        # Conv Network\n",
    "        self.conv1d_list = nn.ModuleList([\n",
    "            nn.Conv1d(in_channels=self.embed_dim,\n",
    "                      out_channels=num_filters[i],\n",
    "                      kernel_size=filter_sizes[i])\n",
    "            for i in range(len(filter_sizes))\n",
    "        ])\n",
    "        # Fully-connected layer and Dropout\n",
    "        self.fc = nn.Linear(np.sum(num_filters), num_classes)\n",
    "        self.dropout = nn.Dropout(p=dropout)\n",
    "\n",
    "    def forward(self, input_ids):\n",
    "        \"\"\"Perform a forward pass through the network.\n",
    "\n",
    "        Args:\n",
    "            input_ids (torch.Tensor): A tensor of token ids with shape\n",
    "                (batch_size, max_sent_length)\n",
    "\n",
    "        Returns:\n",
    "            logits (torch.Tensor): Output logits with shape (batch_size,\n",
    "                n_classes)\n",
    "        \"\"\"\n",
    "\n",
    "        # Get embeddings from `input_ids`. Output shape: (b, max_len, embed_dim)\n",
    "        x_embed = self.embedding(input_ids).float()\n",
    "#         print(x_embed.shape)\n",
    "\n",
    "        # Permute `x_embed` to match input shape requirement of `nn.Conv1d`.\n",
    "        # Output shape: (b, embed_dim, max_len)\n",
    "        x_reshaped = x_embed.permute(0, 2, 1)\n",
    "\n",
    "        # Apply CNN and ReLU. Output shape: (b, num_filters[i], L_out)\n",
    "        x_conv_list = [F.relu(conv1d(x_reshaped)) for conv1d in self.conv1d_list]\n",
    "\n",
    "        # Max pooling. Output shape: (b, num_filters[i], 1)\n",
    "        x_pool_list = [F.max_pool1d(x_conv, kernel_size=x_conv.shape[2])\n",
    "            for x_conv in x_conv_list]\n",
    "        \n",
    "        # Concatenate x_pool_list to feed the fully connected layer.\n",
    "        # Output shape: (b, sum(num_filters))\n",
    "        x_fc = torch.cat([x_pool.squeeze(dim=2) for x_pool in x_pool_list],\n",
    "                         dim=1)\n",
    "        \n",
    "        # Compute logits. Output shape: (b, n_classes)\n",
    "        logits = self.fc(self.dropout(x_fc))\n",
    "\n",
    "        return logits"
   ]
  },
  {
   "cell_type": "markdown",
   "metadata": {
    "id": "nf9xEQR-yO_U"
   },
   "source": [
    "### 3.2. Optimizer"
   ]
  },
  {
   "cell_type": "markdown",
   "metadata": {
    "id": "P7TnaJvUCaz7"
   },
   "source": [
    "To train Deep Learning models, we need to define a loss function and minimize this loss. We'll use back-propagation to compute gradients and use an optimization algorithm (ie. Gradient Descent) to minimize the loss. The original paper used the Adadelta optimizer."
   ]
  },
  {
   "cell_type": "code",
   "execution_count": 24,
   "metadata": {
    "id": "lTJnvDI9xuUv"
   },
   "outputs": [],
   "source": [
    "import torch.optim as optim\n",
    "\n",
    "def initilize_model(pretrained_embedding=None,\n",
    "                    freeze_embedding=False,\n",
    "                    vocab_size=None,\n",
    "                    embed_dim=300,\n",
    "                    filter_sizes=[3, 4, 5],\n",
    "                    num_filters=[25, 25, 25],\n",
    "                    num_classes=2,\n",
    "                    dropout=0.5,\n",
    "                    learning_rate=0.01):\n",
    "    \"\"\"Instantiate a CNN model and an optimizer.\"\"\"\n",
    "\n",
    "    assert (len(filter_sizes) == len(num_filters)), \"filter_sizes and \\\n",
    "    num_filters need to be of the same length.\"\n",
    "\n",
    "    # Instantiate CNN model\n",
    "    cnn_model = CNN_NLP(pretrained_embedding=pretrained_embedding,\n",
    "                        freeze_embedding=freeze_embedding,\n",
    "                        vocab_size=vocab_size,\n",
    "                        embed_dim=embed_dim,\n",
    "                        filter_sizes=filter_sizes,\n",
    "                        num_filters=num_filters,\n",
    "                        num_classes=2,\n",
    "                        dropout=0.5)\n",
    "    \n",
    "    # Send model to `device` (GPU/CPU)\n",
    "    cnn_model.to(device)\n",
    "\n",
    "    # Instantiate Adadelta optimizer\n",
    "    optimizer = optim.Adadelta(cnn_model.parameters(),\n",
    "                               lr=learning_rate,\n",
    "                               rho=0.95)\n",
    "\n",
    "    return cnn_model, optimizer"
   ]
  },
  {
   "cell_type": "markdown",
   "metadata": {
    "id": "tyWHu4sr55lU"
   },
   "source": [
    "### 3.3. Training Loop"
   ]
  },
  {
   "cell_type": "markdown",
   "metadata": {
    "id": "9iWapM27CVw3"
   },
   "source": [
    "For each epoch, the code below will perform a forward step to compute the *Cross Entropy* loss, a backward step to compute gradients and use the optimizer to update weights/parameters. At the end of each epoch, the loss on training data and the accuracy over the validation data will be printed to help us keep track of the model's performance. The code is heavily annotated with detailed explanations."
   ]
  },
  {
   "cell_type": "code",
   "execution_count": 56,
   "metadata": {
    "id": "NaW2V4O225fS"
   },
   "outputs": [],
   "source": [
    "import random\n",
    "import time\n",
    "\n",
    "# Specify loss function\n",
    "loss_fn = nn.CrossEntropyLoss()\n",
    "\n",
    "def set_seed(seed_value=42):\n",
    "    \"\"\"Set seed for reproducibility.\"\"\"\n",
    "\n",
    "    random.seed(seed_value)\n",
    "    np.random.seed(seed_value)\n",
    "    torch.manual_seed(seed_value)\n",
    "    torch.cuda.manual_seed_all(seed_value)\n",
    "\n",
    "def train(model, optimizer, train_dataloader, val_dataloader=None, epochs=5):\n",
    "    \"\"\"Train the CNN model.\"\"\"\n",
    "    \n",
    "    # Tracking best validation accuracy\n",
    "    best_accuracy = 0\n",
    "\n",
    "    # Start training loop\n",
    "    print(\"Start training...\\n\")\n",
    "    print ( f\"{'Epoch':^7} | {'Train_Loss':^12} | {'Val_Loss':^10} | {'Val_Acc':^9} | {'Elapsed':^9}\") \n",
    "    print(\"-\"*60)\n",
    "\n",
    "    for epoch_i in range(epochs):\n",
    "        # =======================================\n",
    "        #               Training\n",
    "        # =======================================\n",
    "\n",
    "        # Tracking time and loss\n",
    "        t0_epoch = time.time()\n",
    "        total_loss = 0\n",
    "\n",
    "        # Put the model into the training mode\n",
    "        model.train()\n",
    "\n",
    "        for step, batch in enumerate(train_dataloader):\n",
    "            # Load batch to GPU\n",
    "            b_input_ids, b_labels = tuple(t.to(device) for t in batch)\n",
    "\n",
    "            # Zero out any previously calculated gradients\n",
    "            model.zero_grad()\n",
    "\n",
    "            # Perform a forward pass. This will return logits.\n",
    "            logits = model(b_input_ids)\n",
    "\n",
    "            # Compute loss and accumulate the loss values\n",
    "            loss = loss_fn(logits, b_labels)\n",
    "            total_loss += loss.item()\n",
    "\n",
    "            # Perform a backward pass to calculate gradients\n",
    "            loss.backward()\n",
    "\n",
    "            # Update parameters\n",
    "            optimizer.step()\n",
    "\n",
    "        # Calculate the average loss over the entire training data\n",
    "        avg_train_loss = total_loss / len(train_dataloader)\n",
    "\n",
    "        # =======================================\n",
    "        #               Evaluation\n",
    "        # =======================================\n",
    "        if val_dataloader is not None:\n",
    "            # After the completion of each training epoch, measure the model's\n",
    "            # performance on our validation set.\n",
    "            val_loss, val_accuracy = evaluate(model, val_dataloader)\n",
    "\n",
    "            # Track the best accuracy\n",
    "            if val_accuracy > best_accuracy:\n",
    "                best_accuracy = val_accuracy\n",
    "\n",
    "            # Print performance over the entire training data\n",
    "            time_elapsed = time.time() - t0_epoch\n",
    "            print(f\"{epoch_i + 1:^7} | {avg_train_loss:^12.6f} |{val_loss:^10.6f} | {val_accuracy:^9.2f} | {time_elapsed:^9.2f}\")\n",
    "            \n",
    "    print(\"\\n\")\n",
    "    print(f\"Training complete! Best accuracy: {best_accuracy:.2f}%.\")\n",
    "\n",
    "def evaluate(model, val_dataloader):\n",
    "    \"\"\"After the completion of each training epoch, measure the model's\n",
    "    performance on our validation set.\n",
    "    \"\"\"\n",
    "    # Put the model into the evaluation mode. The dropout layers are disabled\n",
    "    # during the test time.\n",
    "    model.eval()\n",
    "\n",
    "    # Tracking variables\n",
    "    val_accuracy = []\n",
    "    val_loss = []\n",
    "\n",
    "    # For each batch in our validation set...\n",
    "    for batch in val_dataloader:\n",
    "        # Load batch to GPU\n",
    "        b_input_ids, b_labels = tuple(t.to(device) for t in batch)\n",
    "\n",
    "        # Compute logits\n",
    "        with torch.no_grad():\n",
    "            logits = model(b_input_ids)\n",
    "\n",
    "        # Compute loss\n",
    "        loss = loss_fn(logits, b_labels)\n",
    "        val_loss.append(loss.item())\n",
    "\n",
    "        # Get the predictions\n",
    "        preds = torch.argmax(logits, dim=1).flatten()\n",
    "\n",
    "        # Calculate the accuracy rate\n",
    "        accuracy = (preds == b_labels).cpu().numpy().mean() * 100\n",
    "        val_accuracy.append(accuracy)\n",
    "\n",
    "    # Compute the average accuracy and loss over the validation set.\n",
    "    val_loss = np.mean(val_loss)\n",
    "    val_accuracy = np.mean(val_accuracy)\n",
    "\n",
    "    return val_loss, val_accuracy"
   ]
  },
  {
   "cell_type": "markdown",
   "metadata": {
    "id": "iHgnBNo1ino_"
   },
   "source": [
    "## 4. Evaluation "
   ]
  },
  {
   "cell_type": "markdown",
   "metadata": {
    "id": "nU-FMtOYMx3F"
   },
   "source": [
    "In the original paper, the author tried different variations of the model.\n",
    "- **CNN-rand**: The baseline model where the embedding layer is randomly initialized and then updated during training.\n",
    "- **CNN-static**: A model with pretrained vectors. However, the embedding layer is freezed during training.\n",
    "- **CNN-non-static**: Same as above but the embedding layers are fine-tuned during training.\n",
    "\n",
    "We will experiment with all 3 variations and compare their performance. Below is the report of our results and the results in the original paper.\n",
    "\n",
    "|Model            |Kim's results  |Our results  |\n",
    "|:----------------|:-------------:|:-----------:|\n",
    "|CNN-rand         |76.1           |74.2         |\n",
    "|CNN-static       |81.0           |82.7         |\n",
    "|CNN-non-static   |81.5           |84.4         |\n",
    "\n",
    "Randomness could cause the difference in the results. I think the reason for the improvement in our results is that we used fastText pretrained vectors, which are of higher quality than word2vec vectors that the author used.\n"
   ]
  },
  {
   "cell_type": "code",
   "execution_count": 57,
   "metadata": {
    "colab": {
     "base_uri": "https://localhost:8080/",
     "height": 476
    },
    "id": "NwYoPQuQnz97",
    "outputId": "8527fc20-1a03-4a7a-eceb-82d883475e56"
   },
   "outputs": [
    {
     "name": "stdout",
     "output_type": "stream",
     "text": [
      "Start training...\n",
      "\n",
      " Epoch  |  Train_Loss  |  Val_Loss  |  Val_Acc  |  Elapsed \n",
      "------------------------------------------------------------\n"
     ]
    },
    {
     "name": "stderr",
     "output_type": "stream",
     "text": [
      "/home/development/nihars/.local/lib/python3.7/site-packages/torch/nn/functional.py:652: UserWarning: Named tensors and all their associated APIs are an experimental feature and subject to change. Please do not use them for anything important until they are released as stable. (Triggered internally at  /pytorch/c10/core/TensorImpl.h:1156.)\n",
      "  return torch.max_pool1d(input, kernel_size, stride, padding, dilation, ceil_mode)\n"
     ]
    },
    {
     "name": "stdout",
     "output_type": "stream",
     "text": [
      "   1    |   0.681980   | 0.660426  |   60.31   |   1.23   \n",
      "   2    |   0.643049   | 0.629646  |   64.03   |   1.16   \n",
      "   3    |   0.602555   | 0.607118  |   65.49   |   1.18   \n",
      "   4    |   0.553330   | 0.586739  |   67.75   |   1.20   \n",
      "   5    |   0.509249   | 0.570316  |   69.57   |   1.16   \n",
      "   6    |   0.463224   | 0.560634  |   69.48   |   1.16   \n",
      "   7    |   0.405673   | 0.558333  |   70.48   |   1.15   \n",
      "   8    |   0.363013   | 0.562884  |   70.37   |   1.14   \n",
      "   9    |   0.321849   | 0.551248  |   70.56   |   1.16   \n",
      "  10    |   0.276065   | 0.552853  |   72.11   |   1.17   \n",
      "  11    |   0.247901   | 0.552437  |   71.83   |   1.17   \n",
      "  12    |   0.217708   | 0.577685  |   71.29   |   1.16   \n",
      "  13    |   0.200162   | 0.579391  |   71.65   |   1.18   \n",
      "  14    |   0.176225   | 0.586902  |   71.37   |   1.16   \n",
      "  15    |   0.155609   | 0.605076  |   71.93   |   1.15   \n",
      "  16    |   0.141941   | 0.612648  |   71.65   |   1.11   \n",
      "  17    |   0.128342   | 0.616775  |   72.02   |   1.13   \n",
      "  18    |   0.115448   | 0.630841  |   72.56   |   1.12   \n",
      "  19    |   0.102847   | 0.635553  |   72.48   |   1.18   \n",
      "  20    |   0.101875   | 0.640025  |   72.56   |   1.13   \n",
      "\n",
      "\n",
      "Training complete! Best accuracy: 72.56%.\n"
     ]
    }
   ],
   "source": [
    "# CNN-rand: Word vectors are randomly initialized.\n",
    "set_seed(42)\n",
    "cnn_rand, optimizer = initilize_model(vocab_size=len(word2idx),\n",
    "                                      embed_dim=300,\n",
    "                                      learning_rate=0.25,\n",
    "                                      dropout=0.5)\n",
    "train(cnn_rand, optimizer, train_dataloader, val_dataloader, epochs=10)"
   ]
  },
  {
   "cell_type": "code",
   "execution_count": 58,
   "metadata": {
    "colab": {
     "base_uri": "https://localhost:8080/",
     "height": 476
    },
    "id": "2r6KEatn6FqQ",
    "outputId": "618fec14-88d7-47cf-b517-5efbac4b08b9"
   },
   "outputs": [
    {
     "name": "stdout",
     "output_type": "stream",
     "text": [
      "Start training...\n",
      "\n",
      " Epoch  |  Train_Loss  |  Val_Loss  |  Val_Acc  |  Elapsed \n",
      "------------------------------------------------------------\n",
      "   1    |   0.593893   | 0.504874  |   74.84   |   0.88   \n",
      "   2    |   0.475560   | 0.438080  |   80.74   |   0.87   \n",
      "   3    |   0.426285   | 0.428917  |   81.20   |   0.88   \n",
      "   4    |   0.390330   | 0.415941  |   81.74   |   0.88   \n",
      "   5    |   0.355796   | 0.409891  |   82.20   |   0.87   \n",
      "   6    |   0.318987   | 0.412859  |   82.47   |   0.87   \n",
      "   7    |   0.292101   | 0.414556  |   81.92   |   0.88   \n",
      "   8    |   0.257159   | 0.406871  |   82.93   |   0.87   \n",
      "   9    |   0.235084   | 0.408651  |   82.56   |   0.86   \n",
      "  10    |   0.203969   | 0.426313  |   81.56   |   0.85   \n",
      "  11    |   0.185600   | 0.420149  |   82.74   |   0.86   \n",
      "  12    |   0.167947   | 0.428766  |   81.92   |   0.86   \n",
      "  13    |   0.150262   | 0.438622  |   82.56   |   0.86   \n",
      "  14    |   0.134570   | 0.436815  |   82.65   |   0.86   \n",
      "  15    |   0.118108   | 0.463084  |   82.65   |   0.85   \n",
      "  16    |   0.113307   | 0.461662  |   82.19   |   0.87   \n",
      "  17    |   0.104177   | 0.468287  |   83.10   |   0.89   \n",
      "  18    |   0.096725   | 0.473762  |   82.92   |   0.86   \n",
      "  19    |   0.089903   | 0.484443  |   83.74   |   0.86   \n",
      "  20    |   0.082292   | 0.501389  |   82.83   |   0.85   \n",
      "\n",
      "\n",
      "Training complete! Best accuracy: 83.74%.\n"
     ]
    }
   ],
   "source": [
    "# CNN-static: fastText pretrained word vectors are used and freezed during training.\n",
    "set_seed(42)\n",
    "cnn_static, optimizer = initilize_model(pretrained_embedding=embeddings,\n",
    "                                        freeze_embedding=True,\n",
    "                                        learning_rate=0.25,\n",
    "                                        dropout=0.5)\n",
    "train(cnn_static, optimizer, train_dataloader, val_dataloader, epochs=10)"
   ]
  },
  {
   "cell_type": "code",
   "execution_count": 59,
   "metadata": {
    "colab": {
     "base_uri": "https://localhost:8080/",
     "height": 476
    },
    "id": "CE6H6xJ-VwN5",
    "outputId": "5698958c-3c3e-493b-e1d8-6b0ca25139bf"
   },
   "outputs": [
    {
     "name": "stdout",
     "output_type": "stream",
     "text": [
      "Start training...\n",
      "\n",
      " Epoch  |  Train_Loss  |  Val_Loss  |  Val_Acc  |  Elapsed \n",
      "------------------------------------------------------------\n",
      "   1    |   0.593722   | 0.505934  |   74.84   |   1.35   \n",
      "   2    |   0.471993   | 0.437088  |   80.56   |   1.35   \n",
      "   3    |   0.417221   | 0.420642  |   81.11   |   1.33   \n",
      "   4    |   0.377150   | 0.408437  |   83.11   |   1.34   \n",
      "   5    |   0.338109   | 0.403748  |   82.20   |   1.34   \n",
      "   6    |   0.295660   | 0.397044  |   82.83   |   1.34   \n",
      "   7    |   0.264880   | 0.406101  |   82.47   |   1.33   \n",
      "   8    |   0.224739   | 0.392230  |   84.10   |   1.34   \n",
      "   9    |   0.200106   | 0.403366  |   83.83   |   1.34   \n",
      "  10    |   0.169129   | 0.423597  |   83.74   |   1.35   \n",
      "\n",
      "\n",
      "Training complete! Best accuracy: 84.10%.\n"
     ]
    }
   ],
   "source": [
    "# CNN-non-static: fastText pretrained word vectors are fine-tuned during training.\n",
    "set_seed(42)\n",
    "cnn_non_static, optimizer = initilize_model(pretrained_embedding=embeddings,\n",
    "                                            freeze_embedding=False,\n",
    "                                            learning_rate=0.25,\n",
    "                                            dropout=0.5)\n",
    "train(cnn_non_static, optimizer, train_dataloader, val_dataloader, epochs=10)"
   ]
  },
  {
   "cell_type": "markdown",
   "metadata": {
    "id": "Xjie11DyVokt"
   },
   "source": [
    "## 5. Test Model"
   ]
  },
  {
   "cell_type": "markdown",
   "metadata": {
    "id": "qGcys3S3snRP"
   },
   "source": [
    "Let's test our CNN-non-static model on some examples."
   ]
  },
  {
   "cell_type": "code",
   "execution_count": 60,
   "metadata": {
    "id": "xjId-ZUcsL8A"
   },
   "outputs": [],
   "source": [
    "def predict(text, model=cnn_non_static.to(\"cpu\"), max_len=62):\n",
    "    \"\"\"Predict probability that a review is positive.\"\"\"\n",
    "\n",
    "    # Tokenize, pad and encode text\n",
    "    tokens = word_tokenize(text.lower())\n",
    "    padded_tokens = tokens + ['<pad>'] * (max_len - len(tokens))\n",
    "    input_id = [word2idx.get(token, word2idx['<unk>']) for token in padded_tokens]\n",
    "\n",
    "    # Convert to PyTorch tensors\n",
    "    input_id = torch.tensor(input_id).unsqueeze(dim=0)\n",
    "\n",
    "    # Compute logits\n",
    "    logits = model.forward(input_id)\n",
    "\n",
    "    #  Compute probability\n",
    "    probs = F.softmax(logits, dim=1).squeeze(dim=0)\n",
    "\n",
    "    print(f\"This review is {probs[1] * 100:.2f}% positive.\")"
   ]
  },
  {
   "cell_type": "markdown",
   "metadata": {
    "id": "lNocWkoItlE7"
   },
   "source": [
    "Our model can easily regconize reviews with strong negative signals. On samples that have mixed feelings but positive sentiment overvall, our model also gets excellent results."
   ]
  },
  {
   "cell_type": "code",
   "execution_count": 64,
   "metadata": {
    "colab": {
     "base_uri": "https://localhost:8080/",
     "height": 85
    },
    "id": "IV8L6ncWuzKZ",
    "outputId": "dd999343-87ed-4cf5-c0d5-72fb7830cc4b"
   },
   "outputs": [
    {
     "name": "stdout",
     "output_type": "stream",
     "text": [
      "This review is 56.69% positive.\n",
      "This review is 53.45% positive.\n",
      "This review is 0.63% positive.\n",
      "This review is 32.56% positive.\n"
     ]
    }
   ],
   "source": [
    "predict(\"All of friends slept while watching this movie. But I really enjoyed it.\")\n",
    "predict(\"I have waited so long for this movie. I am now so satisfied and happy.\")\n",
    "predict(\"This movie is long and boring.\")\n",
    "predict(\"I don't like the ending.\")"
   ]
  },
  {
   "cell_type": "markdown",
   "metadata": {},
   "source": [
    "## 6. Conclusion"
   ]
  },
  {
   "cell_type": "markdown",
   "metadata": {},
   "source": [
    "Advantages:\n",
    "- **Parameter Sharing**\n",
    "- **Position invariant**- Order does not matter\n",
    "- **very fast**\n",
    "- **Works well for extracting local key phrases**- This makes CNN suitable for sentiment classification as sentiment generally depend of some phrases.\n",
    "\n",
    "Disadvantages:\n",
    "- **Locally temporal; Do not understand long contexts**\n"
   ]
  },
  {
   "cell_type": "markdown",
   "metadata": {},
   "source": [
    "Reference: https://chriskhanhtran.github.io/posts/cnn-sentence-classification/"
   ]
  },
  {
   "cell_type": "markdown",
   "metadata": {},
   "source": []
  }
 ],
 "metadata": {
  "accelerator": "GPU",
  "colab": {
   "collapsed_sections": [],
   "name": "A Complete Guide to CNN for Sentence Classification with PyTorch",
   "provenance": []
  },
  "kernelspec": {
   "display_name": "Python 3",
   "language": "python",
   "name": "python3"
  },
  "language_info": {
   "codemirror_mode": {
    "name": "ipython",
    "version": 3
   },
   "file_extension": ".py",
   "mimetype": "text/x-python",
   "name": "python",
   "nbconvert_exporter": "python",
   "pygments_lexer": "ipython3",
   "version": "3.7.4"
  },
  "widgets": {
   "application/vnd.jupyter.widget-state+json": {
    "176caa5659c34023bcc053110bb592fe": {
     "model_module": "@jupyter-widgets/controls",
     "model_module_version": "1.5.0",
     "model_name": "DescriptionStyleModel",
     "state": {
      "_model_module": "@jupyter-widgets/controls",
      "_model_module_version": "1.5.0",
      "_model_name": "DescriptionStyleModel",
      "_view_count": null,
      "_view_module": "@jupyter-widgets/base",
      "_view_module_version": "1.2.0",
      "_view_name": "StyleView",
      "description_width": ""
     }
    },
    "7387d9ffb5d74f38aa818ddb93533cab": {
     "model_module": "@jupyter-widgets/controls",
     "model_module_version": "1.5.0",
     "model_name": "ProgressStyleModel",
     "state": {
      "_model_module": "@jupyter-widgets/controls",
      "_model_module_version": "1.5.0",
      "_model_name": "ProgressStyleModel",
      "_view_count": null,
      "_view_module": "@jupyter-widgets/base",
      "_view_module_version": "1.2.0",
      "_view_name": "StyleView",
      "bar_color": null,
      "description_width": ""
     }
    },
    "806b04b34b8d440b89368fd9db163f89": {
     "model_module": "@jupyter-widgets/base",
     "model_module_version": "1.2.0",
     "model_name": "LayoutModel",
     "state": {
      "_model_module": "@jupyter-widgets/base",
      "_model_module_version": "1.2.0",
      "_model_name": "LayoutModel",
      "_view_count": null,
      "_view_module": "@jupyter-widgets/base",
      "_view_module_version": "1.2.0",
      "_view_name": "LayoutView",
      "align_content": null,
      "align_items": null,
      "align_self": null,
      "border": null,
      "bottom": null,
      "display": null,
      "flex": null,
      "flex_flow": null,
      "grid_area": null,
      "grid_auto_columns": null,
      "grid_auto_flow": null,
      "grid_auto_rows": null,
      "grid_column": null,
      "grid_gap": null,
      "grid_row": null,
      "grid_template_areas": null,
      "grid_template_columns": null,
      "grid_template_rows": null,
      "height": null,
      "justify_content": null,
      "justify_items": null,
      "left": null,
      "margin": null,
      "max_height": null,
      "max_width": null,
      "min_height": null,
      "min_width": null,
      "object_fit": null,
      "object_position": null,
      "order": null,
      "overflow": null,
      "overflow_x": null,
      "overflow_y": null,
      "padding": null,
      "right": null,
      "top": null,
      "visibility": null,
      "width": null
     }
    },
    "909838bbde85480fb077abf1faa9c497": {
     "model_module": "@jupyter-widgets/base",
     "model_module_version": "1.2.0",
     "model_name": "LayoutModel",
     "state": {
      "_model_module": "@jupyter-widgets/base",
      "_model_module_version": "1.2.0",
      "_model_name": "LayoutModel",
      "_view_count": null,
      "_view_module": "@jupyter-widgets/base",
      "_view_module_version": "1.2.0",
      "_view_name": "LayoutView",
      "align_content": null,
      "align_items": null,
      "align_self": null,
      "border": null,
      "bottom": null,
      "display": null,
      "flex": null,
      "flex_flow": null,
      "grid_area": null,
      "grid_auto_columns": null,
      "grid_auto_flow": null,
      "grid_auto_rows": null,
      "grid_column": null,
      "grid_gap": null,
      "grid_row": null,
      "grid_template_areas": null,
      "grid_template_columns": null,
      "grid_template_rows": null,
      "height": null,
      "justify_content": null,
      "justify_items": null,
      "left": null,
      "margin": null,
      "max_height": null,
      "max_width": null,
      "min_height": null,
      "min_width": null,
      "object_fit": null,
      "object_position": null,
      "order": null,
      "overflow": null,
      "overflow_x": null,
      "overflow_y": null,
      "padding": null,
      "right": null,
      "top": null,
      "visibility": null,
      "width": null
     }
    },
    "cd215d3def9d4b559b318e2d553ed665": {
     "model_module": "@jupyter-widgets/controls",
     "model_module_version": "1.5.0",
     "model_name": "IntProgressModel",
     "state": {
      "_dom_classes": [],
      "_model_module": "@jupyter-widgets/controls",
      "_model_module_version": "1.5.0",
      "_model_name": "IntProgressModel",
      "_view_count": null,
      "_view_module": "@jupyter-widgets/controls",
      "_view_module_version": "1.5.0",
      "_view_name": "ProgressView",
      "bar_style": "success",
      "description": "",
      "description_tooltip": null,
      "layout": "IPY_MODEL_d4324168085548b48dba40e0700b28bd",
      "max": 1,
      "min": 0,
      "orientation": "horizontal",
      "style": "IPY_MODEL_7387d9ffb5d74f38aa818ddb93533cab",
      "value": 1
     }
    },
    "d4324168085548b48dba40e0700b28bd": {
     "model_module": "@jupyter-widgets/base",
     "model_module_version": "1.2.0",
     "model_name": "LayoutModel",
     "state": {
      "_model_module": "@jupyter-widgets/base",
      "_model_module_version": "1.2.0",
      "_model_name": "LayoutModel",
      "_view_count": null,
      "_view_module": "@jupyter-widgets/base",
      "_view_module_version": "1.2.0",
      "_view_name": "LayoutView",
      "align_content": null,
      "align_items": null,
      "align_self": null,
      "border": null,
      "bottom": null,
      "display": null,
      "flex": null,
      "flex_flow": null,
      "grid_area": null,
      "grid_auto_columns": null,
      "grid_auto_flow": null,
      "grid_auto_rows": null,
      "grid_column": null,
      "grid_gap": null,
      "grid_row": null,
      "grid_template_areas": null,
      "grid_template_columns": null,
      "grid_template_rows": null,
      "height": null,
      "justify_content": null,
      "justify_items": null,
      "left": null,
      "margin": null,
      "max_height": null,
      "max_width": null,
      "min_height": null,
      "min_width": null,
      "object_fit": null,
      "object_position": null,
      "order": null,
      "overflow": null,
      "overflow_x": null,
      "overflow_y": null,
      "padding": null,
      "right": null,
      "top": null,
      "visibility": null,
      "width": null
     }
    },
    "e86e2020f21648f28e2624997d91079e": {
     "model_module": "@jupyter-widgets/controls",
     "model_module_version": "1.5.0",
     "model_name": "HBoxModel",
     "state": {
      "_dom_classes": [],
      "_model_module": "@jupyter-widgets/controls",
      "_model_module_version": "1.5.0",
      "_model_name": "HBoxModel",
      "_view_count": null,
      "_view_module": "@jupyter-widgets/controls",
      "_view_module_version": "1.5.0",
      "_view_name": "HBoxView",
      "box_style": "",
      "children": [
       "IPY_MODEL_cd215d3def9d4b559b318e2d553ed665",
       "IPY_MODEL_fd7f316904434626be66df7923776b3a"
      ],
      "layout": "IPY_MODEL_806b04b34b8d440b89368fd9db163f89"
     }
    },
    "fd7f316904434626be66df7923776b3a": {
     "model_module": "@jupyter-widgets/controls",
     "model_module_version": "1.5.0",
     "model_name": "HTMLModel",
     "state": {
      "_dom_classes": [],
      "_model_module": "@jupyter-widgets/controls",
      "_model_module_version": "1.5.0",
      "_model_name": "HTMLModel",
      "_view_count": null,
      "_view_module": "@jupyter-widgets/controls",
      "_view_module_version": "1.5.0",
      "_view_name": "HTMLView",
      "description": "",
      "description_tooltip": null,
      "layout": "IPY_MODEL_909838bbde85480fb077abf1faa9c497",
      "placeholder": "​",
      "style": "IPY_MODEL_176caa5659c34023bcc053110bb592fe",
      "value": "1999995it [00:34, 58531.89it/s]"
     }
    }
   }
  }
 },
 "nbformat": 4,
 "nbformat_minor": 1
}

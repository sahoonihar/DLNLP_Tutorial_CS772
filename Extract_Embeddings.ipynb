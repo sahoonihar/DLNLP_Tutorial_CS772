{
  "cells": [
    {
      "cell_type": "markdown",
      "metadata": {
        "id": "omvUW0MoVDA-"
      },
      "source": [
        "# Common Imports"
      ]
    },
    {
      "cell_type": "code",
      "execution_count": null,
      "metadata": {
        "colab": {
          "base_uri": "https://localhost:8080/"
        },
        "id": "w960FH06TLMi",
        "outputId": "ca4f3924-ab25-4b06-a7db-1f320bb02961"
      },
      "outputs": [
        {
          "name": "stdout",
          "output_type": "stream",
          "text": [
            "Requirement already satisfied: nltk in /usr/local/lib/python3.7/dist-packages (3.2.5)\n",
            "Requirement already satisfied: six in /usr/local/lib/python3.7/dist-packages (from nltk) (1.15.0)\n"
          ]
        }
      ],
      "source": [
        "!pip install nltk"
      ]
    },
    {
      "cell_type": "code",
      "execution_count": null,
      "metadata": {
        "id": "i9KZmDguDvyy"
      },
      "outputs": [],
      "source": [
        "import pandas as pd\n",
        "import numpy as np"
      ]
    },
    {
      "cell_type": "code",
      "execution_count": null,
      "metadata": {
        "id": "uTELKbAeZznp"
      },
      "outputs": [],
      "source": [
        "# text preprocessing\n",
        "from nltk import word_tokenize\n",
        "from nltk.stem import PorterStemmer\n",
        "from nltk.corpus import stopwords\n",
        "import re"
      ]
    },
    {
      "cell_type": "code",
      "execution_count": null,
      "metadata": {
        "colab": {
          "base_uri": "https://localhost:8080/"
        },
        "id": "RniTmCyZdE_C",
        "outputId": "a074b87b-bcc1-4b0d-a690-0f568a4046c1"
      },
      "outputs": [
        {
          "name": "stdout",
          "output_type": "stream",
          "text": [
            "[nltk_data] Downloading package punkt to /root/nltk_data...\n",
            "[nltk_data]   Unzipping tokenizers/punkt.zip.\n"
          ]
        },
        {
          "data": {
            "text/plain": [
              "True"
            ]
          },
          "execution_count": 4,
          "metadata": {},
          "output_type": "execute_result"
        }
      ],
      "source": [
        "import nltk\n",
        "nltk.download('punkt')"
      ]
    },
    {
      "cell_type": "markdown",
      "metadata": {
        "id": "pPWHbUcRVMog"
      },
      "source": [
        "# Load and preprocess data"
      ]
    },
    {
      "cell_type": "code",
      "execution_count": null,
      "metadata": {
        "id": "Za-U6dnDaBuc"
      },
      "outputs": [],
      "source": [
        "df_train = pd.read_csv('/content/S_train_with_sentences.csv')\n",
        "df_test = pd.read_csv('/content/S_test_with_sentences.csv')\n",
        "\n",
        "X_train = df_train.reviews\n",
        "X_test = df_test.reviews\n",
        "\n",
        "y_train = df_train.sentiment\n",
        "y_test = df_test.sentiment\n",
        "\n",
        "data = pd.concat([df_train, df_test])"
      ]
    },
    {
      "cell_type": "code",
      "execution_count": null,
      "metadata": {
        "colab": {
          "base_uri": "https://localhost:8080/"
        },
        "id": "zjNKQdb1rz16",
        "outputId": "41509c7a-52c2-482c-b8c4-c5cbce3233f5"
      },
      "outputs": [
        {
          "data": {
            "text/html": [
              "\n",
              "  <div id=\"df-462d17e9-2327-45e4-b753-1cd7f1627e9f\">\n",
              "    <div class=\"colab-df-container\">\n",
              "      <div>\n",
              "<style scoped>\n",
              "    .dataframe tbody tr th:only-of-type {\n",
              "        vertical-align: middle;\n",
              "    }\n",
              "\n",
              "    .dataframe tbody tr th {\n",
              "        vertical-align: top;\n",
              "    }\n",
              "\n",
              "    .dataframe thead th {\n",
              "        text-align: right;\n",
              "    }\n",
              "</style>\n",
              "<table border=\"1\" class=\"dataframe\">\n",
              "  <thead>\n",
              "    <tr style=\"text-align: right;\">\n",
              "      <th></th>\n",
              "      <th>Unnamed: 0</th>\n",
              "      <th>reviews</th>\n",
              "      <th>sentiment</th>\n",
              "    </tr>\n",
              "  </thead>\n",
              "  <tbody>\n",
              "    <tr>\n",
              "      <th>0</th>\n",
              "      <td>0</td>\n",
              "      <td>Apparently Prides Osteria had a rough summer a...</td>\n",
              "      <td>1</td>\n",
              "    </tr>\n",
              "    <tr>\n",
              "      <th>1</th>\n",
              "      <td>1</td>\n",
              "      <td>However new blood in the kitchen seems to have...</td>\n",
              "      <td>2</td>\n",
              "    </tr>\n",
              "    <tr>\n",
              "      <th>2</th>\n",
              "      <td>2</td>\n",
              "      <td>Waitstaff was warm but unobtrusive.</td>\n",
              "      <td>2</td>\n",
              "    </tr>\n",
              "    <tr>\n",
              "      <th>3</th>\n",
              "      <td>3</td>\n",
              "      <td>By 8 pm or so when we left the bar was full an...</td>\n",
              "      <td>1</td>\n",
              "    </tr>\n",
              "    <tr>\n",
              "      <th>4</th>\n",
              "      <td>4</td>\n",
              "      <td>After reading the mixed reviews of late I was ...</td>\n",
              "      <td>2</td>\n",
              "    </tr>\n",
              "  </tbody>\n",
              "</table>\n",
              "</div>\n",
              "      <button class=\"colab-df-convert\" onclick=\"convertToInteractive('df-462d17e9-2327-45e4-b753-1cd7f1627e9f')\"\n",
              "              title=\"Convert this dataframe to an interactive table.\"\n",
              "              style=\"display:none;\">\n",
              "        \n",
              "  <svg xmlns=\"http://www.w3.org/2000/svg\" height=\"24px\"viewBox=\"0 0 24 24\"\n",
              "       width=\"24px\">\n",
              "    <path d=\"M0 0h24v24H0V0z\" fill=\"none\"/>\n",
              "    <path d=\"M18.56 5.44l.94 2.06.94-2.06 2.06-.94-2.06-.94-.94-2.06-.94 2.06-2.06.94zm-11 1L8.5 8.5l.94-2.06 2.06-.94-2.06-.94L8.5 2.5l-.94 2.06-2.06.94zm10 10l.94 2.06.94-2.06 2.06-.94-2.06-.94-.94-2.06-.94 2.06-2.06.94z\"/><path d=\"M17.41 7.96l-1.37-1.37c-.4-.4-.92-.59-1.43-.59-.52 0-1.04.2-1.43.59L10.3 9.45l-7.72 7.72c-.78.78-.78 2.05 0 2.83L4 21.41c.39.39.9.59 1.41.59.51 0 1.02-.2 1.41-.59l7.78-7.78 2.81-2.81c.8-.78.8-2.07 0-2.86zM5.41 20L4 18.59l7.72-7.72 1.47 1.35L5.41 20z\"/>\n",
              "  </svg>\n",
              "      </button>\n",
              "      \n",
              "  <style>\n",
              "    .colab-df-container {\n",
              "      display:flex;\n",
              "      flex-wrap:wrap;\n",
              "      gap: 12px;\n",
              "    }\n",
              "\n",
              "    .colab-df-convert {\n",
              "      background-color: #E8F0FE;\n",
              "      border: none;\n",
              "      border-radius: 50%;\n",
              "      cursor: pointer;\n",
              "      display: none;\n",
              "      fill: #1967D2;\n",
              "      height: 32px;\n",
              "      padding: 0 0 0 0;\n",
              "      width: 32px;\n",
              "    }\n",
              "\n",
              "    .colab-df-convert:hover {\n",
              "      background-color: #E2EBFA;\n",
              "      box-shadow: 0px 1px 2px rgba(60, 64, 67, 0.3), 0px 1px 3px 1px rgba(60, 64, 67, 0.15);\n",
              "      fill: #174EA6;\n",
              "    }\n",
              "\n",
              "    [theme=dark] .colab-df-convert {\n",
              "      background-color: #3B4455;\n",
              "      fill: #D2E3FC;\n",
              "    }\n",
              "\n",
              "    [theme=dark] .colab-df-convert:hover {\n",
              "      background-color: #434B5C;\n",
              "      box-shadow: 0px 1px 3px 1px rgba(0, 0, 0, 0.15);\n",
              "      filter: drop-shadow(0px 1px 2px rgba(0, 0, 0, 0.3));\n",
              "      fill: #FFFFFF;\n",
              "    }\n",
              "  </style>\n",
              "\n",
              "      <script>\n",
              "        const buttonEl =\n",
              "          document.querySelector('#df-462d17e9-2327-45e4-b753-1cd7f1627e9f button.colab-df-convert');\n",
              "        buttonEl.style.display =\n",
              "          google.colab.kernel.accessAllowed ? 'block' : 'none';\n",
              "\n",
              "        async function convertToInteractive(key) {\n",
              "          const element = document.querySelector('#df-462d17e9-2327-45e4-b753-1cd7f1627e9f');\n",
              "          const dataTable =\n",
              "            await google.colab.kernel.invokeFunction('convertToInteractive',\n",
              "                                                     [key], {});\n",
              "          if (!dataTable) return;\n",
              "\n",
              "          const docLinkHtml = 'Like what you see? Visit the ' +\n",
              "            '<a target=\"_blank\" href=https://colab.research.google.com/notebooks/data_table.ipynb>data table notebook</a>'\n",
              "            + ' to learn more about interactive tables.';\n",
              "          element.innerHTML = '';\n",
              "          dataTable['output_type'] = 'display_data';\n",
              "          await google.colab.output.renderOutput(dataTable, element);\n",
              "          const docLink = document.createElement('div');\n",
              "          docLink.innerHTML = docLinkHtml;\n",
              "          element.appendChild(docLink);\n",
              "        }\n",
              "      </script>\n",
              "    </div>\n",
              "  </div>\n",
              "  "
            ],
            "text/plain": [
              "   Unnamed: 0                                            reviews  sentiment\n",
              "0           0  Apparently Prides Osteria had a rough summer a...          1\n",
              "1           1  However new blood in the kitchen seems to have...          2\n",
              "2           2                Waitstaff was warm but unobtrusive.          2\n",
              "3           3  By 8 pm or so when we left the bar was full an...          1\n",
              "4           4  After reading the mixed reviews of late I was ...          2"
            ]
          },
          "execution_count": 6,
          "metadata": {},
          "output_type": "execute_result"
        }
      ],
      "source": [
        "data.head()"
      ]
    },
    {
      "cell_type": "code",
      "execution_count": null,
      "metadata": {
        "id": "5zeTpXnAdz0b"
      },
      "outputs": [],
      "source": [
        "reviews = data.reviews"
      ]
    },
    {
      "cell_type": "code",
      "execution_count": null,
      "metadata": {
        "id": "87PtYG4Xbo4Q"
      },
      "outputs": [],
      "source": [
        "def preprocess_and_tokenize(data):    \n",
        "\n",
        "    #remove html markup\n",
        "    data = re.sub(\"(<.*?>)\", \"\", data)\n",
        "\n",
        "    #remove urls\n",
        "    data = re.sub(r'http\\S+', '', data)\n",
        "    \n",
        "    #remove hashtags and @names\n",
        "    data= re.sub(r\"(#[\\d\\w\\.]+)\", '', data)\n",
        "    data= re.sub(r\"(@[\\d\\w\\.]+)\", '', data)\n",
        "\n",
        "    #remove punctuation and non-ascii digits\n",
        "    data = re.sub(\"(\\\\W|\\\\d)\", \" \", data)\n",
        "    \n",
        "    #remove whitespace\n",
        "    data = data.strip()\n",
        "    \n",
        "    # tokenization with nltk\n",
        "    data = word_tokenize(data)\n",
        "    \n",
        "    # stemming with nltk\n",
        "    porter = PorterStemmer()\n",
        "    stem_data = [porter.stem(word) for word in data]\n",
        "        \n",
        "    return data"
      ]
    },
    {
      "cell_type": "markdown",
      "metadata": {
        "id": "PBVUT-uPVxro"
      },
      "source": [
        "# Make a dictionary from the corpus"
      ]
    },
    {
      "cell_type": "code",
      "execution_count": null,
      "metadata": {
        "id": "_SMbpjEVWGiR"
      },
      "outputs": [],
      "source": [
        "def get_dictionary(reviews):\n",
        "    all_tokens = []\n",
        "    for review in reviews:\n",
        "      review = preprocess_and_tokenize(review)\n",
        "      all_tokens+=review\n",
        "    all_tokens += ['-OOV-']\n",
        "    all_tokens = list(set(all_tokens))\n",
        "    all_tokens = dict(zip(all_tokens,list(range(1,len(all_tokens)+1))))\n",
        "    return all_tokens"
      ]
    },
    {
      "cell_type": "code",
      "execution_count": null,
      "metadata": {
        "id": "VRzOQA6JV6Ur"
      },
      "outputs": [],
      "source": [
        "corpus_dict = get_dictionary(reviews)"
      ]
    },
    {
      "cell_type": "markdown",
      "metadata": {
        "id": "vfwuyGiDsGbt"
      },
      "source": [
        "# Static Word Embeddings\n",
        "Build a global vocabulary using unique words in the documents by ignoring the meaning of words in different context"
      ]
    },
    {
      "cell_type": "markdown",
      "metadata": {
        "id": "8vECtotUujaa"
      },
      "source": [
        "**One-Hot**"
      ]
    },
    {
      "cell_type": "code",
      "execution_count": null,
      "metadata": {
        "colab": {
          "base_uri": "https://localhost:8080/"
        },
        "id": "ntZrFOJ2cdzq",
        "outputId": "1918578c-951a-4190-f000-99f88e6f5a17"
      },
      "outputs": [
        {
          "name": "stdout",
          "output_type": "stream",
          "text": [
            "['Definitely', 'sign', 'guide', 'desperate', 'steam', 'bucks', 'babaganoush', 'screened', 'happiness', 'Some', 'inconsistent', 'hotpot', 'age', 'board', 'snaking', 'dye', 'span', 'cuisine', 'faithfully', 'Set', 'Granted', 'liquor', 'ribeye', 'Nope', 'sugar', 'chilly', 'Attempted', 'Hawthorne', 'rib', 'Wilma', 'melodramatic', 'Word', 'crabcake', 'Korean', 'amateur', 'stuff', 'dinning', 'Suitable', 'lanai', 'poutine', 'waits', 'mixing', 'Quote', 'latte', 'beets', 'encouraging', 'approach', 'Citizens', 'KILL', 'stopped', 'minced', 'acted', 'wobble', 'shave', 'crisp', 'scrub', 'Bloody', 'WONDERFUL', 'stick', 'Haunted', 'sonya', 'cannoli', 'THESE', 'Chevy', 'Treated', 'false', 'vacuumed', 'Jazmine', 'bedside', 'tripped', 'Edit', 'samosa', 'matters', 'storage', 'punch', 'timely', 'bus', 'following', 'early', 'stars', 'jeweler', 'smiled', 'Library', 'screwing', 'expertise', 'front', 'prepping', 'pin', 'sweetest', 'intentioned', 'curry', 'DEFINITELY', 'smoke', 'energetic', 'bother', 'control', 'whenever', 'behind', 'app', 'Columbus', 'canceled', 'mirror', 'Pro', 'amid', 'hourly', 'paired', 'knowledgeable', 'coffe', 'Drinks', 'SAVES', 'spoke', 'spaced', 'lad', 'novel', 'lay', 'manner', 'Walked', 'burr', 'too', 'McDonald', 'undermining', 'reasonable', 'Jim', 'Jan', 'centres', 'Colombia', 'tenderloin', 'overdo', 'grabbing', 'tiny', 'ale', 'therapy', 'Papas', 'cabezza', 'tequila', 'Sausage', 'enthusiastic', 'traps', 'looking', 'responsible', 'Or', 'trash', 'Phantom', 'during', 'eggplant', 'Howell', 'And', 'weird', 'Cranky', 'campus', 'brewpub', 'buy', 'COOP', 'neglectful', 'dewy', 'cereal', 'jewelry', 'Walnuts', 'maid', 'synthetic', 'exuberant', 'Suprisingly', 'malls', 'Corn', 'crispy', 'prepaired', 'injera', 'warms', 'resorts', 'Joey', 'mass', 'Stars', 'salespeople', 'film', 'saltimbucca', 'ambience', 'immaculate', 'milk', 'haha', 'dry', 'opening', 'handmade', 'criterion', 'until', 'Katie', 'Botanitas', 'failed', 'insane', 'dream', 'soul', 'edible', 'summary', 'plan', 'golf', 'greeter', 'frills', 'stately', 'crawl', 'previous', 'pulls', 'milkshake', 'smells', 'dispatcher', 'gaps', 'Rocky', 'marsala', 'comped', 'steroid', 'judgey', 'appropriate', 'skills', 'breaded', 'train', 'Rumi', 'Avoid', 'buttermilk', 'tot', 'Wise', 'burger', 'Business', 'plate', 'texture', 'welcome', 'system', 'fiber', 'Pay', 'Dim', 'NACHOS', 'legitimate', 'hoodie', 'Gave', 'increased', 'Outdoor', 'pediatrician', 'pastry', 'mala', 'muscular', 'pest', 'heading', 'fans', 'Thurs', 'Whole', 'Yucca', 'renting', 'distasteful', 'evironment', 'rent', 'Shes', 'TVs', 'Boston', 'Kelley', 'type', 'squeeze', 'almost', 'TEN', 'salty', 'cavities', 'Checkout', 'pig', 'safe', 'Island', 'saag', 'property', 'Glaze', 'anxiety', 'regrets', 'hella', 'Columbian', 'Within', 'Music', 'dancer', 'accurately', 'hosts', 'advise', 'Others', 'salt', 'heaven', 'memories', 'warning', 'Sesame', 'Cleopatra', 'selfish', 'Pommes', 'skewers', 'sections', 'Yelp', 'Jamaican', 'squeaked', 'know', 'bear', 'deserved', 'requested', 'stressed', 'pudding', 'construction', 'decades', 'SNS', 'underwhelming', 'Chi', 'Unlike', 'Hakata', 'trays', 'Lenox', 'teaching', 'Ming', 'contamination', 'kitchenette', 'Smell', 'Ping', 'Saturday', 'surprisingly', 'Smita', 'Rubber', 'FOOD', 'acceptable', 'sore', 'authentic', 'knowledgeably', 'handcrafted', 'Benedicts', 'tty', 'terrine', 'periodical', 'koi', 'moola', 'drove', 'blessed', 'Masala', 'se', 'paav', 'Suites', 'twat', 'forgivable', 'execution', 'Smiles', 'Using', 'errors', 'nestled', 'generate', 'horrible', 'fits', 'SF', 'Veth', 'SUPER', 'rely', 'Nesom', 'newest', 'Gau', 'Causing', 'bike', 'seaweed', 'suburbs', 'yumm', 'misrepresentation', 'haddock', 'papaya', 'Ky', 'Christy', 'able', 'nibble', 'halfway', 'HD', 'Fenway', 'non', 'create', 'obligation', 'came', 'Tried', 'parting', 'laidback', 'scrambler', 'tenet', 'salons', 'celebration', 'acidic', 'c', 'h', 'unfortunately', 'protest', 'taco', 'genuinely', 'reserved', 'handing', 'sp', 'seasons', 'attending', 'rudest', 'five', 'honest', 'beet', 'ingredients', 'ingenious', 'Meal', 'dick', 'sheepishly', 'mid', 'shrub', 'surfaces', 'friendliness', 'shock', 'Internet', 'disorganized', 'pie', 'most', 'likes', 'policy', 'chorizo', 'products', 'penny', 'GOOD', 'winner', 'hit', 'omsi', 'air', 'Rican', 'elbow', 'background', 'Gastown', 'Plus', 'hell', 'committed', 'ambiguous', 'paisa', 'assesories', 'tires', 'reference', 'push', 'Bland', 'chai', 'Falling', 'accompanied', 'Chris', 'Steakhouse', 'Baby', 'Bratwurst', 'Ketchup', 'rainy', 'gives', 'COME', 'worked', 'weep', 'softer', 'asada', 'peace', 'Waltham', 'Gus', 'Billiards', 'Pho', 'demands', 'asian', 'tolerance', 'deceiving', 'changa', 'Lauren', 'website', 'bumped', 'drizzle', 'fell', 'brunswick', 'sorted', 'GE', 'consistency', 'terrible', 'lagers', 'machines', 'Joanne', 'breadpudding', 'Sour', 'Staying', 'pistachio', 'truffle', 'genuine', 'Grind', 'optometrist', 'gentlemen', 'places', 'succeeded', 'tostadas', 'scam', 'throughout', 'sirloin', 'risk', 'Key', 'overworked', 'sleep', 'Antonio', 'hence', 'blowingly', 'interactive', 'Mediocre', 'celebrate', 'Cassie', 'Server', 'Ohio', 'molten', 'mine', 'dried', 'game', 'elegant', 'Grocers', 'distinctly', 'later', 'NAKED', 'grilled', 'equipment', 'beats', 'cut', 'negate', 'Turkish', 'serving', 'Camp', 'trendier', 'advantage', 'Came', 'opens', 'referred', 'pastrys', 'rushed', 'booking', 'ports', 'else', 'veined', 'getting', 'Feenburg', 'FREAKING', 'pieces', 'collard', 'maple', 'noodles', 'characters', 'mix', 'extensive', 'Southwestern', 'philly', 'Cakes', 'sumptuous', 'repair', 'Denny', 'plumbing', 'niceness', 'David', 'stanley', 'shredded', 'whatever', 'aim', 'embarrassing', 'twice', 'Rhode', 'Missy', 'interested', 'frequenting', 'decoration', 'Hashbrowns', 'quiches', 'Incredible', 'laid', 'whopper', 'freshly', 'Wouldn', 'nutmeg', 'required', 'dresses', 'heartburn', 'traveling', 'argue', 'HAPPY', 'eatable', 'hydrotherapy', 'garnish', 'soba', 'curated', 'brewery', 'breweries', 'related', 'picture', 'garbage', 'provide', 'accompany', 'hotter', 'sparkling', 'folded', 'snapper', 'functional', 'spa', 'because', 'repainted', 'Dora', 'costume', 'steaming', 'green', 'fav', 'leg', 'herding', 'pechuga', 'Dynamite', 'Primarily', 'WalMart', 'Cummings', 'understanding', 'boundaries', 'San', 'shuttles', 'facials', 'offering', 'Meatloaf', 'disrespected', 'Rosebud', 'chickpea', 'What', 'dango', 'LEAST', 'speakeasy', 'form', 'fallen', 'veer', 'Ribs', 'majority', 'intrusive', 'sunroom', 'Gnocchi', 'reminders', 'Prides', 'Pasta', 'bubbly', 'rear', 'pan', 'coughing', 'shall', 'although', 'stores', 'weed', 'cleanings', 'loose', 'huffs', 'Flavorful', 'Fabulous', 'brides', 'Naengmyun', 'hustle', 'enjoying', 'handles', 'Caught', 'MRI', 'underrated', 'wood', 'sensation', 'likker', 'Ducati', 'manages', 'already', 'Piece', 'Recently', 'disaster', 'student', 'rhythm', 'consitent', 'stockyard', 'happily', 'substantial', 'little', 'peas', 'actuality', 'Emily', 'Japanese', 'delayed', 'Hingham', 'gaining', 'falls', 'pregnant', 'crystalised', 'DO', 'triple', 'pants', 'prato', 'loved', 'sunset', 'compare', 'Goldies', 'gravey', 'lively', 'creamed', 'grinding', 'important', 'Met', 'chicharron', 'button', 'bags', 'Whiskey', 'Thanksgiving', 'looked', 'LARGE', 'inquired', 'Baba', 'raising', 'overly', 'Donuts', 'plans', 'Trust', 'Cookie', 'endless', 'allows', 'Donut', 'cook', 'disgraceful', 'Location', 'Mussels', 'Trattoria', 'someone', 'Vieja', 'map', 'aspects', 'Gouda', 'GLOWING', 'environmentally', 'blaming', 'tattoos', 'BAD', 'bisque', 'camels', 'wonderfully', 'brilliant', 'waitperson', 'cup', 'cool', 'lovers', 'Florida', 'drop', 'favored', 'knocks', 'OJ', 'credenza', 'provided', 'Code', 'body', 'his', 'angles', 'contract', 'Bay', 'Seattle', 'Paav', 'fixe', 'disrespectful', 'luckily', 'forever', 'lime', 'marginally', 'fililng', 'lied', 'college', 'respectful', 'meatloaf', 'advisable', 'paid', 'superlative', 'Saag', 'clients', 'perfection', 'Bistro', 'Lo', 'Alberta', 'co', 'ongoing', 'thrown', 'mushy', 'freshness', 'thirst', 'manageable', 'can', 'Bear', 'swimmer', 'Long', 'luck', 'delivered', 'EVERYTHING', 'few', 'Pesto', 'counted', 'plump', 'National', 'breast', 'Buffalo', 'alternative', 'stellar', 'intermediate', 'corners', 'theatre', 'lounging', 'cheep', 'Ceviche', 'smiling', 'mild', 'walnut', 'PACKED', 'Kai', 'Hands', 'Frites', 'burgers', 'passed', 'eyebrow', 'usually', 'astonishing', 'Obviously', 'Congressional', 'cheer', 'hated', 'bolognese', 'Extremely', 'creation', 'greet', 'guests', 'Leeba', 'boba', 'beastly', 'headlining', 'Subpar', 'overcharged', 'comp', 'Amateurs', 'pump', 'companions', 'raise', 'depend', 'rooms', 'yourselfers', 'talents', 'favourite', 'Z', 'cheesesteak', 'anticipate', 'acknowledge', 'tide', 'Islands', 'listing', 'tiered', 'where', 'recommending', 'leisure', 'diddling', 'incongruent', 'à', 'briefing', 'accompanying', 'Got', 'THE', 'munch', 'AWESOME', 'overcooked', 'Thirsty', 'interfering', 'chalk', 'stepping', 'onion', 'unethical', 'opted', 'hours', 'starving', 'deliciously', 'spoken', 'appeared', 'Cuban', 'ER', 'Hilliard', 'bands', 'Ended', 'Seating', 'unspoken', 'supplied', 'treat', 'items', 'residents', 'mound', 'Called', 'braatwurst', 'Great', 'observe', 'batter', 'netted', 'mainstay', 'manicure', 'jumpsuit', 'arepas', 'spoons', 'fi', 'card', 'necessary', 'Funky', 'Maryland', 'speed', 'manicuring', 'museum', 'cum', 'sticking', 'Nevertheless', 'stall', 'Confit', 'Sat', 'blew', 'tumeric', 'questions', 'Dropped', 'Hanging', 'throat', 'reversed', 'tightened', 'historical', 'shortcake', 'stagnant', 'pancake', 'case', 'years', 'skilled', 'Taiwanese', 'thumbs', 'Hollandaise', 'aside', 'wee', 'friendliest', 'Special', 'tough', 'Snooze', 'Americans', 'costly', 'Delivery', 'Noble', 'box', 'Comedor', 'FORTUNE', 'contained', 'straightforward', 'homemade', 'Arrive', 'spins', 'yang', 'Station', 'guaranteed', 'nailed', 'DON', 'individual', 'rd', 'noodle', 'available', 'wiping', 'GIVE', 'jalapeno', 'upto', 'partner', 'Veggies', 'adapted', 'lb', 'Claus', 'near', 'cleanest', 'Avocado', 'east', 'breakables', 'Whether', 'Kind', 'gamble', 'polish', 'lights', 'vehicles', 'organic', 'fusion', 'Will', 'cute', 'baskets', 'higher', 'culture', 'Damar', 'Braised', 'Old', 'filling', 'lead', 'Tony', 'refinement', 'repulsed', 'alcoholic', 'Christian', 'Michael', 'Thai', 'successor', 'elements', 'confidently', 'serve', 'installer', 'renewal', 'easiest', 'arranged', 'cheaper', 'baklava', 'dollar', 'choosing', 'AGAIN', 'Frozen', 'locally', 'spectacular', 'Sabzi', 'additional', 'His', 'study', 'aquarium', 'US', 'detoxed', 'notch', 'Roll', 'Chinatown', 'raved', 'Nuba', 'anyone', 'Stanley', 'borders', 'Express', 'Alright', 'falafel', 'Man', 'handfuls', 'HEB', 'travelers', 'North', 'Crystal', 'impeccable', 'Slight', 'knows', 'bready', 'YUMMY', 'Wednesday', 'Omar', 'Living', 'Branzino', 'regard', 'tip', 'scatter', 'barista', 'reno', 'except', 'citrus', 'lose', 'closes', 'DJI', 'LATE', 'values', 'learned', 'compared', 'chana', 'adjust', 'innovative', 'YUCK', 'shelter', 'Escargot', 'entrée', 'applies', 'Otherwise', 'enjoy', 'busiest', 'tables', 'attendants', 'Memorial', 'Crunch', 'neck', 'tech', 'Desk', 'thirsty', 'Quality', 'added', 'Hot', 'scared', 'Unfriendly', 'remedy', 'Duck', 'lacks', 'happier', 'washrooms', 'multiple', 'Shoutout', 'glory', 'lie', 'cottage', 'role', 'Life', 'checklist', 'Nectar', 'roof', 'havarti', 'mood', 'scallion', 'extraction', 'sux', 'Bodega', 'disturb', 'enjoyment', 'doughy', 'both', 'manicurist', 'alike', 'slip', 'Grease', 'charger', 'fenway', 'outrageously', 'stamp', 'Mesa', 'togo', 'WORD', 'Uchiko', 'Service', 'kee', 'attractive', 'CUSTOMER', 'manners', 'panna', 'receipts', 'Reasonably', 'entertained', 'nearly', 'preparing', 'setting', 'towards', 'balance', 'Sadly', 'laffa', 'Lobby', 'faith', 'untenably', 'glaze', 'limited', 'Disappointing', 'quest', 'engine', 'teachers', 'forewarned', 'tickled', 'NASA', 'travels', 'spearheads', 'respectable', 'tripping', 'shots', 'bake', 'Dinesty', 'emailing', 'ciders', 'wrappers', 'Embilta', 'weighed', 'franchise', 'Dip', 'Allow', 'West', 'church', 'mad', 'Enormous', 'topic', 'HERE', 'Uburger', 'seasonally', 'somewhere', 'warrant', 'Tavern', 'croquettes', 'Bag', 'trusting', 'parentals', 'pints', 'Gluten', 'sufficient', 'personal', 'led', 'tiki', 'carry', 'wolf', 'Outdoors', 'Sacco', 'Shady', 'worthy', 'Sarasota', 'Patatas', 'wouldnt', 'decline', 'soothe', 'midnight', 'press', 'catch', 'elated', 'convenience', 'mmm', 'designing', 'tortellini', 'afterthought', 'masseuse', 'hole', 'arrived', 'Walker', 'handling', 'flavor', 'mind', 'AMM', 'staffers', 'human', 'EXACTLY', 'chill', 'Cleaners', 'galleries', 'Positives', 'terribly', 'supermarket', 'treated', 'samosas', 'Steve', 'differing', 'nosh', 'inspired', 'destroy', 'inexpensive', 'sewage', 'celery', 'charged', 'acquired', 'grinder', 'fittest', 'presentations', 'unflattering', 'holds', 'legacy', 'leaked', 'tells', 'every', 'Paul', 'Shekia', 'leash', 'Eola', 'spinach', 'rinse', 'WAYNE', 'scamming', 'opulently', 'Coincidentally', 'six', 'familiarity', 'AMAZING', 'theme', 'Sometimes', 'impress', 'evaluation', 'express', 'Poor', 'unwelcome', 'encountered', 'sueing', 'coupled', 'put', 'opened', 'till', 'operates', 'presentable', 'urge', 'Boy', 'chatting', 'breaker', 'BLT', 'strong', 'scanned', 'diner', 'Cabernet', 'magazines', 'Sooooo', 'petite', 'Tito', 'mention', 'tired', 'preferences', 'install', 'suppose', 'toning', 'scum', 'tomatoes', 'rather', 'urban', 'refused', 'confirming', 'familiar', 'procedure', 'Shanghai', 'talks', 'relief', 'audio', 'Star', 'decorated', 'evidenced', 'reviewing', 'rice', 'Cher', 'songs', 'Restaurants', 'posted', 'purposes', 'Halloween', 'fuss', 'CA', 'crossed', 'tempted', 'shiner', 'Their', 'TOTALLY', 'abound', 'viet', 'compensation', 'rosemary', 'presented', 'saucy', 'show', 'Mix', 'towel', 'glass', 'sourcing', 'feed', 'Marinated', 'concoction', 'rapport', 'BB', 'hubby', 'lately', 'spot', 'giving', 'mussels', 'mates', 'complain', 'moved', 'tangy', 'Lilikoi', 'H', 'sauces', 'furious', 'Rumba', 'peach', 'twists', 'Cous', 'lattes', 'properties', 'st', 'neatly', 'pays', 'Did', 'Expect', 'steak', 'windows', 'Baklava', 'wooden', 'stew', 'marries', 'politely', 'facility', 'savanna', 'favors', 'Cambridge', 'arriving', 'Herrell', 'internal', 'soooo', 'vegetarians', 'fagiole', 'lot', 'filed', 'epic', 'over', 'ovens', 'Breast', 'Recent', 'machine', 'bowties', 'trio', 'O', 'Stephanie', 'safely', 'FOREVER', 'iskander', 'witnessed', 'your', 'OUR', 'exploded', 'Generous', 'Truthfully', 'Never', 'Slow', 'Pros', 'Shrimp', 'caprese', 'NY', 'unhygienic', 'cherries', 'classics', 'spread', 'Superhero', 'Pearl', 'beverages', 'EXCELLENT', 'smokin', 'unreasonably', 'Uno', 'sleepless', 'sticky', 'volume', 'am', 'revitalized', 'hair', 'Perhaps', 'circulating', 'Pad', 'irritable', 'guac', 'similar', 'expand', 'Quick', 'cafeteria', 'Bier', 'FANTASTIC', 'omission', 'climb', 'coco', 'Cantabrigian', 'Wish', 'flavored', 'sales', 'chocolates', 'Advice', 'styles', 'Usually', 'Bedford', 'praising', 'complete', 'Newton', 'honking', 'examine', 'Dave', 'visitors', 'scurry', 'waterfalls', 'secretly', 'aw', 'screw', 'blends', 'faintly', 'beau', 'stopping', 'veeeeeeeery', 'Warm', 'tacky', 'airconditioned', 'nor', 'athletic', 'favorite', 'ambient', 'tortellinis', 'salted', 'yelps', 'upon', 'lentils', 'ew', 'staples', 'dissuade', 'addressed', 'mmmmm', 'BSC', 'greasiness', 'distinct', 'outdated', 'nice', 'un', 'rental', 'shortbread', 'check', 'include', 'worn', 'furniture', 'Uchi', 'Springs', 'Used', 'clear', 'tiles', 'uptight', 'bestie', 'repeating', 'unremarkable', 'Office', 'nights', 'frugal', 'Stephen', 'competition', 'blocks', 'exceptional', 'foot', 'Milky', 'rush', 'season', 'recommend', 'banter', 'indifferent', 'yuppies', 'prime', 'jack', 'treats', 'additions', 'pit', 'Dont', 'Draft', 'HORRIBLY', 'tremendously', 'secondary', 'Standouts', 'hospitable', 'valued', 'Houston', 'pm', 'Tomato', 'omelets', 'boring', 'So', 'brighter', 'automatic', 'empty', 'milkshakes', 'stock', 'Strange', 'N', 'star', 'Lovely', 'timed', 'beefy', 'im', 'Waiting', 'hangover', 'finaly', 'kakiage', 'per', 'recut', 'before', 'colors', 'ornately', 'Who', 'perk', 'loaner', 'slowish', 'whom', 'collection', 'tasteful', 'blamed', 'playing', 'redeeming', 'melty', 'equipped', 'Oder', 'Nothing', 'lemons', 'outrageous', 'conclusion', 'money', 'links', 'fabric', 'forgotten', 'whites', 'Alla', 'cash', 'panhandlers', 'gratitude', 'larger', 'speedy', 'authorized', 'instruction', 'white', 'ungodly', 'VERY', 'appreciative', 'favor', 'proportioned', 'they', 'basket', 'steal', 'friendly', 'desk', 'Leo', 'ate', 'nose', 'necessarily', 'comprehensive', 'confusing', 'chow', 'glasses', 'kinds', 'old', 'poppyseed', 'zone', 'Ida', 'Coconut', 'smokers', 'wax', 'rack', 'ahead', 'Beer', 'ish', 'washer', 'potatoes', 'worst', 'yelled', 'hip', 'unchewable', 'mailed', 'glamorous', 'Have', 'bout', 'mugs', 'becoming', 'Common', 'about', 'depleting', 'Acupuncture', 'decisions', 'fritters', 'classy', 'baristas', 'Oaxaca', 'increasing', 'sectional', 'kitties', 'Flavored', 'learning', 'Gabriel', 'bacon', 'Pricing', 'Carly', 'Yeah', 'pulled', 'friendlier', 'browns', 'vino', 'repleit', 'yin', 'collards', 'Superb', 'woman', 'James', 'Subs', 'chains', 'Trident', 'cider', 'Madeleine', 'downer', 'DAVLIN', 'pacify', 'Tofu', 'animal', 'starter', 'payoff', 'flounder', 'chiken', 'Mexican', 'doing', 'gentle', 'confit', 'bustle', 'party', 'present', 'Avalon', 'Fair', 'will', 'noted', 'glows', 'moon', 'overzealous', 'shorter', 'suite', 'GHETTO', 'Another', 'Waffle', 'BUT', 'dwarfed', 'Royal', 'robbery', 'Allure', 'turning', 'enhancement', 'abysmal', 'Langsha', 'polenta', 'cheerful', 'raw', 'skee', 'buffalo', 'Phoebe', 'horribly', 'banchan', 'Walls', 'childhood', 'Captain', 'bananas', 'migas', 'refrigerator', 'indoors', 'Handy', 'Gras', 'uuumm', 'ONCE', 'toothpaste', 'sound', 'P', 'swung', 'reflect', 'killer', 'calls', 'Yumm', 'wing', 'bone', 'local', 'Xinh', 'graduated', 'Shoal', 'fancy', 'bruschetta', 'Spa', 'delightfully', 'Unprofessional', 'garlicy', 'Iced', 'bunch', 'today', 'meager', 'happy', 'flask', 'carrots', 'titantic', 'cheesy', 'fanatical', 'prevent', 'runner', 'tastes', 'shady', 'bright', 'overused', 'woefully', 'Except', 'dnt', 'Oh', 'puffs', 'moderate', 'MUCH', 'patio', 'midday', 'charred', 'secret', 'opt', 'Hotels', 'tex', 'sage', 'kebabs', 'tender', 'kalamata', 'proceeding', 'Things', 'thickly', 'rubbing', 'dying', 'scoops', 'Dan', 'vegetables', 'Solid', 'Right', 'Soggy', 'nonexistent', 'centric', 'fluids', 'outdoors', 'One', 'prawns', 'hilarious', 'empanadas', 'pitied', 'Bonus', 'cuts', 'ask', 'Virginia', 'sexy', 'regulars', 'praised', 'watched', 'dinners', 'was', 'Wurst', 'online', 'Taro', 'screenshot', 'gifts', 'potato', 'lined', 'state', 'LISTEN', 'Welp', 'Loved', 'Prosciutto', 'Washington', 'Atmosphere', 'aggressively', 'including', 'Anne', 'center', 'full', 'grouper', 'catching', 'brazing', 'lounges', 'Senegalese', 'beers', 'EVERY', 'intervals', 'rate', 'handful', 'books', 'conscious', 'minute', 'American', 'disgusted', 'dime', 'Enjoyed', 'trainer', 'maps', 'decorative', 'worried', 'Adding', 'nicer', 'plentiful', 'Ropa', 'burrata', 'Valentines', 'exemplary', 'drastically', 'rang', 'living', 'Mexico', 'Morgan', 'warmer', 'notches', 'hear', 'scare', 'crappy', 'COSTS', 'witch', 'marmalade', 'ignored', 'spring', 'Universal', 'Mozzarella', 'bathrooms', 'Wine', 'homey', 'Owner', 'Schwab', 'imagination', 'outlets', 'chatted', 'TWICE', 'Zone', 'rosebud', 'Rib', 'tall', 'period', 'barely', 'major', 'massive', 'bourbon', 'fine', 'lighter', 'Perfect', 'scratches', 'buying', 'jargon', 'sliders', 'entrees', 'absolutely', 'Unbelievably', 'half', 'edges', 'brownie', 'gym', 'anyways', 'technician', 'meaty', 'refreshingly', 'installation', 'FILTHY', 'oreo', 'weekend', 'assumption', 'reconsider', 'lighten', 'carpet', 'play', 'vey', 'oblivious', 'museums', 'refrigerate', 'labor', 'humid', 'fusili', 'compassionate', 'eatery', 'Mainly', 'Totally', 'Like', 'justify', 'harden', 'environment', 'traffic', 'Roasted', 'welcomed', 'Wasn', 'Cheng', 'attraction', 'Passed', 'elsewhere', 'Recommendation', 'fairways', 'bottle', 'young', 'Body', 'Aloha', 'photos', 'kindergartens', 'scrambled', 'urgent', 'hide', 'substituted', 'hour', 'Time', 'unexpectedly', 'suits', 'Hotel', 'cutlet', 'deeeelish', 'even', 'parks', 'naked', 'centre', 'child', 'stumbled', 'bomb', 'Must', 'proposed', 'whisked', 'club', 'martinis', 'mingling', 'mains', 'veganism', 'sneak', 'NIGHT', 'servers', 'drinks', 'hairstylist', 'short', 'Center', 'Reuben', 'korean', 'engagement', 'desserts', 'largest', 'got', 'shirts', 'cake', 'stone', 'Academy', 'JoJo', 'squeezed', 'Siensa', 'divey', 'Fajitas', 'blows', 'waffles', 'expertly', 'handle', 'showed', 'TAKEOUT', 'breath', 'select', 'third', 'pins', 'family', 'Peabody', 'pissed', 'unexpected', 'hiding', 'lighting', 'Lee', 'Drury', 'unless', 'road', 'visiting', 'Dog', 'appatizers', 'dancers', 'Vietnamese', 'soya', 'direction', 'edamame', 'summer', 'Chilis', 'brioche', 'Green', 'Menu', 'fast', 'Kudos', 'cilantro', 'confusion', 'Slider', 'decently', 'morning', 'Mushroom', 'Yep', 'sakes', 'cheated', 'Gigantic', 'Swank', 'sprinkler', 'mushroom', 'ina', 'Started', 'scheduling', 'Believe', 'Park', 'Brussels', 'beltline', 'realistic', 'saffron', 'fueled', 'Jam', 'great', 'chowmein', 'ziti', 'Brie', 'florida', 'portion', 'began', 'E', 'track', 'huge', 'Pong', 'atrium', 'hummus', 'international', 'minor', 'inspiring', 'stories', 'went', 'Anyway', 'associates', 'supplies', 'tacked', 'WORST', 'acrylic', 'Would', 'UP', 'rotation', 'Paramount', 'Faced', 'returned', 'veggies', 'enjoyed', 'Hanh', 'gossip', 'dipped', 'standard', 'tzatziki', 'Lifetime', 'rain', 'competence', 'mixta', 'wellbeing', 'ensuring', 'absurd', 'intimate', 'descriptions', 'pollo', 'Lounge', 'sticker', 'Hider', 'delicate', 'jackets', 'sushi', 'let', 'flooring', 'Ther', 'vindaloo', 'lots', 'dirt', 'coma', 'slices', 'brown', 'WTF', 'FAST', 'enthusiasm', 'printer', 'buff', 'Chung', 'Karen', 'Lynn', 'kabab', 'neutrals', 'dont', 'patty', 'Boma', 'Every', 'massaged', 'dente', 'lightly', 'Lot', 'light', 'interaction', 'lobsters', 'street', 'tastiest', 'inconvenient', 'advising', 'musty', 'agreed', 'warmly', 'squid', 'Fritos', 'atmosphere', 'Taishoken', 'lazy', 'shitty', 'resort', 'drops', 'quirky', 'porf', 'plantain', 'fluctuated', 'Btw', 'Taylor', 'pampered', 'dun', 'moves', 'idle', 'sizzling', 'decide', 'denying', 'cupcake', 'Future', 'sloping', 'totally', 'well', 'male', 'zealous', 'tart', 'tandoori', 'botch', 'cabinets', 'Lazy', 'craft', 'miles', 'alleviating', 'gripe', 'pink', 'bullying', 'waitresses', 'lend', 'bream', 'cost', 'Knowing', 'vary', 'personable', 'practically', 'lag', 'worry', 'creams', 'want', 'Motocrosa', 'dosas', 'shoulder', 'checked', 'smoking', 'bar', 'accented', 'airports', 'pans', 'recieved', 'fade', 'followup', 'sole', 'betta', 'marrow', 'Ever', 'Guy', 'stocks', 'saved', 'receiving', 'Area', 'accidentally', 'LOOK', 'Chuy', 'cancelled', 'greeters', 'despite', 'shawarma', 'hadnt', 'weather', 'belly', 'adding', 'annoyed', 'handy', 'unsanitary', 'That', 'extends', 'visit', 'actively', 'walked', 'Happy', 'plug', 'culpability', 'tropical', 'repeatedly', 'clock', 'anywhere', 'Rangoon', 'damp', 'RECOMMEND', 'Our', 'reminder', 'Chhasha', 'Mother', 'in', 'recommended', 'explaining', 'surprised', 't', 'blackened', 'pasta', 'weak', 'estimating', 'Took', 'sinks', 'dog', 'though', 'add', 'Nom', 'stored', 'enamored', 'Dandy', 'stove', 'Hazelnut', 'biggest', 'ethos', 'vacuuming', 'wan', 'dreamy', 'none', 'okra', 'pocket', 'tool', 'budget', 'Poutine', 'advertising', 'Resulted', 'families', 'pass', 'harbor', 'Cleaning', 'summertime', 'macaroons', 'brings', 'ways', 'City', 'collector', 'Normally', 'Tom', 'Again', 'Bozz', 'roll', 'wings', 'cabbage', 'joes', 'relative', 'isn', 'Raconteurs', 'daughters', 'slightly', 'fridge', 'godzilla', 'deep', 'folk', 'profits', 'casual', 'sat', 'Rooms', 'cuisines', 'Emory', 'Reasonable', 'grows', 'reccomend', 'restos', 'certain', 'disappoints', 'fellow', 'pot', 'teeth', 'Persepolis', 'renovation', 'aware', 'Belgian', 'Falafel', 'games', 'showing', 'section', 'expectation', 'Unlimited', 'honor', 'panini', 'accommodating', 'judge', 'Babette', 'updated', 'Calamari', 'crossing', 'Plane', 'breadth', 'wrapper', 'omg', 'bowls', 'omellettes', 'consider', 'Call', 'funny', 'jukebox', 'dining', 'discounts', 'America', 'o', 'lips', 'drama', 'stoves', 'INCONSIDERATE', 'tagliatelle', 'overheated', 'brusquely', 'proper', 'end', 'Fonda', 'new', 'tallest', 'teas', 'airport', 'created', 'tendinitis', 'Sliders', 'achieve', 'Choice', 'weekly', 'policies', 'treatments', 'reviewers', 'lucky', 'Red', 'intending', 'depth', 'hee', 'patience', 'rim', 'farm', 'owners', 'backed', 'assigned', 'Consistently', 'Titusville', 'wolfed', 'branch', 'Soyer', 'existing', 'Directly', 'scattered', 'sensitive', 'name', 'Margherita', 'Maine', 'immediate', 'particularly', 'legged', 'Me', 'ah', 'organized', 'dashi', 'wear', 'amongst', 'Beau', 'quesadillas', 'Authentic', 'em', 'beginning', 'unevenly', 'claims', 'leftover', 'clientele', 'Ordering', 'wonder', 'Beltline', 'unimpressed', 'delectable', 'earth', 'left', 'lines', 'beef', 'bottomless', 'amalgamation', 'packages', 'insulted', 'choice', 'teriyaki', 'RENTAL', 'Dazed', 'broth', 'savings', 'This', 'Heineken', 'lomito', 'beat', 'cobwebs', 'mins', 'booth', 'send', 'State', 'Pleasant', 'Tiffins', 'natives', 'continue', 'stare', 'league', 'Brasserie', 'sale', 'users', 'broach', 'ghost', 'Nancy', 'tray', 'throw', 'financing', 'crumbles', 'creamy', 'smelled', 'consult', 'Texas', 'Milk', 'biting', 'mutant', 'gnocchi', 'upscale', 'variations', 'Horror', 'haircutter', 'overheard', 'Clearly', 'restaurant', 'banging', 'we', 'excitement', 'Carlos', 'Foods', 'boarding', 'completely', 'park', 'first', 'initially', 'absorb', 'residential', 'hates', 'Porchetta', 'radar', 'deluxe', 'replicate', 'meals', 'richness', 'abilities', 'Cooks', 'cloyingly', 'prove', 'Just', 'starve', 'stood', 'tandoor', 'deter', 'prepared', 'blackberry', 'Carmen', 'colorado', 'sweltering', 'Light', 'Atlanta', 'yardage', 'fitting', 'calmly', 'seasonings', 'Instagram', 'faded', 'write', 'DJ', 'upside', 'interestingly', 'communicative', 'quaint', 'Think', 'satay', 'Super', 'Two', 'drive', 'lovely', 'Monday', 'Therefore', 'flan', 'cart', 'legit', 'insisting', 'weymouth', 'Rylee', 'Regarding', 'ripe', 'found', 'Harvest', 'boys', 'Vancouver', 'Bandita', 'Momo', 'grana', 'saying', 'beautiful', 'Aztec', 'meant', 'unorganized', 'smita', 'Kim', 'units', 'dusty', 'Shame', 'originally', 'mug', 'bracelets', 'stuffing', 'Id', 'edge', 'find', 'Regular', 'use', 'punished', 'tiramisu', 'Mustafa', 'relleno', 'wifi', 'refunded', 'mall', 'Main', 'eaten', 'Clark', 'Daycare', 'Vij', 'roast', 'counts', 'balsamic', 'luscious', 'sodium', 'update', 'washcloth', 'Row', 'goal', 'Inn', 'Song', 'please', 'tanning', 'Communal', 'jumped', 'treatment', 'exact', 'Today', 'limit', 'skyline', 'Also', 'Rolls', 'everytime', 'Everytime', 'seated', 'counter', 'microwaved', 'certainly', 'faucets', 'hint', 'lightyear', 'discriminatory', 'boerewors', 'discovering', 'League', 'cleaning', 'talk', 'Affordable', 'competent', 'correct', 'meatball', 'story', 'Tiffany', 'President', 'hurry', 'When', 'oilier', 'renovations', 'instructed', 'shift', 'drunk', 'Kennedy', 'philosophy', 'acai', 'chain', 'roach', 'constantly', 'Spaceship', 'medallions', 'crew', 'WATERSKIING', 'greasy', 'noise', 'frames', 'Stuffed', 'expressing', 'pillows', 'husbands', 'Studios', 'Flip', 'High', 'vegis', 'Lisa', 'frogmore', 'Restaurant', 'election', 'collected', 'awsome', 'ratio', 'handed', 'ginger', 'Kits', 'EVERYWHERE', 'gone', 'improving', 'Other', 'shrimp', 'areas', 'made', 'straw', 'stuffed', 'talent', 'Johns', 'buffets', 'smell', 'western', 'dealer', 'zucchini', 'hone', 'digest', 'forgettable', 'tucked', 'any', 'staff', 'hottttt', 'hallway', 'pakoras', 'faster', 'louder', 'cuticles', 'shows', 'flare', 'coworker', 'busing', 'char', 'dosa', 'Trio', 'Undercooked', 'OP', 'Beaverton', 'salem', 'combined', 'Teagan', 'designated', 'overdone', 'Farm', 'art', 'jingle', 'surveyed', 'lumped', 'oatmeal', 'Cheesecake', 'Drink', 'raspberries', 'chimichanga', 'buttery', 'hopes', 'interest', 'transferred', 'unspecial', 'complimentary', 'uncovered', 'ramekin', 'amount', 'eats', 'gush', 'plethora', 'Carlton', 'sizeable', 'tossing', 'animations', 'interacted', 'Mediterranean', 'creamier', 'painless', 'Brought', 'sweetness', 'duper', 'Sichuan', 'focus', 'tater', 'loyalty', 'proven', 'mile', 'Sultani', 'Cure', 'Siouxsie', 'jam', 'theirs', 'simplicity', 'marinade', 'Kofta', 'touch', 'approximately', 'useless', 'visiti', 'exorbitantly', 'message', 'mobile', 'tightly', 'aftertaste', 'expanding', 'through', 'Everyone', 'standards', 'Water', 'example', 'crushed', 'downside', 'sky', 'notes', 'FRIED', 'gyoza', 'typically', 'satellites', 'lasik', 'amazingly', 'kill', 'physical', 'produced', 'monsters', 'luxury', 'inconvenience', 'mousse', 'Decieving', 'whether', 'grumpy', 'chairs', 'feta', 'multi', 'Tahoe', 'builds', 'Motocorsa', 'battery', 'THANK', 'Vista', 'Reynoldsburg', 'south', 'clerks', 'preferred', 'Beach', 'Eskandar', 'kept', 'man', 'y', 'HANDS', 'ANY', 'events', 'Roto', 'pack', 'Lasik', 'brussel', 'Olive', 'Roma', 'inattentive', 'fresh', 'tavern', 'appearances', 'furiously', 'Run', 'low', 'taters', 'hairstylists', 'growing', 'vehicle', 'yelpers', 'villa', 'China', 'achieving', 'portions', 'best', 'bankroll', 'trustworthy', 'SMALL', 'noontime', 'Alewife', 'thrilling', 'onions', 'yummy', 'hrs', 'match', 'technicians', 'avocado', 'Bummer', 'taro', 'COST', 'Predictably', 'pampering', 'existence', 'Palladium', 'HEAVEN', 'Almendra', 'R', 'plush', 'ranks', 'flair', 'Adjective', 'luma', 'Monro', 'prenatal', 'knife', 'Employee', 'pricematch', 'bites', 'nurses', 'taxing', 'Either', 'Graveyard', 'drumsticks', 'verbally', 'sense', 'conference', 'wi', 'combination', 'overstaffed', 'fucking', 'Cambodian', 'jumbo', 'biweekly', 'To', 'operate', 'appreciate', 'dust', 'Centra', 'outcome', 'chef', 'fully', 'attire', 'top', 'mortified', 'scorpion', 'confirm', 'Thursday', 'dot', 'tooth', 'smug', 'conversing', 'chemicals', 'Having', 'anything', 'exotic', 'escape', 'Crepevine', 'contestant', 'aren', 'suites', 'whim', 'laminated', 'Beers', 'grinds', 'syrup', 'middle', 'ATL', 'searched', 'albeit', 'mean', 'hookah', 'Nirvana', 'juggled', 'Elm', 'funky', 'confused', 'CO', 'video', 'racks', 'yucky', 'stylish', 'reading', 'picky', 'lake', 'fair', 'guacamole', 'complaining', 'definition', 'burn', 'skimpier', 'chair', 'Spicy', 'served', 'THAN', 'Marissa', 'overpriced', 'land', 'since', 'Soooo', 'pleasing', 'Scoutmob', 'my', 'hollandaise', 'stay', 'Dang', 'resolve', 'clearance', 'walking', 'queso', 'Fried', 'cares', 'were', 'Allegra', 'TYPES', 'steered', 'LIED', 'considerate', 'honey', 'sidewalk', 'plantains', 'dull', 'told', 'Damage', 'IMO', 'introduced', 'Schnitzels', 'further', 'Macaroons', 'conservation', 'helping', 'Glendale', 'Gorgeous', 'rates', 'soaked', 'taxis', 'words', 'consistent', 'volunteers', 'belonged', 'died', 'ensure', 'Luckily', 'Pikes', 'joints', 'mother', 'do', 'oops', 'by', 'hiiden', 'Parish', 'onset', 'bouncer', 'Random', 'upstairs', 'expecting', 'service', 'Cape', 'continues', 'view', 'Doubled', 'wrong', 'floats', 'Malden', 'BF', 'breathing', 'understatement', 'Orange', 'alone', 'TIMES', 'hill', 'inspection', 'Going', 'GPS', 'pressed', 'forward', 'Cala', 'powering', 'wise', 'sunday', 'Muppets', 'LASIK', 'hanging', 'honed', 'minimal', 'Make', 'YOUR', 'Hmmm', 'Indeed', 'reduce', 'Out', 'building', 'earrings', 'item', 'covered', 'IN', 'sometimes', 'fricken', 'SALESPEOPLE', 'THEM', 'textures', 'hairs', 'desires', 'Chicken', 'sweets', 'stocked', 'gorgeous', 'make', 'freaking', 'Turns', 'realllly', 'mistakes', 'there', 'joke', 'intervention', 'flaky', 'peeling', 'division', 'buds', 'ya', 'boy', 'former', 'biscuit', 'boycott', 'crabcakes', 'eternity', 'growers', 'Jeep', 'hollandase', 'blue', 'brew', 'goods', 'tapestries', 'nobody', 'Yan', 'Dixie', 'faux', 'consists', 'junior', 'Hire', 'butts', 'california', 'television', 'waste', 'gladly', 'Joe', 'mbps', 'addiction', 'NEGATIVE', 'Hawaii', 'faithful', 'combos', 'apparently', 'theater', 'passionate', 'whereby', 'dumb', 'studied', 'faces', 'Yuk', 'across', 'which', 'hostesses', 'sister', 'filthy', 'syrupy', 'Brittany', 'Thankfully', 'shocked', 'relaxation', 'kunefe', 'Over', 'job', 'Ham', 'wacker', 'wild', 'maintained', 'George', 'PIZZA', 'trendy', 'Well', 'monster', 'generating', 'Snap', 'lobby', 'slider', 'newbies', 'shadowing', 'Taco', 'hospitality', 'Plumbing', 'scallops', 'decorate', 'personally', 'Fundido', 'exotica', 'flourless', 'Gallo', 'burst', 'fixed', 'YMCA', 'jar', 'antique', 'tossed', 'Expensive', 'customers', 'heaters', 'access', 'toast', 'ashamed', 'Casual', 'quoted', 'manger', 'exercise', 'U', 'Puerto', 'rhubarb', 'magnificent', 'communal', 'come', 'Stir', 'cutting', 'flirting', 'coffees', 'sugary', 'Mac', 'uninspiring', 'bunless', 'tennis', 'Personally', 'Vegetarian', 'natural', 'inhaling', 'samplings', 'Azuer', 'Circa', 'vents', 'nutritious', 'Waiter', 'doesnt', 'wraps', 'employee', 'placing', 'starting', 'slowly', 'ray', 'dolphins', 'folks', 'compete', 'darn', 'account', 'feel', 'tissue', 'supplemented', 'Vanilla', 'strips', 'assume', 'close', 'brûlée', 'House', 'raised', 'Starbucks', 'booths', 'Reservations', 'vibe', 'Kingdom', 'irredeemable', 'Ginger', 'level', 'hosting', 'cooked', 'daily', 'outing', 'Bathroom', 'Mustard', 'Kashk', 'PM', 'transplant', 'nearer', 'separate', 'echo', 'liking', 'blasting', 'costs', 'yellow', 'Beverly', 'closure', 'underestimated', 'extreme', 'bruins', 'Jus', 'Nam', 'sherry', 'slacks', 'As', 'repairs', 'trim', 'ex', 'Pineapple', 'HUGE', 'flight', 'artisans', 'standout', 'Talk', 'Ambiance', 'nori', 'firepit', 'concise', 'Empire', 'inexperienced', 'wine', 'countlessly', 'ranting', 'several', 'rye', 'jumping', 'Macs', 'Hank', 'Frank', 'saving', 'responds', 'instructor', 'bursting', 'Loud', 'movie', 'waxing', 'holy', 'Moo', 'entered', 'orchard', 'favorites', 'kidding', 'It', 'chilli', 'luggage', 'Sous', 'updates', 'Metropolis', 'finished', 'After', 'Thank', 'Tart', 'yuck', 'plainly', 'regularly', 'NYC', 'thali', 'join', 'couches', 'refill', 'skyping', 'contaminated', 'occasion', 'matcha', 'Subway', 'candles', 'Jimmy', 'Jessie', 'understood', 'prescribed', 'efficient', 'Venezuelan', 'design', 'number', 'thereafter', 'warranty', 'country', 'All', 'procedures', 'PCM', 'oils', 'Jackson', 'shampoo', 'talked', 'Roast', 'brisket', 'ICBC', 'seconds', 'hold', 'South', 'Benedict', 'refreshed', 'function', 'foam', 'saw', 'factor', 'horn', 'preparation', 'VGS', 'spend', 'Mangia', 'limes', 'lotions', 'cheeses', 'mainly', 'players', 'bhaaji', 'obnoxious', 'blowing', 'accessories', 'ease', 'stepped', 'Interesting', 'Love', 'instructors', 'Halibut', 'upset', 'draw', 'warned', 'jazz', 'fluffy', 'Hong', 'Bliss', 'balcony', 'overbearing', 'specific', 'THEY', 'lane', 'brasilian', 'Asada', 'planners', 'olives', 'marble', 'screen', 'signature', 'pancakes', 'grooming', 'Lots', 'ma', 'fees', 'trying', 'Bad', 'programs', 'They', 'Sit', 'shopping', 'afterwords', 'girls', 'Daniel', 'Coppa', 'intentional', 'marinate', 'Tip', 'Pillows', 'Yeti', 'artificial', 'turns', 'rest', 'Pandora', 'couple', 'Posh', 'di', 'Dad', 'genuineness', 'Fig', 'Hello', 'Globe', 'chevron', 'Ahi', 'overlooking', 'ride', 'Soba', 'kabob', 'wander', 'damned', 'Salad', 'sauerbraten', 'Belt', 'Dirty', 'duck', 'thats', 'honored', 'Second', 'somewhat', 'brownies', 'time', 'luxe', 'Grille', 'Mothers', 'Upon', 'drunken', 'neighborhood', 'exhibits', 'rejected', 'taller', 'basque', 'Guacamole', 'tapestry', 'St', 'unreliable', 'why', 'uneatable', 'meñu', 'Industrial', 'unprofessional', 'DT', 'hairwash', 'Wahlburgers', 'Okras', 'addict', 'salsas', 'saltado', 'crapiest', 'levels', 'flavorless', 'sit', 'ROCKS', 'burrito', 'yeast', 'nontheless', 'bakery', 'Ponce', 'Conveniently', 'healthier', 'dakdoritang', 'moh', 'youth', 'leaves', 'stroll', 'pile', 'angel', 'instead', 'latter', 'grandfather', 'hamburgers', 'ADORE', 'Anybody', 'Peoplemover', 'Flying', 'neighbor', 'inept', 'Grub', 'bitsy', 'receipt', 'INSTRUCTION', 'hate', 'mealy', 'believe', 'Ice', 'prescription', 'Facilities', 'description', 'trades', 'blank', 'b', 'dropping', 'character', 'minus', 'yeah', 'housekeeping', 'Seafood', 'massages', 'received', 'fix', 'total', 'acknowledged', 'ON', 'barbacoa', 'thing', 'Ramen', 'Allie', 'tied', 'TGI', 'operating', 'comfortable', 's', 'Automotive', 'methods', 'Nepali', 'advice', 'breads', 'observed', 'recent', 'Kong', 'attached', 'Yelpers', 'JLo', 'hang', 'Lime', 'Fixe', 'USA', 'placed', 'L', 'stumbling', 'should', 'persuading', 'deliveries', 'concert', 'mysteriously', 'IV', 'stylists', 'Dressed', 'bulgogi', 'successfully', 'salesman', 'Simply', 'She', 'place', 'overwhelming', 'cross', 'tastefully', 'graced', 'overrun', 'professional', 'Doggie', 'FEET', 'Josie', 'campaign', 'talkative', 'Huge', 'Such', 'Lily', 'past', 'flowers', 'dipping', 'NEP', 'cheerfully', 'owned', 'ability', 'however', 'heads', 'naive', 'entering', 'Ravioli', 'somehow', 'rides', 'constant', 'institutional', 'circulation', 'it', 'haircuts', 'retro', 'Worth', 'traditional', 'craving', 'bathroom', 'offers', 'Mein', 'Village', 'Stylist', 'versed', 'pairing', 'accessible', 'waiter', 'promised', 'loft', 'wall', 'Bbq', 'Starting', 'oily', 'flag', 'again', 'kabobs', 'pea', 'tenders', 'concoctions', 'spirits', 'Holy', 'Now', 'Back', 'unsalted', 'Truly', 'dated', 'chile', 'WiFi', 'staying', 'headed', 'bits', 'slouch', 'arent', 'sashimi', 'holliadaise', 'duration', 'Todd', 'def', 'gizzards', 'Don', 'frita', 'outlet', 'rooting', 'dead', 'understands', 'Nutella', 'swiss', 'selected', 'plants', 'passion', 'whitening', 'agent', 'performances', 'didnt', 'husband', 'Hellman', 'Several', 'lilacs', 'sunlight', 'Scheduling', 'Brunch', 'exams', 'feels', 'vague', 'Mart', 'Concept', 'stations', 'Reina', 'Friendly', 'Security', 'yet', 'wants', 'Willow', 'motel', 'Hanna', 'flood', 'Kendall', 'bigger', 'Austex', 'given', 'Crispy', 'Shared', 'convention', 'Germany', 'bubble', 'manicured', 'diners', 'needless', 'pains', 'Salem', 'comprehend', 'melting', 'frosting', 'Westside', 'covering', 'LOVE', 'Jiko', 'allowance', 'doorman', 'ended', 'Empanada', 'remission', 'times', 'cheese', 'steroids', 'paw', 'strikes', 'Tire', 'trivia', 'Fab', 'bussboys', 'lived', 'Fish', 'Fanny', 'unimaginative', 'inferior', 'surrounding', 'slap', 'bowling', 'Sandwich', 'siu', 'admire', 'allergen', 'Happily', 'expert', 'Still', 'disappears', 'intervene', 'courses', 'ohio', 'phase', 'loan', 'filler', 'crap', 'boo', 'river', 'email', 'daycare', 'locker', 'Mool', 'supportive', 'alco', 'give', 'sewing', 'fun', 'blessing', 'tonite', 'sh', 'disco', 'accoutrements', 'Reliable', 'various', 'adorned', 'changes', 'yesterday', 'salesperson', 'joined', 'partake', 'oh', 'duty', 'streams', 'hasn', 'look', 'Ten', 'clothes', 'thicker', 'Excellent', 'soft', 'haircut', 'question', 'briefly', 'About', 'sticks', 'Tammy', 'WITH', 'older', 'Georgia', 'anchovies', 'growth', 'influence', 'holes', 'coated', 'paste', 'pecan', 'flavors', 'Unacceptable', 'monchi', 'toxic', 'AJ', 'try', 'stress', 'color', 'missing', 'busy', 'unhappy', 'foods', 'beyond', 'Villa', 'Chanel', 'inventory', 'restuarant', 'grossly', 'glue', 'feet', 'Gobi', 'Clinic', 'takeaway', 'quieter', 'besides', 'hyperactive', 'contrast', 'lick', 'nothing', 'At', 'Customized', 'Definite', 'on', 'GREAT', 'Easily', 'damage', 'keen', 'cardboard', 'Banana', 'Lettuce', 'ducks', 'fruit', 'shrinkage', 'PIG', 'checkout', 'RDFiT', 'THO', 'who', 'checking', 'shake', 'oopsie', 'sketchy', 'flow', 'thus', 'mary', 'relaxed', 'shoved', 'Parking', 'realllllllllyyyyyyyy', 'Peter', 'keeps', 'vet', 'tartar', 'investigating', 'Let', 'talented', 'deserts', 'Lastly', 'lackadasical', 'Proscuitto', 'not', 'Way', 'Dough', 'slather', 'ceiling', 'raisins', 'bell', 'invasive', 'cod', 'boned', 'crunches', 'optimal', 'Generally', 'Pastor', 'begin', 'tv', 'caters', 'veryyyy', 'radio', 'inconsiderate', 'Speechless', 'package', 'replacement', 'Target', 'fire', 'player', 'pity', 'mulling', 'attitude', 'Significantly', 'personalities', 'ready', 'guts', 'reschedule', 'CUT', 'Worse', 'tomorrow', 'ages', 'wouldn', 'doubt', 'Delicious', 'draft', 'Mashed', 'friends', 'supposed', 'Mom', 'Smitas', 'attempt', 'butt', 'Much', 'refusal', 'CLOTHES', 'Evita', 'with', 'sterling', 'hurt', 'had', 'duo', 'ordered', 'unapologetic', 'trick', 'blast', 'hope', 'pesto', 'exactly', 'discovered', 'bases', 'Masa', 'oxtail', 'progressing', 'Paris', 'ridiculous', 'goma', 'arches', 'Pub', 'sooooo', 'glad', 'annoys', 'canola', 'cheddar', '-OOV-', 'Piroshky', 'frites', 'terminal', 'large', 'tortillas', 'offer', 'clog', 'checkers', 'flexing', 'frame', 'graft', 'plates', 'situation', 'Cats', 'Tteokbokee', 'refuse', 'quests', 'chilis', 'asked', 'ripoff', 'gals', 'blend', 'pressured', 'broccoli', 'blossoms', 'Mapo', 'Regardless', 'long', 'skulls', 'impressed', 'Orthodontics', 'classiest', 'saturated', 'chilled', 'airy', 'Dosa', 'nephews', 'gazpacho', 'clams', 'pancetta', 'Katsu', 'managed', 'pinball', 'corn', 'Render', 'Oregon', 'Sprinklers', 'Godfather', 'confess', 'handicapped', 'means', 'views', 'gay', 'Grotto', 'sloppy', 'delivery', 'outside', 'adjacent', 'inviting', 'peanuts', 'canine', 'platters', 'Grouper', 'lumpy', 'amazeballs', 'instances', 'strayed', 'scratch', 'sandwich', 'suit', 'animated', 'DC', 'availability', 'temperature', 'shareable', 'Bein', 'tilapia', 'coke', 'are', 'Lighting', 'hot', 'Charged', 'Barcelona', 'specimens', 'pure', 'On', 'Side', 'screens', 'palatable', 'poorly', 'beginner', 'Reminiscent', 'causing', 'blasphemous', 'Needless', 'receptionists', 'Post', 'home', 'promises', 'Tonkotsu', 'Yay', 'I', 'just', 'Valet', 'awesomeness', 'Sweet', 'Lomo', 'Daito', 'Messed', 'mortar', 'basement', 'divine', 'Indian', 'Years', 'soo', 'surgeon', 'chole', 'acting', 'fudge', 'closed', 'amazing', 'attendant', 'October', 'disappointed', 'switching', 'ALWAYS', 'zero', 'spaetzle', 'Vaughn', 'shine', 'settle', 'category', 'downfall', 'racing', 'strawberries', 'Lump', 'swimming', 'Octane', 'Can', 'reel', 'note', 'Experience', 'Luna', 'smoothies', 'swapped', 'gallo', 'current', 'Loco', 'lemonade', 'could', 'bringing', 'me', 'hum', 'help', 'complaint', 'Box', 'upgrade', 'hands', 'space', 'equal', 'closest', 'limits', 'tipping', 'internet', 'Attendants', 'identified', 'Tikka', 'exquisite', 'fandango', 'eaters', 'ensures', 'marketing', 'manufacturing', 'Added', 'designers', 'especially', 'raving', 'expec', 'deceived', 'Someone', 'thank', 'sweetie', 'boiled', 'moody', 'Plate', 'Phenomenal', 'choose', 'LET', 'against', 'Medici', 'TLC', 'linens', 'grub', 'Family', 'slow', 'bellman', 'Pats', 'habanero', 'cocktail', 'fillings', 'tonkotsu', 'those', 'when', 'Minus', 'PLEASE', 'ATMOSPHERE', 'roaster', 'gooey', 'hash', 'coffeaholic', 'Ergo', 'Billy', 'record', 'such', 'ounce', 'smooth', 'Forgot', 'sessions', 'designer', 'Maison', 'Vegetable', 'instructions', 'pleasantness', 'excellence', 'brakes', 'CHEAP', 'actual', 'payed', 'macarons', 'fireplace', 'Portland', 'impressive', 'chick', 'christmas', 'unpretentious', 'patron', 'count', 'marinated', 'LINE', 'adhere', 'refried', 'dealbreaker', 'Snarfs', 'comfy', 'rougher', 'Update', 'fruits', 'masala', 'payment', 'Anticuchos', 'Cafe', 'heroes', 'grainy', 'frustrating', 'overwhelmed', 'selection', 'met', 'primarily', 'relationship', 'deserves', 'The', 'makes', 'bangs', 'customer', 'aspect', 'vension', 'kids', 'grease', 'simple', 'girl', 'personality', 'COOL', 'drew', 'Initially', 'above', 'awesome', 'loud', 'acoustics', 'bank', 'dissapointing', 'kale', 'sand', 'stretches', 'team', 'silks', 'Swiss', 'stingy', 'rossito', 'childish', 'coating', 'cover', 'Nonetheless', 'screwed', 'scissor', 'diamonds', 'average', 'unhealthy', 'OPI', 'buns', 'Helpful', 'scalp', 'sick', 'housecleaning', 'classic', 'book', 'Diner', 'seems', 'Cup', 'Myers', 'watching', 'communicates', 'Caspar', 'pressure', 'highlight', 'Fast', 'deli', 'ranging', 'Wet', 'enjoyable', 'love', 'Tucked', 'begins', 'updating', 'say', 'ins', 'Sports', 'dumpling', 'Roots', 'Skip', 'English', 'exceptionally', 'corner', 'laat', 'Complimentary', 'Vanessa', 'refills', 'Dentistry', 'Jamie', 'Tucci', 'sorts', 'transparent', 'takes', 'cleaner', 'modern', 'fan', 'romantic', 'Tea', 'variety', 'guy', 'op', 'changing', 'Confused', 'hotspot', 'introductory', 'regarding', 'Rosemary', 'Beautiful', 'managers', 'Phaksha', 'Dr', 'herbal', 'balls', 'chance', 'denied', 'Whatever', 'event', 'bussing', 'Suerte', 'arms', 'forgeting', 'Xavier', 'receptionist', 'cheery', 'mini', 'Nachos', 'suck', 'PINK', 'satisfactory', 'dread', 'sucked', 'manis', 'Flavor', 'Matador', 'lesson', 'Stevia', 'massage', 'Omelette', 'ones', 'greek', 'scares', 'Strong', 'piping', 'Mongolian', 'Clean', 'varieties', 'Union', 'repaint', 'smackin', 'spreading', 'feature', 'think', 'kimchi', 'de', 'bill', 'rarely', 'extraordinarily', 'menus', 'Naturally', 'dress', 'god', 'Friend', 'jackass', 'alright', 'Eating', 'outfitted', 'live', 'Jackie', 'M', 'below', 'Frustrated', 'fiancées', 'meaning', 'crema', 'finest', 'ass', 'elevated', 'eye', 'town', 'billing', 'gimmicks', 'resistant', 'YUM', 'step', 'occasions', 'distracted', 'happened', 'digesting', 'warehouse', 'allergic', 'Belmont', 'Try', 'worrying', 'wtf', 'valid', 'unimpressive', 'youre', 'personnel', 'excuse', 'hockey', 'Hoppin', 'an', 'lotta', 'worthwhile', 'amazon', 'hibachi', 'artful', 'flights', 'hungry', 'LITERALLY', 'vendor', 'refund', 'Belly', 'TINY', 'lightning', 'others', 'Instead', 'challenging', 'lies', 'one', 'lame', 'expensive', 'kelvin', 'invisible', 'curt', 'underneath', 'sourced', 'End', 'Groves', 'meal', 'speakers', 'laden', 'garden', 'itself', 'referring', 'here', 'newly', 'plant', 'contacts', 'Mini', 'Stew', 'You', 'dance', 'merely', 'glosses', 'ARE', 'gift', 'cornmeal', 'docks', 'fabrics', 'splitting', 'businesses', 'Uber', 'rodeo', 'piece', 'totaled', 'stretch', 'helps', 'Chinese', 'tad', 'Prohibited', 'ineptitude', 'turnover', 'Carolinas', 'Melanie', 'wagyu', 'desolate', 'pool', 'crowds', 'Which', 'different', 'REALLY', 'throughly', 'answered', 'savers', 'questionable', 'Caffe', 'shaped', 'minimally', 'thrives', 'softness', 'assist', 'Breathtakingly', 'used', 'quotation', 'exaggeration', 'loooooove', 'Broad', 'pleased', 'moving', 'row', 'promo', 'flavourless', 'biscuits', 'lit', 'discounted', 'Before', 'revenue', 'spent', 'swarma', 'Acoustics', 'tell', 'yokai', 'habits', 'food', 'eraser', 'inefficient', 'Corah', 'containers', 'exploiting', 'douche', 'Szechuan', 'sometime', 'flank', 'cookie', 'BACON', 'dessert', 'willing', 'convenient', 'beloved', 'experienced', 'pitchers', 'East', 'Portions', 'Craig', 'dine', 'Amazing', 'Coffee', 'tallish', 'entree', 'Martini', 'cats', 'Patron', 'Accompaniments', 'lover', 'cancer', 'chop', 'contradiction', 'Jacuzzi', 'Risotto', 'stomach', 'combo', 'consumption', 'ONLY', 'unwilling', 'magnitude', 'Located', 'border', 'wishing', 'forgot', 'unprepared', 'Bueno', 'Leek', 'reach', 'notice', 'u', 'arrangements', 'Kathleen', 'travel', 'renovated', 'indoor', 'culinary', 'Employees', 'capacity', 'bench', 'Insurance', 'connects', 'hamburger', 'features', 'hurts', 'fail', 'Priceline', 'down', 'brushes', 'livers', 'crane', 'marine', 'dive', 'Damn', 'session', 'gravy', 'clueless', 'greedy', 'TMJ', 'werw', 'Navigator', 'goofed', 'Vodka', 'marscopone', 'double', 'rented', 'landmark', 'honesty', 'SHE', 'Loft', 'greatest', 'rave', 'wondering', 'burnt', 'nuts', 'messy', 'guava', 'seat', 'mashed', 'flawless', 'base', 'Interior', 'ultimately', 'Yuck', 'Golf', 'dentist', 'answering', 'PBR', 'cherry', 'pickled', 'naysayers', 'seasoning', 'locks', 'charging', 'essentially', 'gourmet', 'dealt', 'trek', 'undesirable', 'Lucky', 'closer', 'crueller', 'refuses', 'Horribe', 'luke', 'clever', 'deteriorating', 'dusted', 'incredible', 'improvement', 'barber', 'donate', 'pretzel', 'Trevi', 'Collard', 'bet', 'entertaining', 'honestly', 'critusy', 'students', 'rewarded', 'Marble', 'Was', 'temp', 'bouncers', 'redeemed', 'poster', 'kiosk', 'worse', 'yes', 'Quesadilla', 'Healthy', 'troubleshoot', 'Sipping', 'suppress', 'unqualified', 'network', 'Mala', 'Yes', 'Russel', 'Comfort', 'bf', 'Dreadfully', 'understaffed', 'Rating', 'robin', 'realized', 'Monica', 'standing', 'tapioca', 'wines', 'cuz', 'Liked', 'Relleno', 'Reservation', 'based', 'journey', 'DJing', 'Hell', 'stir', 'mutual', 'generic', 'Idahoes', 'badly', 'idea', 'Professional', 'named', 'et', 'Gyouza', 'cooking', 'lounge', 'Jinya', 'unappetizing', 'YOU', 'floods', 'beaten', 'nostalgic', 'tries', 'Pisces', 'Boals', 'unobtrusive', 'venue', 'friend', 'Dine', 'needed', 'obsessed', 'Save', 'yakitori', 'marg', 'Jajangmyeon', 'dictates', 'drink', 'dirty', 'comparison', 'accurate', 'pedicure', 'missed', 'Amaryllis', 'reliving', 'neanderthal', 'searching', 'Millennium', 'frittata', 'Care', 'beds', 'dumped', 'vets', 'Julio', 'finish', 'presents', 'luxurious', 'commercial', 'olive', 'Contemporary', 'probable', 'bitter', 'rating', 'medication', 'Italian', 'middlin', 'florist', 'braise', 'Desserts', 'fingers', 'Meh', 'Butter', 'Mexicans', 'Barking', 'arrives', 'artistic', 'Saturdays', 'page', 'faring', 'mutton', 'festive', 'size', 'confident', 'effects', 'prior', 'setup', 'deeeelicious', 'Palace', 'Bar', 'GUYS', 'visually', 'shot', 'from', 'computers', 'remorse', 'gigantic', 'cheesecake', 'pickup', 'Big', 'Marinara', 'caused', 'Sad', 'pushed', 'Regrettably', 'Outside', 'moist', 'couldn', 'presence', 'Only', 'specify', 'Gold', 'gem', 'angry', 'ATTEMPT', 'southern', 'parties', 'Valley', 'bought', 'pre', 'camarones', 'Young', 'stationed', 'tarts', 'floppy', 'Pour', 'fittings', 'shipping', 'currently', 'buck', 'requisite', 'mediocre', 'unlimited', 'walll', 'telephone', 'Downright', 'courteous', 'stylist', 'quinoa', 'Wow', 'writing', 'negative', 'nada', 'dreaming', 'adds', 'Rooter', 'cold', 'rums', 'mistakenly', 'gamey', 'Tacos', 'astronomical', 'clichés', 'Caesar', 'Basically', 'Vision', 'cracked', 'sellwood', 'Andy', 'Victoria', 'filled', 'plating', 'ATMs', 'deals', 'bloody', 'branzino', 'grove', 'native', 'providing', 'specifically', 'scoutmob', 'BLAND', 'pride', 'anythig', 'Note', 'smokeshack', 'Everyday', 'Chateau', 'Parmesan', 'und', 'Livid', 'WAITERS', 'packets', 'dolls', 'Brothers', 'desired', 'glazed', 'Christmas', 'brick', 'Husband', 'squash', 'Nordstrom', 'cant', 'FREEZING', 'surly', 'desks', 'chat', 'assembly', 'adult', 'whipped', 'female', 'occassion', 'Richard', 'bled', 'salad', 'plum', 'pedis', 'fabulous', 'gyro', 'waited', 'Average', 'lastly', 'subsequent', 'Favorites', 'muscles', 'SHOULD', 'Seriously', 'Unfortunately', 'Soup', 'abruptly', 'southerner', 'worth', 'paws', 'Santa', 'Jennifer', 'grape', 'Dani', 'balconies', 'Deluxe', 'prominent', 'continents', 'gentleman', 'Amsterdam', 'blades', 'Ground', 'Doughnut', 'barstool', 'mimosas', 'Bowls', 'advertisement', 'creek', 'squad', 'pic', 'PDX', 'Large', 'tibs', 'into', 'timing', 'brulee', 'difficulty', 'substandard', 'cause', 'depressing', 'rabbit', 'patients', 'grabbed', 'shoulders', 'free', 'informative', 'excellent', 'candlepin', 're', 'DISSAPOINT', 'skid', 'lift', 'Review', 'Snow', 'hateful', 'wrap', 'lobster', 'savory', 'deeply', 'Hour', 'inexcusable', 'Yang', 'Cinetopia', 'Presidential', 'asparagus', 'exploring', 'instantly', 'dicey', 'fact', 'Authority', 'Mills', 'oil', 'women', 'portobello', 'eggs', 'rutabaga', 'quicker', 'asking', 'cubes', 'tomatillo', 'Addiction', 'thoughts', 'Rob', 'fab', 'intake', 'gooeyyummydelicious', 'trouble', 'Mickeys', 'Sleek', 'coleslaw', 'bothers', 'FREE', 'arrogant', 'reputation', 'watering', 'upper', 'performed', 'night', 'hotline', 'Window', 'melted', 'boil', 'no', 'Dry', 'sauteed', 'accolades', 'Overhead', 'salads', 'scale', 'war', 'impossible', 'Lucy', 'pain', 'Cat', 'll', 'premixed', 'Pool', 'pillars', 'Marie', 've', 'treasure', 'range', 'flatbreads', 'configuration', 'pleasurable', 'mein', 'ever', 'dedicated', 'walls', 'appointments', 'chive', 'okay', 'Nigiris', 'dealing', 'Black', 'whatsoever', 'knew', 'Dates', 'potent', 'Visiting', 'appointment', 'situated', 'effect', 'landlord', 'sloped', 'supper', 'keep', 'behavior', 'Alamo', 'wedding', 'An', 'Many', 'staffing', 'veritable', 'Bluefin', 'Dhabi', 'seen', 'White', 'afternoon', 'allll', 'sounding', 'crafted', 'tonkatsu', 'Tomorrowland', 'offered', 'ramen', 'establishment', 'insisted', 'JUST', 'program', 'Decor', 'viewing', 'legs', 'Scoreboard', 'enhanced', 'community', 'Char', 'thai', 'ticket', 'stabbed', 'liberal', 'pet', 'Royale', 'carne', 'suitable', 'damn', 'Wi', 'much', 'firm', 'spicier', 'Barb', 'chaotic', 'separated', 'pork', 'waterfront', 'breakfat', 'studying', 'hardly', 'trial', 'assistant', 'option', 'safety', 'hits', 'kintaro', 'weeks', 'shattered', 'hoot', 'younger', 'translucent', 'Sellwood', 'week', 'herbs', 'delish', 'considerably', 'Juke', 'cluster', 'laptops', 'banana', 'causal', 'voice', 'Dalit', 'Rattle', 'TRUE', 'shreaded', 'possible', 'Magic', 'HOME', 'Hill', 'Air', 'grassroots', 'quiet', 'predictable', 'disgrace', 'macchiato', 'Dill', 'polishes', 'la', 'spaghetti', 'Outstanding', 'uneasy', 'rid', 'keefer', 'mojito', 'feasting', 'Moscow', 'pub', 'turned', 'checks', 'basic', 'legal', 'cutlets', 'creaky', 'Cheese', 'thrill', 'uncomfortable', 'AC', 'states', 'holidays', 'rubbery', 'XO', 'greeted', 'detailing', 'Quincy', 'sloppily', 'Rosie', 'Guess', 'extraordinary', 'bunnies', 'wasting', 'remotely', 'puffed', 'determine', 'Venus', 'emailed', 'woods', 'Hopefully', 'tending', 'Went', 'Making', 'Ladies', 'ushered', 'ceviche', 'During', 'Woah', 'substitute', 'get', 'kind', 'Daily', 'Groupon', 'Jose', 'possibly', 'minds', 'filing', 'café', 'rip', 'needs', 'stays', 'bartender', 'did', 'Everything', 'bring', 'untucked', 'infection', 'wide', 'literally', 'Yum', 'ASAP', 'shelves', 'go', 'Opened', 'TONNE', 'cheaping', 'communication', 'bernaise', 'driver', 'registry', 'minimum', 'Lord', 'spotty', 'meh', 'run', 'specials', 'sucker', 'fork', 'differentiate', 'While', 'pho', 'Margaritas', 'Hennessy', 'manchego', 'chowda', 'warm', 'Marketplace', 'bibimbap', 'achieved', 'rings', 'improper', 'posters', 'phrases', 'reality', 'cucumber', 'waitress', 'wasabi', 'working', 'leftovers', 'suggested', 'presidency', 'POOR', 'rats', 'flavours', 'MISLEAD', 'Ive', 'Macklin', 'crave', 'awe', 'Cactus', 'TAKE', 'via', 'Basil', 'suddenly', 'unfamilliar', 'magnetic', 'ufc', 'Turkey', 'nook', 'reimbursed', 'easy', 'fuck', 'Grilled', 'sucks', 'blatant', 'Classes', 'Zucchini', 'upsell', 'rustic', 'processes', 'peanut', 'Bubble', 'tour', 'incorrectly', 'protein', 'Arancini', 'enabled', 'group', 'John', 'plated', 'intimidated', 'Carolina', 'hey', 'liver', 'dollars', 'gomen', 'infused', 'tastings', 'HASH', 'hello', 'dressed', 'pimento', 'consume', 'pumpkin', 'hidden', 'Chips', 'pepperoni', 'Explained', 'scene', 'subs', 'freshen', 'Cartez', 'Sixt', 'Nearly', 'Bodenjoon', 'stranded', 'juice', 'Tondra', 'scialatiella', 'purse', 'tortilla', 'virtually', 'careful', 'other', 'mechanics', 'delicioso', 'errands', 'haves', 'pretty', 'February', 'Room', 'Cold', 'weekday', 'osteopath', 'court', 'chew', 'halibut', 'Shortly', 'lululemon', 'Cesar', 'HAD', 'vegetarian', 'tons', 'forgetting', 'Gorin', 'calamari', 'Capital', 'nursing', 'sour', 'vodka', 'Need', 'window', 'horrified', 'Quiznos', 'bad', 'Hostess', 'hefty', 'DISHONEST', 'clarification', 'alcohol', 'handsome', 'blind', 'Then', 'weekends', 'stale', 'bin', 'Coast', 'believed', 'Go', 'definitely', 'Likewise', 'Eh', 'fond', 'Louisiana', 'bleed', 'chips', 'Less', 'Kashmiri', 'flavourful', 'Ways', 'accept', 'charge', 'Finally', 'pup', 'AVOID', 'embarrassed', 'slammed', 'orded', 'Yama', 'pound', 'Had', 'car', 'kinda', 'within', 'gadgetworx', 'sum', 'macaroni', 'ham', 'yrs', 'planning', 'Place', 'test', 'teams', 'Doll', 'cozy', 'assistance', 'Yvonne', 'mex', 'HUNG', 'Liz', 'unreal', 'chives', 'Earth', 'KFC', 'receptacle', 'completed', 'disinterested', 'sells', 'overnight', 'workouts', 'address', 'Hale', 'flauta', 'Tawainese', 'snack', 'sublime', 'Studio', 'Prix', 'sodas', 'nutella', 'boutiques', 'sweeping', 'what', 'stupid', 'approved', 'allways', 'AM', 'Baked', 'pappardelle', 'deaf', 'Airlines', 'everywhere', 'Pepita', 'Five', 'disturbing', 'ruined', 'happening', 'Compared', 'she', 'Manager', 'signed', 'Greater', 'circus', 'haberno', 'goto', 'kittens', 'Solo', 'key', 'bubbles', 'delighted', 'revealed', 'hipsters', 'only', 'proved', 'Luck', 'caesar', 'Googling', 'Hai', 'reminded', 'ladies', 'speak', 'right', 'become', 'loading', 'yelp', 'exciting', 'Crepes', 'craze', 'Fritas', 'Although', 'flavorings', 'flooding', 'Tequila', 'bc', 'kalbi', 'empanada', 'Pollo', 'DISAPPOINTED', 'soccer', 'evidence', 'wait', 'sausage', 'heard', 'dish', 'Come', 'kindness', 'hesitate', 'Pick', 'killed', 'stand', 'berry', 'climbed', 'bandeja', 'smashed', 'patched', 'without', 'brewed', 'J', 'tin', 'posts', 'HairCuttery', 'tourists', 'Il', 'DICK', 'sights', 'diabolo', 'wearing', 'knowing', 'SHOP', 'trained', 'pluses', 'web', 'hug', 'disbelief', 'smoky', 'er', 'original', 'Prices', 'true', 'Deserts', 'tots', 'subpar', 'Electra', 'sprite', 'Lamb', 'TV', 'parents', 'grill', 'Drunken', 'kick', 'examination', 'display', 'validity', 'load', 'prosciutto', 'tests', 'Hawaiian', 'nonplussed', 'greater', 'confirmed', 'Quinoa', 'mentioned', 'Sauteed', 'wanting', 'amenities', 'inedible', 'moron', 'seared', 'burritos', 'listener', 'Villas', 'decadent', 'noticing', 'heavy', 'gave', 'relatively', 'dude', 'Fitness', 'bummed', 'w', 'LOUD', 'miserable', 'stacking', 'breakfast', 'Recommend', 'health', 'boot', 'reviewer', 'Bustles', 'colossal', 'having', 'ME', 'goodness', 'boxes', 'Romas', 'Horrible', 'wagon', 'Artichoke', 'Krispy', 'line', 'likely', 'face', 'Maze', 'CHICKEN', 'awkwardly', 'Waits', 'successful', 'preserves', 'Coho', 'dope', 'overlooked', 'encounters', 'entranceway', 'destination', 'tIme', 'responsibility', 'ultra', 'doors', 'First', 'Pie', 'techs', 'cocktails', 'Ordered', 'crispiness', 'crafty', 'Arizona', 'Eastside', 'feedback', 'tub', 'struggles', 'curb', 'condiments', 'harm', 'Hilton', 'Grand', 'printed', 'alittle', 'improved', 'biased', 'motion', 'Left', 'Hidden', 'tardis', 'BUFFALO', 'Culla', 'power', 'Haru', 'for', 'probably', 'scoring', 'spice', 'pizze', 'DCs', 'gf', 'call', 'tomatillos', 'replace', 'laos', 'cards', 'crepes', 'bit', 'desert', 'casa', 'significantly', 'Hand', 'Case', 'jackfruit', 'Outback', 'Coldwater', 'flourish', 'preference', 'grille', 'Ocoee', 'featured', 'barbers', 'Bank', 'thousands', 'hanger', 'plugs', 'roommate', 'die', 'condition', 'Fantastic', 'educating', 'singularly', 'minutes', 'GF', 'scaled', 'van', 'glaring', 'unbelievable', 'so', 'couve', 'lives', 'turkey', 'cookies', 'pole', 'extras', 'separately', 'ten', 'starbucks', 'shrimps', 'MUST', 'Sum', 'SAUCE', 'high', 'meatballs', 'rich', 'accordingly', 'B', 'snacks', 'Weekend', 'couch', 'remove', 'Grill', 'loving', 'hop', 'pickiness', 'brag', 'mover', 'obvious', 'tapas', 'would', 'super', 'K', 'fiancée', 'Linchul', 'kraft', 'Natick', 'Iwill', 'thought', 'pathetic', 'trout', 'mac', 'participating', 'fiancé', 'coolest', 'register', 'HOURS', 'messed', 'pls', 'RI', 'evenings', 'fried', 'glitch', 'jubliant', 'orchid', 'Beignets', 'Be', 'springs', 'Ha', 'In', 'Bob', 'cons', 'tasteless', 'acknowledgement', 'recaps', 'Killeen', 'central', 'table', 'focused', 'yellowtail', 'pedi', 'clothing', 'shabby', 'navigate', 'awkward', 'Noodle', 'Congealed', 'Pita', 'path', 'judgment', 'miss', 'foodies', 'hushpuppies', 'littered', 'Yelping', 'Packed', 'start', 'dealership', 'puppies', 'Lake', 'omelet', 'unemployed', 'way', 'fought', 'Leg', 'slippers', 'quesadilla', 'FIRST', 'Katz', 'serves', 'joy', 'baked', 'BIG', 'tabouli', 'reputable', 'classify', 'knocking', 'paper', 'history', 'Brisket', 'speaking', 'booked', 'Looking', 'spicy', 'fold', 'hotels', 'maibock', 'competitive', 'once', 'pared', 'anyway', 'Agniolotti', 'gloss', 'hangout', 'shops', 'drank', 'substantiate', 'refilled', 'points', 'carwash', 'inauguration', 'ran', 'entitled', 'chic', 'pico', 'entirely', 'graduate', 'Brooklyn', 'dignity', 'hung', 'built', 'act', 'him', 'Standard', 'plucky', 'exploration', 'laws', 'clubhouse', 'distance', 'Espresso', 'Delaware', 'reassured', 'bagel', 'hadn', 'buzz', 'wished', 'rudely', 'leisurely', 'exhibitions', 'clove', 'Haven', 'chocolate', 'July', 'sitting', 'tunes', 'smaller', 'jasmine', 'Could', 'Rick', 'upgrades', 'transportation', 'causes', 'Checker', 'confidence', 'Bean', 'Strongly', 'pedicures', 'Chase', 'salmon', 'espresso', 'degrees', 'Kornman', 'mixture', 'debit', 'ridiculously', 'apologies', 'Typical', 'stout', 'ban', 'tail', 'Grit', 'comfort', 'batch', 'chalupas', 'yuckiness', 'adequate', 'condescending', 'flap', 'bottled', 'poured', 'meetup', 'repeat', 'Mojito', 'Chorizo', 'disappointintg', 'barbership', 'Absolutley', 'Swan', 'Staffs', 'Peanut', 'site', 'expect', 'vibes', 'horrendous', 'tune', 'skimping', 'exterior', 'artist', 'Rice', 'scrumptious', 'Additionally', 'vintage', 'profit', 'ice', 'cous', 'indirectly', 'monthly', 'shiro', 'concrete', 'artfully', 'mill', 'red', 'Thanks', 'GrubHub', 'fixing', 'Ghorme', 'tang', 'f', 'communicated', 'testing', 'Suite', 'hike', 'tuned', 'encourages', 'conscience', 'absolute', 'Health', 'supervisor', 'change', 'harder', 'McDonalds', 'PLACE', 'humans', 'paying', 'chowder', 'Gone', 'proprietor', 'Sooo', 'welcoming', 'v', 'smile', 'won', 'creme', 'Visited', 'dense', 'chumps', 'Rocks', 'Asmara', 'unagi', 'cotta', 'door', 'myself', 'chinese', 'Milanese', 'POTENTIALLY', 'bearable', 'twist', 'absent', 'basis', 'uncooked', 'sweetheart', 'Spring', 'earlier', 'Secondly', 'wary', 'Retrospectively', 'agree', 'FUN', 'Castle', 'yucatano', 'smoker', 'grown', 'SERVICE', 'restaurants', 'unforgivable', 'steady', 'correctly', 'nut', 'SE', 'crazy', 'laser', 'closet', 'donuts', 'travelled', 'Especially', 'fingernails', 'its', 'thanked', 'Portuguese', 'concern', 'yr', 'Heck', 'autobody', 'gon', 'ratings', 'frightfully', 'increase', 'Maurice', 'stairs', 'Olives', 'delightful', 'aesthetic', 'research', 'coast', 'eyed', 'Eastie', 'Karly', 'cucumbers', 'meats', 'Devin', 'computer', 'Harvard', 'surgery', 'fairly', 'muck', 'relieved', 'opinion', 'Blair', 'Sure', 'played', 'action', 'loaf', 'Blind', 'disappoint', 'order', 'midweek', 'asap', 'charro', 'remainder', 'gum', 'gristle', 'availibility', 'neckties', 'Wife', 'Tsel', 'sympathy', 'IT', 'contemporary', 'explanation', 'residence', 'tomatoe', 'Chef', 'reasons', 'spendy', 'consensus', 'spare', 'WOW', 'freezer', 'villas', 'Community', 'girlfriends', 'Tsukemen', 'unappealing', 'satisfying', 'clearly', 'toasty', 'Flavorless', 'rum', 'cleanly', 'conveniently', 'Megan', 'materials', 'flavoured', 'task', 'VZ', 'fit', 'DTX', 'salsa', 'roaches', 'A', 'Naughty', 'AMBIANCE', 'TRULY', 'greenhouse', 'unmatched', 'powdered', 'evening', 'fruity', 'stinks', 'very', 'gage', 'tonight', 'Early', 'reliability', 'lemongrass', 'Blistered', 'loyal', 'Based', 'department', 'belabor', 'mountain', 'microwave', 'Honestly', 'perhaps', 'sea', 'staffed', 'dumplings', 'Hub', 'Thinking', 'toes', 'didn', 'dimensional', 'ranch', 'magic', 'cupcakes', 'panang', 'getaway', 'Shack', 'ideal', 'Noise', 'pastor', 'smothered', 'skipped', 'hotdog', 'bulk', 'RUDE', 'nicest', 'trucks', 'roses', 'Bens', 'josh', 'pond', 'skirt', 'parmesan', 'D', 'reservations', 'mosquitoes', 'layout', 'surely', 'techies', 'Shopping', 'elevator', 'prepare', 'loses', 'reps', 'themselves', 'serene', 'restocking', 'evident', 'AWAY', 'washed', 'servings', 'yum', 'breaks', 'Cherry', 'Rafiki', 'slice', 'cheapest', 'uninviting', 'BUSY', 'side', 'escargot', 'appealing', 'bass', 'understand', 'Give', 'day', 'glances', 'katsu', 'greatly', 'or', 'shaded', 'newer', 'parlors', 'leather', 'fishy', 'bakers', 'seemed', 'plasmas', 'Wild', 'burbs', 'deepfried', 'wasted', 'licked', 'annoying', 'prep', 'requirements', 'license', 'brought', 'host', 'proteins', 'Didn', 'undercooked', 'Blackened', 'Croquetas', 'appetizing', 'Grits', 'Worthy', 'blueberry', 'Does', 'rubbed', 'Among', 'throwing', 'opportunity', 'NeWorlDeli', 'rub', 'nails', 'date', 'hardworking', 'Wong', 'next', 'course', 'Connall', 'popcorn', 'hectic', 'facsimile', 'TO', 'administered', 'Vegan', 'hopping', 'limp', 'error', 'offense', 'fortunes', 'far', 'crammed', 'Pork', 'actually', 'th', 'steps', 'small', 'paths', 'Hard', 'honing', 'stresses', 'unable', 'containing', 'Biscuit', 'gets', 'VooDoo', 'gather', 'WAITER', 'crapes', 'approached', 'discount', 'attentive', 'chuckle', 'Ziad', 'Carmelized', 'felted', 'frequented', 'cab', 'pickling', 'prepares', 'dislike', 'dishonest', 'takeout', 'perfect', 'results', 'damaged', 'WHILE', 'gesture', 'approachable', 'foo', 'tier', 'shit', 'NO', 'cured', 'real', 'WHOA', 'delivers', 'Disney', 'blueberries', 'relying', 'indication', 'presidential', 'purple', 'bound', 'ITS', 'icy', 'Flour', 'fajitas', 'tvs', 'yourself', 'pecans', 'pitcher', 'cinnamon', 'regardless', 'sort', 'wheel', 'considering', 'Mrs', 'famous', 'AT', 'pics', 'bite', 'yelling', 'Onion', 'nowheresville', 'appearance', 'omelettes', 'beg', 'arcade', 'hunger', 'eyes', 'invited', 'head', 'appointed', 'Coquitlam', 'follow', 'fashionable', 'Somerville', 'grind', 'GOD', 'beauty', 'Both', 'difference', 'Eggplant', 'parts', 'Appetizers', 'Conditioning', 'Portion', 'Grounds', 'replies', 'locale', 'going', 'urine', 'visits', 'boss', 'firmware', 'coaches', 'Danish', 'Cimino', 'Ecuadorian', 'S', 'ours', 'appear', 'lining', 'martini', 'firmness', 'shrunken', 'mi', 'but', 'done', 'cups', 'sneakily', 'Chairs', 'Downtown', 'pad', 'bigots', 'receive', 'Asked', 'hygienist', 'filtered', 'DOUBLE', 'apology', 'sooner', 'sorely', 'decision', 'pads', 'sadly', 'kindly', 'Redfish', 'Enchilidas', 'has', 'lamps', 'together', 'producers', 'crash', 'Brandon', 'kid', 'sprouts', 'dental', 'hood', 'Friends', 'hired', 'Walgreens', 'biryani', 'recharged', 'waiting', 'Bottom', 'ruckus', 'Fun', 'asks', 'branding', 'Waitress', 'proceeded', 'geared', 'steer', 'ends', 'Mocha', 'Admission', 'knock', 'prefer', 'oysters', 'hangs', 'Mazda', 'Too', 'Each', 'arguing', 'haven', 'lassi', 'Esthetique', 'taking', 'onto', 'yogurt', 'letting', 'tasting', 'represents', 'assistants', 'ambled', 'obviously', 'salon', 'Worst', 'music', 'parsley', 'improvements', 'SA', 'fly', 'Lexie', 'swirl', 'city', 'recommendations', 'COLD', 'grouchy', 'Iggy', 'work', 'Lunch', 'lousy', 'house', 'happens', 'same', 'Bun', 'banh', 'miso', 'indian', 'grumblers', 'Rollups', 'basil', 'cliks', 'disheartening', 'concept', 'motor', 'Please', 'India', 'Lewis', 'gruyere', 'hall', 'functions', 'posh', 'constructs', 'King', 'Salisbury', 'savories', 'skin', 'Gyro', 'Installations', 'appeasing', 'main', 'band', 'chops', 'packaging', 'Williamson', 'solar', 'struck', 'lemon', 'four', 'complimented', 'Nice', 'diverse', 'negatives', 'spongy', 'realize', 'goyza', 'entrance', 'basics', 'humble', 'company', 'utensils', 'antipasto', 'al', 'Massage', 'ALTERATION', 'healthy', 'borscht', 'archway', 'that', 'scanner', 'Quesitos', 'stop', 'incomplete', 'build', 'quantity', 'career', 'snobby', 'hotel', 'SUSHI', 'girlie', 'seven', 'Scarce', 'esque', 'Phone', 'joyful', 'loads', 'apologize', 'watress', 'decor', 'patiently', 'Cake', 'inn', 'Short', 'EXTRA', 'teenage', 'Cons', 'ruins', 'simultaneously', 'purchasing', 'pleasantly', 'undercooking', 'Beans', 'Tine', 'Take', 'opaque', 'north', 'rummaging', 'elegance', 'righteous', 'spas', 'topped', 'mustard', 'ameneties', 'waffle', 'tofu', 'goes', 'integrity', 'signal', 'immediately', 'studio', 'Mixed', 'Somehow', 'stared', 'otherwise', 'insert', 'fare', 'fathers', 'Quinta', 'bonus', 'seasoned', 'Chapters', 'spiffied', 'guard', 'telling', 'walk', 'GI', 'deliver', 'wave', 'Ample', 'Bus', 'shaking', 'leek', 'BETTER', 'topping', 'Garden', 'performance', 'satisfied', 'million', 'Adams', 'hand', 'Beautifully', 'people', 'Facebook', 'directly', 'serious', 'owls', 'particuarly', 'Skyy', 'Benjamin', 'splurge', 'Nik', 'Grove', 'Fries', 'nifty', 'restrooms', 'memorable', '_', 'Talbott', 'Arlington', 'nasty', 'Yummy', 'due', 'buys', 'guarantee', 'truth', 'carnitas', 'spine', 'spoiled', 'Calling', 'shining', 'OK', 'mucky', 'brand', 'chase', 'crusty', 'news', 'existent', 'saftely', 'Potato', 'sides', 'Jen', 'cosmopolitan', 'Brookline', 'Shi', 'frequent', 'Favorite', 'coupon', 'tentative', 'steaks', 'shepherd', 'Pieces', 'downright', 'canned', 'bartending', 'AWFUL', 'Sanctuary', 'Rock', 'big', 'For', 'Get', 'Surrey', 'yours', 'Easy', 'tempura', 'delight', 'Blue', 'extremely', 'evenly', 'Banshees', 'Drones', 'horrific', 'whetting', 'Bathrooms', 'exposed', 'conditions', 'wolves', 'mighty', 'annoyance', 'toppings', 'does', 'layered', 'Ayyy', 'extra', 'BUENO', 'quickly', 'drinker', 'SOWA', 'argumentative', 'soy', 'traveler', 'RBC', 'maker', 'carwashes', 'intervened', 'sigh', 'flusher', 'fault', 'Three', 'listed', 'rentals', 'loin', 'bean', 'YES', 'damnit', 'Brasilian', 'fatter', 'eyebrows', 'cauliflower', 'Costa', 'Nicole', 'hogs', 'poke', 'grew', 'ears', 'bouillabaisse', 'authentically', 'executed', 'wont', 'brunch', 'Margarita', 'FYI', 'winter', 'insist', 'unidentified', 'fever', 'venues', 'quick', 'wipe', 'charcuterie', 'priced', 'lease', 'tenants', 'muffins', 'operation', 'Affogato', 'worries', 'Stopped', 'YUMM', 'charming', 'Chile', 'saucing', 'responded', 'jars', 'Washed', 'gin', 'Chocolate', 'canal', 'outstanding', 'Book', 'Kendal', 'carrying', 'radicchio', 'gold', 'according', 'Assembly', 'Crossroads', 'animals', 'popular', 'oz', 'dash', 'strange', 'Sarah', 'Kitsune', 'trust', 'aeu', 'understandable', 'delicous', 'looks', 'No', 'unbelievably', 'Veteran', 'General', 'reviews', 'focuses', 'drawback', 'school', 'starch', 'hut', 'value', 'random', 'Person', 'Liege', 'Naan', 'Gym', 'bearish', 'requests', 'Buns', 'Somebody', 'arrival', 'educational', 'Gets', 'Egg', 'sleek', 'Considered', 'solvers', 'recurrent', 'rewards', 'phone', 'is', 'Unpretentious', 'Toasted', 'dates', 'cherrywood', 'bars', 'kneed', 'BUSINESS', 'enormous', 'DELICIOUSLY', 'FOR', 'gargantuan', 'Burrito', 'noon', 'Interestingly', 'infuriating', 'this', 'Discount', 'alarmed', 'upfront', 'signs', 'rolled', 'sophomore', 'Winter', 'venting', 'humor', 'Patriot', 'cca', 'patterns', 'Loca', 'Toast', 'bleeding', 'Brazilian', 'themeing', 'remodel', 'Tempura', 'lieu', 'shwarma', 'previously', 'Jerk', 'mushrooms', 'Honolulu', 'chose', 'esp', 'lax', 'juniper', 'Sorry', 'Extra', 'ooey', 'hoping', 'sorbet', 'slack', 'putty', 'Tips', 'room', 'deserving', 'filter', 'sample', 'fillet', 'eggroll', 'JP', 'sunny', 'figuring', 'Miso', 'STAY', 'worlds', 'noticed', 'Sunday', 'downs', 'spiral', 'artichoke', 'Virgin', 'anchovy', 'MIT', 'trees', 'mark', 'compote', 'less', 'HIGHLY', 'goodnight', 'Meatballs', 'Duncan', 'eventually', 'Since', 'shout', 'Keys', 'regimen', 'gorgonzola', 'kiureg', 'rose', 'basketball', 'Salads', 'soothing', 'TERRIBLE', 'resell', 'Combo', 'watery', 'sisters', 'pictures', 'Staff', 'AND', 'Cuisine', 'set', 'pitched', 'fall', 'celebrities', 'shares', 'risotto', 'benefits', 'vinagarette', 'norm', 'bewildered', 'have', 'trimmed', 'purely', 'creatively', 'wearable', 'mani', 'gifted', 'restuarants', 'Fridays', 'Four', 'something', 'alluded', 'nacho', 'clam', 'ruder', 'whet', 'swooped', 'rated', 'deafening', 'conventional', 'consistently', 'resource', 'Heads', 'Management', 'crunchy', 'says', 'glow', 'couples', 'atrocious', 'Russian', 'located', 'charities', 'Decided', 'things', 'Colleen', 'Topher', 'painful', 'nail', 'absence', 'he', 'thanks', 'supporting', 'permeated', 'positive', 'assembled', 'susans', 'simply', 'Canaveral', 'rendition', 'part', 'Tomatillos', 'encounter', 'be', 'shellac', 'skim', 'promptly', 'stuck', 'specified', 'electrician', 'ring', 'Kreme', 'Working', 'Kung', 'herb', 'stage', 'designed', 'jerk', 'Bowl', 'Coca', 'Arctic', 'Tagliatelle', 'Woburn', 'Asian', 'Surprise', 'preceded', 'feast', 'owner', 'adults', 'cigarette', 'verbal', 'acknowledges', 'foul', 'litttttle', 'Steak', 'depending', 'regional', 'bookcases', 'altogether', 'skillet', 'SOGGY', 'crab', 'thoroughly', 'Javier', 'photo', 'class', 'ive', 'liked', 'all', 'cat', 'Always', 'exec', 'listen', 'Jumbo', 'Of', 'boneless', 'sesame', 'remember', 'NONE', 'spite', 'upsold', 'oriented', 'NU', 'principal', 'ONE', 'gloves', 'vendors', 'store', 'min', 'quality', 'vinegar', 'shuffle', 'nachos', 'unsweet', 'oven', 'Negatives', 'pizzapalooza', 'stalking', 'babysitters', 'bisket', 'toooo', 'puttenesca', 'tense', 'the', 'Fairly', 'checkouts', 'engage', 'Curry', 'starchy', 'animatonic', 'stated', 'another', 'primavera', 'sampled', 'Sparkling', 'Finished', 'snacky', 'Pickle', 'napkins', 'truffly', 'inch', 'irked', 'Ashley', 'equally', 'soda', 'known', 'practice', 'addes', 'ingredient', 'Kevin', 'overrated', 'started', 'NOW', 'target', 'drones', 'eavesdropping', 'galore', 'Dark', 'pounce', 'tempting', 'adoptive', 'groupon', 'common', 'deserve', 'Andala', 'gab', 'Wal', 'laughing', 'vending', 'thankful', 'blah', 'rom', 'save', 'appeals', 'recipes', 'ranking', 'chip', 'Natalia', 'sliding', 'professionalism', 'tea', 'Bread', 'Hamilton', 'servicing', 'positives', 'tres', 'Ehhh', 'singer', 'forgetful', 'finding', 'kitchen', 'filet', 'capitalism', 'dissatisfied', 'split', 'inside', 'chili', 'giggle', 'March', 'Kids', 'sangria', 'Waiters', 'Kraft', 'highly', 'Pricey', 'appears', 'lions', 'Small', 'liquid', 'Chip', 'injected', 'chatty', 'Fortunately', 'REVIEWS', 'devoured', 'obscene', 'Field', 'scallop', 'japanese', 'self', 'produce', 'overlook', 'chewed', 'qualities', 'resembles', 'stayed', 'schweinebraten', 'anytime', 'information', 'kebab', 'forgiving', 'meringues', 'Minnesota', 'Baraonda', 'difficult', 'Topaz', 'broke', 'comment', 'Foxy', 'Tonight', 'breading', 'usage', 'compares', 'spacious', 'phenomenal', 'pitted', 'overhear', 'donations', 'footrest', 'refreshing', 'golden', 'Gloria', 'signifies', 'care', 'allergy', 'shoes', 'Bravas', 'Siddhartha', 'returning', 'threatening', 'if', 'Bell', 'atleast', 'Daddy', 'Rica', 'listening', 'max', 'along', 'SWORD', 'you', 'chutney', 'overcrowded', 'Bao', 'experience', 'bulbs', 'Loses', 'parking', 'sleeve', 'move', 'wisely', 'Fitz', 'Worthington', 'their', 'Market', 'Walmart', 'fulfilling', 'Burnt', 'knowledge', 'Moist', 'pricier', 'Ultimate', 'Em', 'Thaddeus', 'Decent', 'Slowy', 'birth', 'Glad', 'industry', 'busted', 'Bugattis', 'Value', 'dis', 'shape', 'comcast', 'Next', 'differentiating', 'cad', 'thinking', 'changed', 'fathom', 'swordfish', 'Square', 'UBC', 'nicely', 'corny', 'Patil', 'thin', 'cramped', 'varying', 'longest', 'Appeared', 'shakes', 'withhold', 'container', 'Check', 'deprecating', 'wife', 'frequently', 'Free', 'falling', 'expected', 'Taxi', 'Shishito', 'iced', 'almond', 'becuase', 'open', 'deck', 'preview', 'tourist', 'resulted', 'Insiders', 'Ask', 'Given', 'calimari', 'Something', 'polite', 'Farzad', 'ClayBrite', 'Frankly', 'cigarettes', 'fat', 'websites', 'Been', 'appetite', 'point', 'sealed', 'single', 'escalators', 'Waites', 'smart', 'proximity', 'Daby', 'pepper', 'Arch', 'snail', 'guitar', 'highlights', 'Sometime', 'under', 'shio', 'lending', 'granddaughter', 'demolishing', 'engaging', 'may', 'barbecue', 'drone', 'Anyways', 'Even', 'needing', 'wowed', 'Marriott', 'Applebee', 'utterly', 'STAR', 'shop', 'independent', 'robe', 'boarded', 'allergies', 'cooks', 'ribs', 'initial', 'uniquely', 'butcher', 'joking', 'HORRIBLE', 'mule', 'Meat', 'smoothie', 'more', 'boots', 'Maybe', 'corrected', 'refurbish', 'exfoliation', 'DIE', 'capable', 'selections', 'awful', 'strength', 'rocks', 'workable', 'MY', 'BBQ', 'sandpaper', 'organize', 'lavender', 'Friday', 'shook', 'included', 'Henry', 'itsy', 'months', 'away', 'objectionably', 'unwind', 'casinos', 'OMG', 'visited', 'neat', 'With', 'essential', 'Greeted', 'applied', 'lady', 'remarkable', 'SLAMMED', 'Help', 'everyone', 'velvet', 'warn', 'recently', 'insurance', 'tho', 'amature', 'Cleaner', 'Famous', 'how', 'Third', 'Moreover', 'rusted', 'rank', 'enchiladas', 'Gari', 'ample', 'Malmquist', 'black', 'efficiency', 'manager', 'Louie', 'blues', 'social', 'Protip', 'Mango', 'patrons', 'Ashford', 'Ambience', 'software', 'googles', 'presentation', 'Last', 'rookie', 'boat', 'coolers', 'naan', 'complained', 'bothering', 'print', 'bok', 'Lavender', 'masama', 'location', 'Persian', 'blasts', 'steadily', 'We', 'punctual', 'names', 'pits', 'cajun', 'Platter', 'seriously', 'exists', 'BEST', 'calzone', 'Grab', 'excels', 'Salmon', 'involving', 'ingredents', 'howling', 'Guys', 'ffigure', 'McSlowerson', 'skirts', 'Agree', 'explain', 'Peru', 'graffiti', 'enough', 'incompetent', 'WILL', 'particular', 'rewarding', 'seeds', 'sized', 'bedroom', 'equivilant', 'describe', 'rubber', 'watered', 'version', 'wrote', 'uneven', 'Tapioca', 'According', 'Hopdoddy', 'unfamiliar', 'back', 'figure', 'sideways', 'painfully', 'outdoor', 'referral', 'supremely', 'gratifying', 'cashiers', 'meannnnn', 'Blueberry', 'bbq', 'clean', 'yoga', 'Phara', 'seasonal', 'might', 'tongue', 'nearby', 'butter', 'Cute', 'dimsum', 'mozzarella', 'skip', 'mead', 'Obsessed', 'trails', 'whitish', 'Score', 'touched', 'French', 'ITALY', 'unlike', 'mobility', 'hesitant', 'opposite', 'idiots', 'disappeared', 'Jalepenos', 'saver', 'squared', 'relaxing', 'Moe', 'flavour', 'Hyatt', 'bumpy', 'Voodoo', 'Java', 'Potterhead', 'dishes', 'respond', 'apparel', 'soaking', 'Sounded', 'strawberry', 'Cream', 'followed', 'mistake', 'assured', 'ravioli', 'architecturally', 'peel', 'Competent', 'furnishings', 'Crab', 'scheduled', 'Cost', 'alla', 'dramatically', 'artwork', 'PEOPLE', 'caddy', 'up', 'mounted', 'shouldn', 'peruse', 'toilet', 'Absolute', 'compliment', 'par', 'recipe', 'Americanized', 'constructed', 'coffee', 'weeknight', 'Blu', 'offended', 'nightmare', 'Shiny', 'a', 'therefore', 'Aioli', 'types', 'anticipated', 'mochi', 'tasted', 'Fleming', 'Apple', 'Wonderful', 'hostile', 'Fine', 'pay', 'e', 'clumsily', 'eerie', 'Sangria', 'sub', 'feeling', 'doughnut', 'noticeably', 'toaster', 'LaLa', 'Saratoga', 'eastern', 'us', 'omnipresent', 'occupied', 'dumping', 'sip', 'Parker', 'purchase', 'Tater', 'sincere', 'occurred', 'Everett', 'share', 'cheeseburger', 'enchilada', 'intended', 'PRICEY', 'Social', 'bread', 'replaced', 'mayo', 'guys', 'finally', 'technology', 'longer', 'Quisnos', 'Portobello', 'restaurateur', 'model', 'Alfredo', 'dined', 'deliberation', 'Fremont', 'melon', 'omellete', 'chunks', 'suffered', 'workers', 'then', 'cooler', 'regret', 'taken', 'cluttered', 'WIN', 'cheap', 'doubtful', 'Foodler', 'break', 'drooling', 'ppl', 'Kobe', 'mechanic', 'Shake', 'classes', 'returns', 'Ciabatta', 'Squid', 'stunning', 'pisses', 'fiance', 'Milford', 'sure', 'conversation', 'avoid', 'cleaners', 'cobb', 'private', 'hubcap', 'rangoons', 'tap', 'pluged', 'Washer', 'brain', 'bull', 'ownership', 'hairdresser', 'mexican', 'Scala', 'basketballs', 'toned', 'Perfectly', 'complex', 'mirrors', 'soups', 'Bolen', 'dropped', 'lingering', 'April', 'wontons', 'Probably', 'towels', 'wasn', 'Latte', 'gosh', 'regards', 'coworkers', 'bison', 'pita', 'burren', 'blintzes', 'accelerate', 'Subways', 'practicing', 'Bros', 'turnips', 'Tina', 'repaired', 'weeds', 'Alliance', 'rescheduled', 'timeline', 'days', 'sigma', 'EVER', 'FRIES', 'shouldnt', 'Yup', 'paella', 'Sauce', 'ehhh', 'waistband', 'properly', 'Boloco', 'Lips', 'donut', 'partial', 'Cutters', 'rejoice', 'answers', 'WAIT', 'snails', 'Ours', 'apple', 'DOWN', 'gained', 'cancel', 'heavenly', 'colored', 'fryer', 'Soft', 'Gear', 'plain', 'irritated', 'Teavana', 'practices', 'California', 'tire', 'Jalapeño', 'Add', 'streaming', 'nigiri', 'nerdass', 'shortcomings', 'shaved', 'bun', 'client', 'visual', 'groups', 'driving', 'skipping', 'Despite', 'crowd', 'outweighs', 'waxed', 'Avenue', 'bogs', 'thick', 'poncho', 'alternatives', 'carbonara', 'spectular', 'flooded', 'price', 'area', 'impatient', 'Bella', 'THREE', 'Laos', 'womens', 'latch', 'hunk', 'Beware', 'ranged', 'melt', 'hipsterific', 'definite', 'octopus', 'benedict', 'perfume', 'lean', 'unusual', 'hipster', 'PBJ', 'accommodate', 'blown', 'Sides', 'need', 'hostess', 'squinting', 'alignment', 'grits', 'spices', 'keeping', 'm', 'assorted', 'sweat', 'hhn', 'fantastic', 'OMELET', 'future', 'Nails', 'vancouver', 'schoolers', 'chefs', 'sizes', 'while', 'vast', 'also', 'issue', 'tax', 'muffin', 'cased', 'colleague', 'TIME', 'bay', 'margarita', 'giant', 'succeed', 'dim', 'Furniture', 'comforters', 'underground', 'stream', 'NEVER', 'Best', 'porched', 'tasty', 'shirt', 'SERIOUSLY', 'shell', 'making', 'Scallops', 'generally', 'sunomono', 'thorough', 'Boneless', 'tubs', 'sorta', 'Lobster', 'nanny', 'toilets', 'unhurried', 'force', 'Here', 'snafus', 'Valets', 'life', 'wheat', 'Scottsdale', 'screws', 'public', 'ripping', 'décor', 'Day', 'survive', 'return', 'said', 'lotion', 'trend', 'claim', 'Pulled', 'lack', 'awfully', 'vegetable', 'grab', 'Nero', 'boxed', 'Dining', 'Toiletries', 'pretentious', 'betwen', 'Tuna', 'bothered', 'Together', 'mofongo', 'ending', 'roaming', 'motivated', 'Top', 'custom', 'member', 'beans', 'boyfriend', 'exploratory', 'admission', 'Yucatan', 'disturbed', 'burning', 'challenge', 'Waited', 'By', 'flu', 'waved', 'pricey', 'sending', 'Ninjas', 'facial', 'purchased', 'impolite', 'usual', 'consideration', 'toasted', 'dilute', 'From', 'New', 'them', 'perfectly', 'Meghan', 'sees', 'surprise', 'Neither', 'french', 'leaf', 'maintenance', 'retail', 'boston', 'Haley', 'costed', 'udon', 'claimed', 'omelette', 'arugula', 'surprises', 'World', 'dentistry', 'workout', 'Awesome', 'Ole', 'grocery', 'Are', 'gathering', 'mumbles', 'apologizing', 'Texan', 'Because', 'requesting', 'includes', 'Sawyer', 'brie', 'addition', 'veggie', 'stands', 'heat', 'Want', 'APOPKA', 'Buckhead', 'sell', 'specialty', 'after', 'pint', 'compliments', 'Los', 'urgency', 'solid', 'eh', 'juicy', 'Kings', 'frozen', 'coming', 'Wicked', 'transp', 'homework', 'USE', 'Numbing', 'eater', 'Sandy', 'rode', 'at', 'Ma', 'sight', 'stingier', 'Fu', 'Braves', 'gratis', 'Funny', 'HOWEVER', 'issues', 'aweful', 'watch', 'COMPANY', 'directing', 'Reece', 'swipe', 'Orlando', 'Msg', 'encourage', 'Gravy', 'ordering', 'pour', 'HALF', 'TACKY', 'Zaffron', 'quote', 'cream', 'Courteous', 'associate', 'lip', 'Oviedo', 'Broccoli', 'Cauliflower', 'socially', 'texting', 'converted', 'pets', 'bedrooms', 'packaged', 'polished', 'Tabouli', 'abundance', 'overall', 'chopped', 'our', 'reverse', 'contact', 'succumbed', 'services', 'requires', 'Dj', 'england', 'globe', 'damaging', 'disappointingly', 'Jill', 'recommendation', 'deviled', 'States', 'gallery', 'daughter', 'x', 'don', 'gracious', 'weren', 'truck', 'sounds', 'August', 'teenager', 'gelato', 'buyers', 'January', 'elaborate', 'versions', 'Ahlycea', 'Breakfast', 'People', 'operators', 'African', 'truly', 'tastier', 'typical', 'Creek', 'Mind', 'Turner', 'refer', 'regular', 'establishments', 'tacos', 'gel', 'hire', 'crack', 'Very', 'KB', 'Hit', 'drenched', 'Sprouting', 'least', 'skewer', 'Vijis', 'security', 'Cheesy', 'lil', 'than', 'Monster', 'contacted', 'specialize', 'homeless', 'grated', 'Consistent', 'father', 'sweet', 'delay', 'bevi', 'crime', 'last', 'flat', 'juices', 'pinot', 'jalapenos', 'strategic', 'Positive', 'whistles', 'explosion', 'neither', 'Entrance', 'Museum', 'raspberry', 'floors', 'downstarring', 'gas', 'vs', 'industrial', 'Clearer', 'Susan', 'Johny', 'UPS', 'karaage', 'plumber', 'decided', 'dogs', 'bump', 'fountain', 'shishito', 'maddening', 'bustling', 'COMMERCIAL', 'pedestrian', 'Prickly', 'pointed', 'slower', 'accommodations', 'Austin', 'threaded', 'Is', 'Runners', 'Lowes', 'chewy', 'Carter', 'Malai', 'RIDICULOUS', 'calzones', 'Sanaa', 'lamb', 'Really', 'doesn', 'Jack', 'May', 'notoriety', 'fee', 'Ultra', 'recorded', 'Montag', 'hopped', 'bugs', 'models', 'heart', 'gluten', 'sanitation', 'Batteries', 'Shauna', 'appropriately', 'own', 'axle', 'eager', 'Debbie', 'crowded', 'creations', 'accomadating', 'croutons', 'Cab', 'estimate', 'succulent', 'tipped', 'Noriko', 'leaning', 'Sq', 'Mules', 'UFood', 'flying', 'crumbs', 'Mondays', 'using', 'Likely', 'botched', 'Shooting', 'each', 'advertised', 'BURNT', 'Pretty', 'cranky', 'Board', 'outdoorsy', 'report', 'Court', 'Broadway', 'Lodge', 'maragarita', 'excited', 'primed', 'brake', 'storefront', 'race', 'prelude', 'packed', 'Prompt', 'grossed', 'Rellano', 'opener', 'out', 'sweetbread', 'Absolutely', 'vinagry', 'sport', 'rough', 'Coco', 'attended', 'threw', 'Peruvian', 'Awsome', 'freakingly', 'Riverside', 'broad', 'Cap', 'Takeout', 'slight', 'suffer', 'How', 'catfish', 'wahhhh', 'encouraged', 'tremendous', 'Jerri', 'boutique', 'profession', 'belugas', 'pdx', 'Ignore', 'flimsy', 'Painkiller', 'T', 'unheard', 'puts', 'decorations', 'cared', 'fingertips', 'Jordan', 'product', 'problematic', 'crêpe', 'legend', 'popped', 'zesty', 'Lemongrass', 'Cooked', 'dip', 'sauce', 'veal', 'Bijou', 'bland', 'Rap', 'realizing', 'pana', 'Verizon', 'Heo', 'reservation', 'crabs', 'admirable', 'colorful', 'fajita', 'leave', 'been', 'ponder', 'liners', 'LONG', 'discriminated', 'Moda', 'Overpriced', 'Kao', 'cleaned', 'ho', 'Schnitzel', 'Half', 'scratched', 'partially', 'THAT', 'interior', 'efforts', 'excessive', 'Juice', 'smokes', 'happiest', 'joint', 'atop', 'sounded', 'poisoning', 'prices', 'jelly', 'paperwork', 'attempted', 'avg', 'keypads', 'Attentive', 'spotted', 'Ismael', 'stronger', 'Cabezza', 'still', 'calm', 'eatten', 'snotty', 'blonde', 'Aside', 'Trago', 'rightfully', 'brow', 'ago', 'Mia', 'segment', 'stems', 'suerte', 'font', 'rude', 'chronic', 'crevices', 'easier', 'helped', 'generous', 'snob', 'Keep', 'countless', 'bargain', 'depressed', 'lava', 'sold', 'Chance', 'eggy', 'read', 'hoops', 'neighbourhood', 'everyday', 'contrasts', 'semi', 'deteriorated', 'millennial', 'runny', 'ball', 'qualm', 'fluke', 'spirit', 'scream', 'overpowered', 'discover', 'WAY', 'runs', 'yumminess', 'caught', 'solo', 'Tok', 'handled', 'pair', 'Dessert', 'energy', 'Jacks', 'shadowed', 'Self', 'style', 'around', 'tickle', 'Doors', 'wake', 'Overall', 'companies', 'Renaissance', 'sturdy', 'blame', 'garlic', 'Do', 'lacked', 'forevermore', 'Blazers', 'Scratching', 'mapo', 'dryers', 'modest', 'Lowell', 'leaving', 'surroundings', 'greeting', 'Blanca', 'calling', 'tufts', 'frustrated', 'lower', 'attention', 'thru', 'lazying', 'bullish', 'Split', 'restroom', 'Coke', 'gnawed', 'bordering', 'cars', 'floor', 'purpose', 'hub', 'wrapped', 'slicer', 'comes', 'apartment', 'helpings', 'Mine', 'gotten', 'Leaves', 'nonetheless', 'shunned', 'LIPSTICK', 'pastries', 'beer', 'sits', 'smokey', 'rolls', 'Pairings', 'unsatisfied', 'Being', 'Fi', 'NOT', 'orange', 'smudged', 'miscalculated', 'lost', 'Pepe', 'odd', 'month', 'margaritas', 'interact', 'carved', 'pleasure', 'field', 'Dallas', 'highway', 'Waste', 'fish', 'boards', 'ok', 'Disappointed', 'queen', 'Ritas', 'chalkboard', 'many', 'rocked', 'year', 'autistic', 'unpleasant', 'wet', 'Expedia', 'peer', 'Phoenix', 'processed', 'drinking', 'prawn', 'Homewood', 'general', 'fortune', 'bowl', 'Altogether', 'Rainforest', 'determined', 'list', 'Grey', 'beverage', 'blood', 'baby', 'Work', 'professionally', 'explained', 'clue', 'receptive', 'houses', 'Pils', 'Tiramisu', 'fanfare', 'tsk', 'Appetizer', 'marinara', 'amounts', 'NW', 'Ok', 'sliced', 'management', 'shamrock', 'apres', 'Complete', 'JFK', 'Butler', 'bottoml', 'ipa', 'suggestions', 'Chang', 'everything', 'aggrevations', 'Frogmore', 'fave', 'dishonesty', 'Juergens', 'visible', 'Kinda', 'Salsa', 'Scion', 'spending', 'Boulder', 'But', 'Bulbs', 'government', 'Actually', 'flatbread', 'Sam', 'shame', 'rooming', 'niceties', 'solve', 'failure', 'suffers', 'son', 'There', 'reply', 'touchable', 'isolation', 'Everywhere', 'world', 'answer', 'pricing', 'imagine', 'worker', 'passionfruit', 'Okay', 'Boxer', 'macaron', 'individually', 'Linda', 'peak', 'ideas', 'barefoot', 'etc', 'members', 'Constable', 'Ninja', 'magazine', 'dark', 'Yalla', 'disappointment', 'admit', 'Animal', 'Mr', 'gommage', 'intention', 'fifty', 'flatscreens', 'Style', 'Chain', 'ignore', 'suggestion', 'avid', 'd', 'running', 'pies', 'mostly', 'therapist', 'cashier', 'ambiance', 'Morrison', 'girlfriend', 'Store', 'freakin', 'sparse', 'patient', 'Azul', 'draught', 'diversity', 'guessed', 'Burger', 'flower', 'rushing', 'Navarro', 'appetizer', 'Robert', 'popsicles', 'thankfully', 'square', 'Evidently', 'fixens', 'Kalamata', 'mold', 'word', 'Stop', 'Laura', 'Ria', 'showers', 'project', 'beware', 'guessing', 'Van', 'Mark', 'Tasia', 'seating', 'Sushi', 'Sahara', 'Hash', 'Clay', 'neon', 'details', 'poached', 'Whenever', 'hype', 'offerings', 'impression', 'practical', 'disgusting', 'steamers', 'like', 'bombing', 'teaming', 'habit', 'knocked', 'United', 'Tuscan', 'abuse', 'Rather', 'turn', 'putting', 'IS', 'paint', 'horried', 'SECOND', 'Ikea', 'hawthorn', 'Crudo', 'Hadn', 'exception', 'chosen', 'entertainment', 'alterations', 'Mamacita', 'Burgers', 'cavatelli', 'Its', 'Baristas', 'Honeysuckle', 'merchandise', 'sweetish', 'purchases', 'groceries', 'Central', 'kashk', 'ALL', 'Mandarin', 'courts', 'remind', 'exam', 'Gables', 'remains', 'obligatory', 'yummY', 'pop', 'camera', 'Dunkin', 'laundry', 'Pinto', 'Angela', 'better', 'Tourists', 'HOT', 'temperatures', 'thanksgiving', 'Pear', 'Inman', 'surrounded', 'curtains', 'being', 'round', 'invested', 'exceedingly', 'Ribeye', 'choices', 'seem', 'skill', 'laptop', 'liven', 'formal', 'problem', 'GO', 'shucks', 'timer', 'mishap', 'three', 'between', 'Disliked', 'easily', 'baggie', 'helpful', 'her', 'Wraps', 'improves', 'ceremony', 'pant', 'terrific', 'describing', 'employees', 'business', 'Order', 'expanded', 'flavorful', 'Attention', 'array', 'kills', 'THERE', 'hovering', 'mingle', 'Bourque', 'agrees', 'specialist', 'hopdoddys', 'weights', 'imo', 'hitch', 'Though', 'cafe', 'bunny', 'beautifully', 'dinner', 'Rivers', 'bare', 'GL', 'guest', 'adorable', 'bug', 'cakebatter', 'removal', 'adept', 'However', 'vibrant', 'brewing', 'trip', 'Chipotle', 'Enjoy', 'decors', 'davis', 'gimmick', 'gal', 'sundoboo', 'dusting', 'Zuni', 'Completely', 'paneer', 'Chow', 'browse', 'Tasty', 'somebody', 'see', 'bitters', 'as', 'grosse', 'tbh', 'tamarind', 'loves', 'THIS', 'dimly', 'REAL', 'windy', 'gelatos', 'cheers', 'lodge', 'took', 'unpalatable', 'Catherine', 'allowing', 'basically', 'Highly', 'exchange', 'plague', 'never', 'these', 'sacrifice', 'Not', 'ruled', 'Arguably', 'hush', 'driven', 'Osteria', 'post', 'Bindi', 'must', 'expectations', 'Rosa', 'braids', 'Twig', 'goodwill', 'jobs', 'existed', 'Better', 'slots', 'nowhere', 'inspire', 'of', 'apps', 'remembered', 'indecisive', 'Ebi', 'benches', 'unfortunate', 'pro', 'meticulous', 'n', 'Hopson', 'metro', 'learn', 'Ohlin', 'soak', 'whose', 'straight', 'birthday', 'declicious', 'Canada', 'sophisticated', 'ton', 'Christiane', 'raucous', 'motorcycling', 'vouching', 'involved', 'SOY', 'ruin', 'apply', 'pools', 'Ultimately', 'smallest', 'Pizza', 'bugged', 'Her', 'Theater', 'Mayes', 'finishes', 'Brazil', 'critical', 'caring', 'indulge', 'ALSO', 'pescado', 'Followed', 'user', 'tarp', 'ghetto', 'zeroed', 'freezing', 'dough', 'Conference', 'continued', 'directed', 'commenced', 'jewel', 'dad', 'cakes', 'menu', 'goodies', 'Anacondas', 'Abu', 'sorry', 'My', 'macs', 'Chilaquiles', 'complains', 'ELSEWHERE', 'exit', 'Once', 'dang', 'brush', 'seats', 'Servers', 'Won', 'intense', 'doubled', 'downtown', 'tempeh', 'Thirdly', 'affordable', 'crust', 'messes', 'accommodated', 'bikes', 'declined', 'fashion', 'squeaky', 'austin', 'thee', 'Inexpensive', 'scooping', 'prob', 'greenery', 'prompt', 'appes', 'late', 'Guillermo', 'WAS', 'forego', 'coconut', 'children', 'utmost', 'comforting', 'references', 'Chicago', 'lettuce', 'DRY', 'enter', 'eating', 'Brown', 'himself', 'goat', 'con', 'Pepsi', 'Cheap', 'allowed', 'Scoozi', 'Wings', 'rock', 'taster', 'sets', 'promote', 'valet', 'library', 'diced', 'staffs', 'creative', 'bones', 'closing', 'astonished', 'Timber', 'knowledgable', 'More', 'grateful', 'networks', 'concerned', 'ceilings', 'stirred', 'technique', 'screaming', 'Little', 'wash', 'dejeuner', 'seeing', 'score', 'rockers', 'effort', 'WVM', 'measurements', 'disability', 'loaded', 'importantly', 'Cannondale', 'potential', 'imaginative', 'dividers', 'tag', 'bunkbeds', 'afterwards', 'smoothly', 'jowl', 'sheets', 'Heaven', 'eat', 'ants', 'apart', 'quite', 'Bubbi', 'Bacon', 'SO', 'greens', 'Ann', 'Same', 'centrally', 'appliances', 'chicken', 'daikon', 'Punjab', 'Why', 'immature', 'Oba', 'lest', 'pushy', 'tie', 'promptness', 'slide', 'mixed', 'vacation', 'office', 'tension', 'PP', 'Cali', 'became', 'pickles', 'speech', 'horrid', 'BTS', 'insinuated', 'painted', 'moment', 'poor', 'tree', 'Stay', 'frankly', 'Resturant', 'tickets', 'fill', 'hoped', 'deal', 'Africa', 'Bakeshop', 'idiot', 'towed', 'layer', 'Pru', 'hard', 'Avis', 'Bottomless', 'Uptown', 'wrapping', 'garage', 'i', 'hazelnut', 'Barista', 'spin', 'uni', 'swindle', 'breaking', 'romance', 'clinic', 'aioli', 'nation', 'Dumplings', 'ground', 'tasks', 'Valentine', 'suction', 'guess', 'listened', 'samples', 'stacked', 'Cant', 'eclectic', 'vacant', 'called', 'shiny', 'starters', 'respite', 'Pastry', 'good', 'ink', 'whole', 'Drive', 'review', 'phoned', 'chlorine', 'Rogan', 'dingy', 'pace', 'dirtiest', 'parked', 'abita', 'assembling', 'reasonably', 'appies', 'american', 'Mary', 'Course', 'ourselves', 'acoustic', 'illness', 'Price', 'Sake', 'narrow', 'and', 'Occidental', 'appreciated', 'slept', 'softserve', 'plus', 'plaintains', 'Ryan', 'Gulf', 'footage', 'fights', 'Feasted', 'cockroach', 'lukewarm', 'locations', 'approx', 'babies', 'vegan', 'Noodles', 'STARS', 'arrangement', 'arrive', 'request', 'bitchy', 'dissappointing', 'spotless', 'YEARS', 'harsher', 'ibuprofen', 'steep', 'unacceptable', 'assisting', 'incredibly', 'roommates', 'station', 'saltiness', 'celebrating', 'Ernie', 'None', 'Spinach', 'wish', 'bottles', 'Golden', 'registers', 'coz', 'grand', 'shuttle', 'auto', 'safari', 'kicking', 'Dick', 'Technicians', 'lunches', 'emergency', 'croissants', 'tango', 'Pizze', 'Swedish', 'contemplated', 'Hummus', 'aches', 'Mechanics', 'slaw', 'sensational', 'rapid', 'superb', 'Yak', 'soon', 'lackluster', 'Sundays', 'doctor', 'gelatinous', 'Octopus', 'Ronald', 'attachment', 'battered', 'suspect', 'neurotically', 'Tables', 'waitstaff', 'options', 'NOTE', 'Wait', 'Dinner', 'mosquito', 'Fresh', 'locavore', 'Twilight', 'kyma', 'process', 'roasted', 'responsive', 'savor', 'Ale', 'Johnny', 'Simple', 'Lebanese', 'jacked', 'Spain', 'mouthfuls', 'overpowering', 'heavily', 'soup', 'switch', 'talking', 'vision', 'two', 'lowered', 'rabe', 'reception', 'dozen', 'UNPROFESSIONAL', 'Barbara', 'pills', 'sandwiches', 'entire', 'Mondo', 'Newbury', 'normal', 'waaaaaaaaay', 'search', 'wanted', 'Boyfriend', 'cardio', 'If', 'logs', 'interesting', 'now', 'These', 'apologetic', 'paragraph', 'Newport', 'Truffle', 'binary', 'manicures', 'na', 'complaints', 'btone', 'buffed', 'calculate', 'spill', 'peppers', 'limb', 'Moved', 'Salon', 'wasnt', 'response', 'Apparently', 'Christ', 'benefit', 'Lebron', 'crunch', 'catches', 'anymore', 'terms', 'stamps', 'flies', 'sent', 'LOVES', 'credit', 'Shawarma', 'mom', 'deciding', 'translated', 'Tso', 'term', 'medium', 'lo', 'pleasant', 'neighbors', 'bagels', 'ripped', 'preperation', 'subtracting', 'noisy', 'Wanted', 'fry', 'Needed', 'underlying', 'DONT', 'shipyard', 'bottom', 'apples', 'rogan', 'dolmas', 'tattoo', 'augmentation', 'Eww', 'partly', 'law', 'Checked', 'bartenders', 'carefully', 'representative', 'swallowing', 'nots', 'exceeded', 'disappointing', 'fries', 'enquire', 'scary', 'USB', 'Terrible', 'loss', 'scramble', 'itemize', 'detailed', 'symphony', 'expired', 'Kelly', 'figured', 'painting', 'shoots', 'skimpy', 'removed', 'believable', 'Convenient', 'kicker', 'lol', 'appetizers', 'orders', 'lacking', 'avoiding', 'downstairs', 'Arepas', 'identifying', 'disposals', 'among', 'assuming', 'adventurous', 'WE', 'egg', 'Beef', 'schedule', 'felt', 'Tires', 'Dollar', 'renewed', 'Papa', 'silverware', 'Concierges', 'traditionally', 'insulting', 'mao', 'person', 'Kahuna', 'LOT', 'Folly', 'marked', 'flash', 'dig', 'Good', 'assignment', 'perspective', 'Ron', 'German', 'Adam', 'waiters', 'plenty', 'Luke', 'Taste', 'Most', 'Primavera', 'whilst', 'desire', 'spots', 'vide', 'withing', 'reliable', 'shortly', 'southeast', 'choy', 'False', 'snarky', 'apologized', 'resolved', 'playground', 'orthe', 'Almost', 'Highlander', 'unisex', 'broken', 'taste', 'accused', 'breadsticks', 'pastrami', 'Chin', 'considerable', 'ordinary', 'wonderful', 'buffet', 'Mamas', 'Typically', 'Rabbit', 'washing', 'Tri', 'bender', 'Naked', 'savoury', 'caramel', 'Boo', 'consumed', 'Hura', 'KSM', 'benny', 'Direct', 'Cappucino', 'dramatic', 'snot', 'image', 'reaction', 'baseboards', 'tight', 'ricotta', 'Rishi', 'pizza', 'hearty', 'Housekeeping', 'Cru', 'Pamloma', 'yolk', 'Irish', 'take', 'meat', 'camouflaged', 'Tree', 'special', 'mess', 'Original', 'hooked', 'manga', 'mud', 'experiance', 'peaceful', 'hakka', 'numerous', 'LA', 'LIKE', 'medical', 'venture', 'Carne', 'farther', 'subdued', 'really', 'displayed', 'Hector', 'follows', 'detox', 'seafood', 'forget', 'merchants', 'MODO', 'to', 'AirBnB', 'cell', 'venison', 'pulling', 'Waitstaff', 'matter', 'unlikely', 'Southern', 'Enchiladas', 'unprofessionalism', 'crying', 'bed', 'Ethiopian', 'conditioning', 'production', 'tips', 'He', 'Robson', 'Club', 'minimizing', 'water', 'shared', 'Angeles', 'Fowler', 'porch', 'miserably', 'switched', 'training', 'Botched', 'Mardi', 'Huh', 'virgin', 'Seemed', 'Pao', 'Watertown', 'overdue', 'thinner', 'Izukaya', 'sun', 'vanilla', 'Appliances', 'Aquarium', 'advised', 'communicate', 'tens', 'off', 'scrutinized', 'beacutiful', 'amusement', 'falafels', 'Neat', 'mango', 'embarassed', 'sampler', 'VE', 'MISTAKE', 'splice', 'papa', 'flattened', 'relax', 'tow', 'bombs', 'attitudes', 'HIGH', 'combinations', 'ketchup', 'Porter', 'repeated', 'wiring', 'MONEY', 'nurse', 'BOSTON', 'explore', 'Glenn', 'cleanliness', 'liquidy', 'Heidi', 'miniature', 'TRYING', 'ling', 'delicious', 'Where', 'heck', 'happen', 'server', 'awhile', 'recked', 'root', 'dysfunctional', 'pizzas', 'stages', 'improve', 'soggy', 'privacy', 'text', 'SuperCuts', 'statement', 'June', 'Micheal', 'tried', 'dressing', 'tuna', 'Awful', 'gross', 'normally', 'curries', 'borderline', 'heating', 'Wonton', 'Po', 'Peppers', 'always', 'Bud', 'stretched', 'foster', 'culprit', 'agreement', 'consisted', 'teach', 'Benny', 'finger', 'curried', 'Stylists', 'routine', 'allow', 'rare', 'mentioning', 'respect', 'alas', 'bummer', 'lunch', 'tomato', 'diamond', 'nervous', 'braised', 'Shellac', 'occasionally', 'po', 'Away', 'Vikram', 'sink', 'functioning', 'Nostra', 'foil', 'Bartender', 'aroma', 'detail', 'edition', 'Angel', 'Tuesday', 'indicates', 'cuban', 'support', 'wow', 'huh', 'Greek', 'thrilled', 'RN', 'bao', 'Pit', 'reshmi', 'meet', 'succe', 'result', 'C', 'often', 'Street', 'rotating', 'assortment', 'waived', 'bells', 'subject', 'en', 'unfair', 'prepackaged', 'unnecessary', 'Food', 'boasts', 'lunchtime', 'unsuccessfully', 'cohort', 'unique', 'lids', 'chaos', 'picked', 'informal', 'ONION', 'contender', 'buddy', 'bridal', 'smoked', 'Josh', 'sprinkle', 'platter', 'Head', 'pick', 'final', 'block', 'football', 'pricy', 'Intolerable', 'Startlingly', 'um', 'caramelized', 'Eatery', 'skinny', 'Ugh', 'bag', 'catering', 'asleep', 'pushing', 'Mariano', 'maybe', 'experiences', 'Up', 'suggest', 'ginormous', 'flour', 'lusting', 'sake', 'reason', 'European', 'aggressive', 'problems', 'complementary', 'cavern', 'finesse', 'Summer', 'demerit', 'Complementary', 'provides', 'G', 'Everybody', 'Entrees', 'Plenty', 'keys', 'takers', 'sprawl', 'busier', 'demeanor', 'largely', 'inspector', 'crawling', 'success', 'connected', 'Abe', 'speek', 'brother', 'bellboys', 'Veggie', 'respected', 'Biggest', 'maintains', 'decent', 'plastic', 'recipent', 'prefect', 'brunette', 'croissant', 'downhill', 'outfits', 'described', 'sports', 'bday', 'informed', 'either', 'strip', 'believing', 'pharmacist', 'Iphone', 'suckin', 'grandma', 'works', 'introduction', 'Produce', 'wandering', 'fondue', 'La', 'second', 'Customer', 'entry', 'McMenamins', 'formed', 'GROSS', 'oolong', 'weight', 'dryer', 'Pancakes', 'Co', 'Queso', 'Kitchen', 'Malbec', 'mouth', 'Mike', 'steamed', 'balancing', 'Evo', 'snapped', 'balanced', 'some', 'sad']\n",
            "[ 640 8079 5377 ... 3058 8244 7772]\n",
            "[[0. 0. 0. ... 0. 0. 0.]\n",
            " [0. 0. 0. ... 0. 0. 0.]\n",
            " [0. 0. 0. ... 0. 0. 0.]\n",
            " ...\n",
            " [0. 0. 0. ... 0. 0. 0.]\n",
            " [0. 0. 0. ... 0. 0. 0.]\n",
            " [0. 0. 0. ... 0. 0. 0.]]\n"
          ]
        }
      ],
      "source": [
        "from numpy import argmax\n",
        "from sklearn.preprocessing import LabelEncoder\n",
        "from sklearn.preprocessing import OneHotEncoder\n",
        "\n",
        "# words to be encoded\n",
        "values = list(corpus_dict.keys())\n",
        "print(values)\n",
        "\n",
        "# integer encode\n",
        "label_encoder = LabelEncoder()\n",
        "integer_encoded = label_encoder.fit_transform(values)\n",
        "print(integer_encoded)\n",
        "\n",
        "# binary encode\n",
        "onehot_encoder = OneHotEncoder(sparse=False)\n",
        "integer_encoded = integer_encoded.reshape(len(integer_encoded), 1)\n",
        "onehot_encoded_vectors = onehot_encoder.fit_transform(integer_encoded)\n",
        "print(onehot_encoded_vectors)\n"
      ]
    },
    {
      "cell_type": "markdown",
      "metadata": {
        "id": "AFaEmFr4ukhF"
      },
      "source": [
        "**TF-IDF**"
      ]
    },
    {
      "cell_type": "markdown",
      "metadata": {
        "id": "GYn-ud_MEGo1"
      },
      "source": [
        "Term frequency-inverse document frequency (TF-IDF) is a feature vectorization method widely used in text mining to reflect the importance of a term to a document in the corpus. Denote a term by $t$, a document by $d$, and the corpus by $D$. Term frequency $T F(t, d)$ is the number of times that term $t$ appears in document $d$, while document frequency $D F(t, D)$ is the number of documents that contains term $t$. If we only use term frequency to measure the importance, it is very easy to overemphasize terms that appear very often but carry little information about the document, e.g., \"a\", \"the\", and \"of\". If a term appears very often across the corpus, it means it doesn't carry special information about a particular document. Inverse document frequency helps score the rarity of words and is a numerical measure of how much information a term provides"
      ]
    },
    {
      "cell_type": "markdown",
      "metadata": {
        "id": "PX2waPIiIfg7"
      },
      "source": [
        "We use the sklearn [TfidfVectorizer](https://scikit-learn.org/stable/modules/generated/sklearn.feature_extraction.text.TfidfVectorizer.html) which\n",
        "transforms text into a sparse matrix of n-gram counts followed by the TF-IDF transformation from the matrix of counts."
      ]
    },
    {
      "cell_type": "code",
      "execution_count": null,
      "metadata": {
        "id": "kgXpDxbjcnHV"
      },
      "outputs": [],
      "source": [
        "from sklearn.feature_extraction.text import TfidfVectorizer"
      ]
    },
    {
      "cell_type": "code",
      "execution_count": null,
      "metadata": {
        "id": "7VhFZgv4c1iI"
      },
      "outputs": [],
      "source": [
        "vect = TfidfVectorizer(tokenizer=preprocess_and_tokenize, sublinear_tf=True, norm='l2', ngram_range=(1, 2))\n",
        "\n",
        "# fit on our complete corpus\n",
        "vect.fit_transform(reviews)\n",
        "\n",
        "# transform datasets to vectors\n",
        "tfidf_vectors = vect.transform(reviews)"
      ]
    },
    {
      "cell_type": "markdown",
      "metadata": {
        "id": "OIm9xu8Dueq9"
      },
      "source": [
        "**Word2Vec**"
      ]
    },
    {
      "cell_type": "markdown",
      "metadata": {
        "id": "5UJjcY3phZ0k"
      },
      "source": [
        "Download pretrained word2vec vectors or wget is as follows "
      ]
    },
    {
      "cell_type": "code",
      "execution_count": null,
      "metadata": {
        "id": "PNUx_D9YNcsw"
      },
      "outputs": [],
      "source": [
        "from gensim import models"
      ]
    },
    {
      "cell_type": "code",
      "execution_count": null,
      "metadata": {
        "colab": {
          "base_uri": "https://localhost:8080/"
        },
        "id": "LQU9oYjyDbbN",
        "outputId": "d39238c1-e7e6-4580-905d-e77580b52db1"
      },
      "outputs": [
        {
          "name": "stdout",
          "output_type": "stream",
          "text": [
            "--2022-03-28 12:41:34--  https://s3.amazonaws.com/dl4j-distribution/GoogleNews-vectors-negative300.bin.gz\n",
            "Resolving s3.amazonaws.com (s3.amazonaws.com)... 54.231.199.112\n",
            "Connecting to s3.amazonaws.com (s3.amazonaws.com)|54.231.199.112|:443... connected.\n",
            "HTTP request sent, awaiting response... 200 OK\n",
            "Length: 1647046227 (1.5G) [application/x-gzip]\n",
            "Saving to: ‘GoogleNews-vectors-negative300.bin.gz’\n",
            "\n",
            "GoogleNews-vectors- 100%[===================>]   1.53G   100MB/s    in 19s     \n",
            "\n",
            "2022-03-28 12:41:53 (82.5 MB/s) - ‘GoogleNews-vectors-negative300.bin.gz’ saved [1647046227/1647046227]\n",
            "\n"
          ]
        }
      ],
      "source": [
        "!wget \"https://s3.amazonaws.com/dl4j-distribution/GoogleNews-vectors-negative300.bin.gz\""
      ]
    },
    {
      "cell_type": "markdown",
      "metadata": {
        "id": "dJKiWoriiM8B"
      },
      "source": [
        "Load the word2vec vectors"
      ]
    },
    {
      "cell_type": "code",
      "execution_count": null,
      "metadata": {
        "id": "jmpDY0qHDeVL"
      },
      "outputs": [],
      "source": [
        "word2vec_model = models.KeyedVectors.load_word2vec_format('GoogleNews-vectors-negative300.bin.gz', binary=True)\n",
        "def getVectorFromW2V(str):\n",
        " if str in word2vec_model:\n",
        "  return word2vec_model[str]\n",
        " else:\n",
        "  return None"
      ]
    },
    {
      "cell_type": "markdown",
      "metadata": {
        "id": "SnJtQ7ARiSlv"
      },
      "source": [
        "Map your vocabulary to the word2vec representations"
      ]
    },
    {
      "cell_type": "code",
      "execution_count": null,
      "metadata": {
        "id": "7buLHe4NNuGr"
      },
      "outputs": [],
      "source": [
        "def get_w2v_embeddings(corpus_dict):\n",
        "  w2v_embeddings = np.zeros((len(corpus_dict) + 1, 300))\n",
        "  for word,i in corpus_dict.items():\n",
        "    w2v_vector = getVectorFromW2V(word)\n",
        "  if w2v_vector is not None:\n",
        "    w2v_embeddings[i] = w2v_vector\n",
        "  return w2v_embeddings"
      ]
    },
    {
      "cell_type": "markdown",
      "metadata": {
        "id": "u65A9v2Tughi"
      },
      "source": [
        "**Glove**"
      ]
    },
    {
      "cell_type": "markdown",
      "metadata": {
        "id": "cbl4my6BA856"
      },
      "source": [
        " GloVe is an unsupervised learning algorithm for obtaining vector representations for words. Training is performed on aggregated global word-word co-occurrence statistics from a corpus, and the resulting representations showcase interesting linear substructures of the word vector space.\n",
        "\n",
        "Download one of the 4 variants of the pre-trained Glove vectors from https://nlp.stanford.edu/projects/glove/\n",
        "OR\n",
        "For convenience in Google Colab, wget it as follows"
      ]
    },
    {
      "cell_type": "code",
      "execution_count": null,
      "metadata": {
        "id": "X7Xw_ahQNfG0"
      },
      "outputs": [],
      "source": [
        "import zipfile"
      ]
    },
    {
      "cell_type": "code",
      "execution_count": null,
      "metadata": {
        "colab": {
          "base_uri": "https://localhost:8080/"
        },
        "id": "U7adQrb2_Aq1",
        "outputId": "a0fe18a3-a70a-4bb9-f1ce-0bf566b80e24"
      },
      "outputs": [
        {
          "name": "stdout",
          "output_type": "stream",
          "text": [
            "--2022-03-28 12:47:18--  http://nlp.stanford.edu/data/glove.6B.zip\n",
            "Resolving nlp.stanford.edu (nlp.stanford.edu)... 171.64.67.140\n",
            "Connecting to nlp.stanford.edu (nlp.stanford.edu)|171.64.67.140|:80... connected.\n",
            "HTTP request sent, awaiting response... 302 Found\n",
            "Location: https://nlp.stanford.edu/data/glove.6B.zip [following]\n",
            "--2022-03-28 12:47:18--  https://nlp.stanford.edu/data/glove.6B.zip\n",
            "Connecting to nlp.stanford.edu (nlp.stanford.edu)|171.64.67.140|:443... connected.\n",
            "HTTP request sent, awaiting response... 301 Moved Permanently\n",
            "Location: http://downloads.cs.stanford.edu/nlp/data/glove.6B.zip [following]\n",
            "--2022-03-28 12:47:19--  http://downloads.cs.stanford.edu/nlp/data/glove.6B.zip\n",
            "Resolving downloads.cs.stanford.edu (downloads.cs.stanford.edu)... 171.64.64.22\n",
            "Connecting to downloads.cs.stanford.edu (downloads.cs.stanford.edu)|171.64.64.22|:80... connected.\n",
            "HTTP request sent, awaiting response... 200 OK\n",
            "Length: 862182613 (822M) [application/zip]\n",
            "Saving to: ‘glove.6B.zip’\n",
            "\n",
            "glove.6B.zip        100%[===================>] 822.24M  4.79MB/s    in 2m 44s  \n",
            "\n",
            "2022-03-28 12:50:03 (5.01 MB/s) - ‘glove.6B.zip’ saved [862182613/862182613]\n",
            "\n"
          ]
        }
      ],
      "source": [
        "!wget http://nlp.stanford.edu/data/glove.6B.zip\n",
        "zip_ref = zipfile.ZipFile(\"/content/glove.6B.zip\", 'r')\n",
        "zip_ref.extractall(\"/content/\")\n",
        "zip_ref.close()"
      ]
    },
    {
      "cell_type": "markdown",
      "metadata": {
        "id": "zVk7yiu0jW2D"
      },
      "source": [
        "Load the Glove vectors"
      ]
    },
    {
      "cell_type": "code",
      "execution_count": null,
      "metadata": {
        "id": "cJGB26wBudg8"
      },
      "outputs": [],
      "source": [
        "f = open('glove.6B.300d.txt') \n",
        "embedd_index = {}\n",
        "for line in f:\n",
        "  val = line.split()\n",
        "  word = val[0]\n",
        "  coff = np.asarray(val[1:],dtype = 'float')\n",
        "  embedd_index[word] = coff\n",
        "f.close()"
      ]
    },
    {
      "cell_type": "markdown",
      "metadata": {
        "id": "033oTGgLjXst"
      },
      "source": [
        "Map your vocabulary to the Glove representations"
      ]
    },
    {
      "cell_type": "code",
      "execution_count": null,
      "metadata": {
        "id": "zILFKDA3N4i3"
      },
      "outputs": [],
      "source": [
        "def get_glove_embeddings(corpus_dict):\n",
        "  glove_embeddings = np.zeros((len(corpus_dict) + 1, 300))\n",
        "  for word,i in corpus_dict.items():\n",
        "    glove_emb = embedd_index.get(word)\n",
        "    if glove_emb is not None:\n",
        "        glove_embeddings[i] = glove_emb\n",
        "  return glove_embeddings"
      ]
    },
    {
      "cell_type": "markdown",
      "metadata": {
        "id": "UaU02WXDvQNB"
      },
      "source": [
        "# Contextual Embeddings\n",
        "Learn sequence-level semantics by considering the sequence of all words in the documents"
      ]
    },
    {
      "cell_type": "markdown",
      "metadata": {
        "id": "KkR-0D4o7Pol"
      },
      "source": [
        "**BERT**"
      ]
    },
    {
      "cell_type": "code",
      "execution_count": null,
      "metadata": {
        "id": "wINdmMdXNGw9"
      },
      "outputs": [],
      "source": [
        "!pip install transformers"
      ]
    },
    {
      "cell_type": "code",
      "execution_count": null,
      "metadata": {
        "id": "lZBKeNHGKFeD"
      },
      "outputs": [],
      "source": [
        "from transformers import BertTokenizer, BertModel\n",
        "import torch\n",
        "from sklearn.metrics import classification_report\n",
        "from tqdm import tqdm\n",
        "import numpy as np\n",
        "import pandas as pd\n",
        "import pickle"
      ]
    },
    {
      "cell_type": "markdown",
      "metadata": {
        "id": "kfQqS2tNlczY"
      },
      "source": [
        "Initialize the model and tokenizer. We have used the bert-base-uncased for demo. Lighter variations like [distilbert-base-uncased](https://huggingface.co/distilbert-base-uncased), representations from transformers like [BART](https://huggingface.co/docs/transformers/model_doc/bart) and several other transformers also work very similarly"
      ]
    },
    {
      "cell_type": "code",
      "execution_count": null,
      "metadata": {
        "id": "Zgn6P64tMX_b"
      },
      "outputs": [],
      "source": [
        "MODEL_NAME = 'bert-base-uncased'"
      ]
    },
    {
      "cell_type": "code",
      "execution_count": null,
      "metadata": {
        "id": "AOHIviqdKMck"
      },
      "outputs": [],
      "source": [
        "tokenizer = BertTokenizer.from_pretrained(MODEL_NAME)\n",
        "print(\"bert model is now available\")\n",
        "model = BertModel.from_pretrained(MODEL_NAME)\n",
        "model = model.to(torch.device('cpu'))\n",
        "model.eval()"
      ]
    },
    {
      "cell_type": "markdown",
      "metadata": {
        "id": "mrfaS5domzEC"
      },
      "source": [
        "Extract sentence level representations"
      ]
    },
    {
      "cell_type": "code",
      "execution_count": null,
      "metadata": {
        "id": "oIiY0v5BKNoV"
      },
      "outputs": [],
      "source": [
        "# Input:Text Sentence, Output:BERT Representation of the sentence\n",
        "def get_bert_embeddings(text):\n",
        "\n",
        "    '''\n",
        "    1.  Use the BERT tokenizer to first split the word into tokens\n",
        "    2.  Add the special tokens needed for sentence classifications (these are [CLS] at the first position, and [SEP] at the end of the sentence).\n",
        "    3.  Replace each token with its id from the embedding table which is a component we get with the trained model.\n",
        "    '''\n",
        "    inputs = tokenizer(text, return_tensors=\"pt\")\n",
        "    outputs = model(**inputs,output_hidden_states=True)\n",
        "    hidden_states = outputs.hidden_states\n",
        "    token_vecs = torch.cat((hidden_states[-4], torch.cat((hidden_states[-3], torch.cat(\n",
        "        (hidden_states[-2], hidden_states[-1]), dim=0)), dim=0)), dim=0)\n",
        "    vectors = torch.mean(torch.mean(token_vecs, dim=0), dim=0)\n",
        "    return vectors"
      ]
    },
    {
      "cell_type": "markdown",
      "metadata": {
        "id": "0ijtMOhKZ5TN"
      },
      "source": [
        "# References and Useful links"
      ]
    },
    {
      "cell_type": "markdown",
      "metadata": {
        "id": "o32lNpOaZ9wW"
      },
      "source": [
        "\n",
        "\n",
        "*   [TF-IDF](https://medium.com/@cmukesh8688/tf-idf-vectorizer-scikit-learn-dbc0244a911a)\n",
        "*   [Intro To BERT](http://jalammar.github.io/a-visual-guide-to-using-bert-for-the-first-time/)\n",
        "\n",
        "\n",
        "*   [Static Vs Contextual Embeddings](https://stackoverflow.com/questions/62272056/what-are-the-differences-between-contextual-embedding-and-word-embedding)\n",
        "\n",
        "\n",
        "\n",
        "\n"
      ]
    }
  ],
  "metadata": {
    "colab": {
      "collapsed_sections": [],
      "name": "Extract_Embeddings.ipynb",
      "provenance": []
    },
    "kernelspec": {
      "display_name": "Python 3",
      "name": "python3"
    },
    "language_info": {
      "name": "python"
    }
  },
  "nbformat": 4,
  "nbformat_minor": 0
}
